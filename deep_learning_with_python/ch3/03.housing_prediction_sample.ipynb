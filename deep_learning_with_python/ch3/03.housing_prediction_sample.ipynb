{
 "cells": [
  {
   "cell_type": "markdown",
   "metadata": {},
   "source": [
    "# Example #3 Housing Prediction: Chapter 3\n",
    "\n",
    "Example of regression."
   ]
  },
  {
   "cell_type": "markdown",
   "metadata": {},
   "source": [
    "## CPU/GPU Config\n",
    "\n",
    "Using a GPU for this example is slower than using a CPU (on my system).\n",
    "The batch size used for training is very low (the number of features is low too) and prevents you from being able to use the GPU effectively.\n",
    "\n",
    "Some sample average runtimes for training with different batch sizes.\n",
    "\n",
    "    [With CPU - Batch Size 1]       0 days 00:01:23.265555\n",
    "    [With CPU - Batch Size 5]       0 days 00:00:17.589785\n",
    "    [With CPU - Batch Size 10]      0 days 00:00:09.513331\n",
    "    [With CPU - Batch Size 100]     0 days 00:00:02.192333\n",
    "    \n",
    "    [With GPU - Batch Size 1]       0 days 00:04:21.741343\n",
    "    [With GPU - Batch Size 5]       0 days 00:00:54.128071\n",
    "    [With GPU - Batch Size 10]      0 days 00:00:28.202666\n",
    "    [With GPU - Batch Size 100]     0 days 00:00:04.780666"
   ]
  },
  {
   "cell_type": "code",
   "execution_count": 1,
   "metadata": {},
   "outputs": [],
   "source": [
    "# Force use of CPU - This sample is faster than using a GPU for a small batch size.\n",
    "# This needs to be done before importing keras or tensorflow.\n",
    "\n",
    "import os\n",
    "os.environ[\"CUDA_DEVICE_ORDER\"] = \"PCI_BUS_ID\"   # see issue #152\n",
    "os.environ[\"CUDA_VISIBLE_DEVICES\"] = \"-1\""
   ]
  },
  {
   "cell_type": "code",
   "execution_count": 2,
   "metadata": {},
   "outputs": [
    {
     "name": "stderr",
     "output_type": "stream",
     "text": [
      "Using TensorFlow backend.\n"
     ]
    }
   ],
   "source": [
    "import datetime as dt\n",
    "import pandas as pd\n",
    "import numpy as np\n",
    "\n",
    "from keras import models\n",
    "from keras import layers\n",
    "from keras import optimizers\n",
    "\n",
    "import matplotlib.pyplot as plt\n",
    "import seaborn as sns\n",
    "\n",
    "from keras.datasets import boston_housing"
   ]
  },
  {
   "cell_type": "markdown",
   "metadata": {},
   "source": [
    "## Basic Helpers"
   ]
  },
  {
   "cell_type": "code",
   "execution_count": 3,
   "metadata": {},
   "outputs": [],
   "source": [
    "def get_time():\n",
    "    return dt.datetime.now().strftime('%H:%M:%S.%f')"
   ]
  },
  {
   "cell_type": "markdown",
   "metadata": {},
   "source": [
    "# Load Data"
   ]
  },
  {
   "cell_type": "code",
   "execution_count": 4,
   "metadata": {},
   "outputs": [],
   "source": [
    "# Get the feature names from the original dataset description.\n",
    "\n",
    "# http://lib.stat.cmu.edu/datasets/boston\n",
    "variable_description = \"\"\"\n",
    "     CRIM     per capita crime rate by town\n",
    "     ZN       proportion of residential land zoned for lots over 25,000 sq.ft.\n",
    "     INDUS    proportion of non-retail business acres per town\n",
    "     CHAS     Charles River dummy variable (= 1 if tract bounds river; 0 otherwise)\n",
    "     NOX      nitric oxides concentration (parts per 10 million)\n",
    "     RM       average number of rooms per dwelling\n",
    "     AGE      proportion of owner-occupied units built prior to 1940\n",
    "     DIS      weighted distances to five Boston employment centres\n",
    "     RAD      index of accessibility to radial highways\n",
    "     TAX      full-value property-tax rate per $10,000\n",
    "     PTRATIO  pupil-teacher ratio by town\n",
    "     B        1000(Bk - 0.63)^2 where Bk is the proportion of blacks by town\n",
    "     LSTAT    % lower status of the population\n",
    "     MEDV     Median value of owner-occupied homes in $1000's\n",
    "\"\"\"\n",
    "\n",
    "variables = []\n",
    "for line in variable_description.split(\"\\n\"):\n",
    "    parts = line.strip().split()\n",
    "    if len(parts) >= 1:\n",
    "        variables.append(parts[0])\n",
    "        \n",
    "def make_df(data, targets):\n",
    "    df = pd.DataFrame(data=data, columns=variables[0:13])\n",
    "    df[variables[13]] = targets\n",
    "    return df"
   ]
  },
  {
   "cell_type": "code",
   "execution_count": 5,
   "metadata": {},
   "outputs": [],
   "source": [
    "(train_data, train_targets), (test_data, test_targets) = boston_housing.load_data()\n",
    "\n",
    "train_data_df = make_df(train_data, train_targets)\n",
    "test_data_df = make_df(test_data, test_targets)"
   ]
  },
  {
   "cell_type": "markdown",
   "metadata": {},
   "source": [
    "## Explore Data"
   ]
  },
  {
   "cell_type": "code",
   "execution_count": 6,
   "metadata": {},
   "outputs": [
    {
     "data": {
      "image/png": "[encoded data removed]",
      "text/plain": [
       "<Figure size 288x288 with 2 Axes>"
      ]
     },
     "metadata": {
      "needs_background": "light"
     },
     "output_type": "display_data"
    }
   ],
   "source": [
    "# View feature correlation\n",
    "\n",
    "td_corr = train_data_df.corr().abs()\n",
    "plt.figure(figsize = (4,4))\n",
    "sns.heatmap(td_corr, annot=False)\n",
    "plt.show()"
   ]
  },
  {
   "cell_type": "code",
   "execution_count": 7,
   "metadata": {},
   "outputs": [
    {
     "data": {
      "text/html": [
       "<div>\n",
       "<style scoped>\n",
       "    .dataframe tbody tr th:only-of-type {\n",
       "        vertical-align: middle;\n",
       "    }\n",
       "\n",
       "    .dataframe tbody tr th {\n",
       "        vertical-align: top;\n",
       "    }\n",
       "\n",
       "    .dataframe thead th {\n",
       "        text-align: right;\n",
       "    }\n",
       "</style>\n",
       "<table border=\"1\" class=\"dataframe\">\n",
       "  <thead>\n",
       "    <tr style=\"text-align: right;\">\n",
       "      <th></th>\n",
       "      <th>MEDV</th>\n",
       "    </tr>\n",
       "  </thead>\n",
       "  <tbody>\n",
       "    <tr>\n",
       "      <th>MEDV</th>\n",
       "      <td>1.000000</td>\n",
       "    </tr>\n",
       "    <tr>\n",
       "      <th>LSTAT</th>\n",
       "      <td>0.730793</td>\n",
       "    </tr>\n",
       "    <tr>\n",
       "      <th>RM</th>\n",
       "      <td>0.681483</td>\n",
       "    </tr>\n",
       "    <tr>\n",
       "      <th>PTRATIO</th>\n",
       "      <td>0.493990</td>\n",
       "    </tr>\n",
       "    <tr>\n",
       "      <th>INDUS</th>\n",
       "      <td>0.476743</td>\n",
       "    </tr>\n",
       "    <tr>\n",
       "      <th>TAX</th>\n",
       "      <td>0.448737</td>\n",
       "    </tr>\n",
       "    <tr>\n",
       "      <th>NOX</th>\n",
       "      <td>0.438328</td>\n",
       "    </tr>\n",
       "    <tr>\n",
       "      <th>ZN</th>\n",
       "      <td>0.380299</td>\n",
       "    </tr>\n",
       "    <tr>\n",
       "      <th>CRIM</th>\n",
       "      <td>0.378498</td>\n",
       "    </tr>\n",
       "    <tr>\n",
       "      <th>RAD</th>\n",
       "      <td>0.375515</td>\n",
       "    </tr>\n",
       "  </tbody>\n",
       "</table>\n",
       "</div>"
      ],
      "text/plain": [
       "             MEDV\n",
       "MEDV     1.000000\n",
       "LSTAT    0.730793\n",
       "RM       0.681483\n",
       "PTRATIO  0.493990\n",
       "INDUS    0.476743\n",
       "TAX      0.448737\n",
       "NOX      0.438328\n",
       "ZN       0.380299\n",
       "CRIM     0.378498\n",
       "RAD      0.375515"
      ]
     },
     "execution_count": 7,
     "metadata": {},
     "output_type": "execute_result"
    }
   ],
   "source": [
    "td_corr[['MEDV']].sort_values(by='MEDV', ascending=False).head(10)"
   ]
  },
  {
   "cell_type": "code",
   "execution_count": 8,
   "metadata": {},
   "outputs": [
    {
     "data": {
      "image/png": "[encoded data removed]",
      "text/plain": [
       "<Figure size 432x288 with 1 Axes>"
      ]
     },
     "metadata": {
      "needs_background": "light"
     },
     "output_type": "display_data"
    }
   ],
   "source": [
    "plt.hist(train_targets, bins=25)\n",
    "plt.title(\"Median House Values\")\n",
    "plt.xlabel(\"Value in 1000's\")\n",
    "plt.ylabel(\"Count\")\n",
    "plt.grid()\n",
    "plt.show()"
   ]
  },
  {
   "cell_type": "markdown",
   "metadata": {},
   "source": [
    "## Prepare Data"
   ]
  },
  {
   "cell_type": "code",
   "execution_count": 9,
   "metadata": {},
   "outputs": [],
   "source": [
    "mean = train_data.mean(axis=0)\n",
    "std = train_data.std(axis=0)\n",
    "\n",
    "def normalize(data):\n",
    "    return (data - mean) / std\n",
    "\n",
    "train_data_df_norm = normalize(train_data_df.loc[:,variables[0:13]])\n",
    "train_data_df_norm[variables[13]] = train_data_df[variables[13]]\n",
    "\n",
    "test_data_df_norm = normalize(test_data_df.loc[:,variables[0:13]])\n",
    "test_data_df_norm[variables[13]] = test_data_df[variables[13]]"
   ]
  },
  {
   "cell_type": "markdown",
   "metadata": {},
   "source": [
    "## Train Model"
   ]
  },
  {
   "cell_type": "code",
   "execution_count": 10,
   "metadata": {},
   "outputs": [],
   "source": [
    "def k_validation_splits(df, k):\n",
    "    k_s = np.random.randint(0, k, len(df))\n",
    "    for k_i in range(k):\n",
    "        yield((k_i + 1, df[k_s == k_i], df[k_s != k_i]))\n",
    "        \n",
    "def k_validation_train(df, k, fn, verbose=True):\n",
    "    results = []\n",
    "    for k_i, val_df, train_df in k_validation_splits(df, k):\n",
    "        start_t = dt.datetime.now()\n",
    "        results.append(fn(val_df, train_df))\n",
    "        end_t = dt.datetime.now()\n",
    "        exec_t = end_t - start_t\n",
    "        if verbose:\n",
    "            print(f\"Processing of fold {k_i} took: {exec_t}.\")\n",
    "    return results"
   ]
  },
  {
   "cell_type": "code",
   "execution_count": 11,
   "metadata": {},
   "outputs": [
    {
     "name": "stdout",
     "output_type": "stream",
     "text": [
      "Processing of fold 1 took: 0:01:22.997413.\n",
      "Processing of fold 2 took: 0:01:22.686577.\n",
      "Processing of fold 3 took: 0:01:25.303874.\n",
      "Processing of fold 4 took: 0:01:19.889556.\n"
     ]
    }
   ],
   "source": [
    "num_epochs = 200\n",
    "batch_size = 1\n",
    "\n",
    "def build_model():\n",
    "    model = models.Sequential()\n",
    "    model.add(layers.Dense(64, activation='relu', input_shape=(len(variables) - 1,)))\n",
    "    model.add(layers.Dense(64, activation='relu'))\n",
    "    model.add(layers.Dense(1))\n",
    "    model.compile(optimizer='rmsprop', loss='mse', metrics=['mae'])\n",
    "    return model\n",
    "\n",
    "def train_k(val_data, train_data):\n",
    "    train_x = train_data[variables[0:13]]\n",
    "    train_y = train_data[variables[13]]\n",
    "    val_x = val_data[variables[0:13]]\n",
    "    val_y = val_data[variables[13]]\n",
    "\n",
    "    model = build_model()\n",
    "    return model.fit(\n",
    "        train_x,\n",
    "        train_y,\n",
    "        epochs=num_epochs,\n",
    "        batch_size=batch_size,\n",
    "        verbose=0,\n",
    "        validation_data=(val_x, val_y)\n",
    "    )\n",
    "\n",
    "histories = k_validation_train(train_data_df_norm, 4, train_k)"
   ]
  },
  {
   "cell_type": "code",
   "execution_count": 12,
   "metadata": {},
   "outputs": [],
   "source": [
    "def history_to_df(h):\n",
    "    h_df = pd.DataFrame(h.history)\n",
    "    h_df['epoch'] = h_df.index.values + 1\n",
    "    return h_df\n",
    "\n",
    "history = pd.concat(history_to_df(h) for h in histories)\n",
    "h_avgs = history.groupby('epoch').mean()"
   ]
  },
  {
   "cell_type": "code",
   "execution_count": 13,
   "metadata": {},
   "outputs": [],
   "source": [
    "def smooth_curve(points, factor=0.9):\n",
    "    smoothed_points = []\n",
    "    for point in points:\n",
    "        if smoothed_points:\n",
    "            previous = smoothed_points[-1]\n",
    "            smoothed_points.append(previous * factor + point * (1 - factor))\n",
    "        else:\n",
    "            smoothed_points.append(point)\n",
    "    return smoothed_points"
   ]
  },
  {
   "cell_type": "code",
   "execution_count": 14,
   "metadata": {},
   "outputs": [
    {
     "data": {
      "image/png": "[encoded data removed]",
      "text/plain": [
       "<Figure size 432x288 with 1 Axes>"
      ]
     },
     "metadata": {
      "needs_background": "light"
     },
     "output_type": "display_data"
    },
    {
     "data": {
      "image/png": "[encoded data removed]",
      "text/plain": [
       "<Figure size 432x288 with 1 Axes>"
      ]
     },
     "metadata": {
      "needs_background": "light"
     },
     "output_type": "display_data"
    }
   ],
   "source": [
    "#plt.plot(h_avgs.index[10:], smooth_curve(h_avgs.mae[10:]), \"-\", label=\"train\")\n",
    "plt.plot(h_avgs.index[10:], smooth_curve(h_avgs.val_mae[10:]), \"-\", label=\"validation\")\n",
    "plt.grid()\n",
    "plt.title(\"Mean Absolute Error\")\n",
    "plt.legend()\n",
    "plt.show()\n",
    "\n",
    "#plt.plot(h_avgs.index, h_avgs.loss, \"-\", label=\"train\")\n",
    "plt.plot(h_avgs.index, smooth_curve(h_avgs.val_loss), \"-\", label=\"validation\")\n",
    "plt.grid()\n",
    "plt.title(\"Loss\")\n",
    "plt.legend()\n",
    "plt.show()"
   ]
  },
  {
   "cell_type": "markdown",
   "metadata": {},
   "source": [
    "## Train Model"
   ]
  },
  {
   "cell_type": "code",
   "execution_count": 15,
   "metadata": {},
   "outputs": [
    {
     "data": {
      "text/plain": [
       "<keras.callbacks.callbacks.History at 0x15a31a68e88>"
      ]
     },
     "execution_count": 15,
     "metadata": {},
     "output_type": "execute_result"
    }
   ],
   "source": [
    "model = build_model()\n",
    "num_epochs = 80\n",
    "model.fit(\n",
    "    train_data_df_norm[variables[0:13]],\n",
    "    train_data_df_norm[variables[13]],\n",
    "    epochs=num_epochs,\n",
    "    batch_size=batch_size,\n",
    "    verbose=0\n",
    ")"
   ]
  },
  {
   "cell_type": "markdown",
   "metadata": {},
   "source": [
    "## Evaluate Test Results"
   ]
  },
  {
   "cell_type": "code",
   "execution_count": 16,
   "metadata": {},
   "outputs": [
    {
     "name": "stdout",
     "output_type": "stream",
     "text": [
      "17.772428923962163\n",
      "2.471842050552368\n"
     ]
    }
   ],
   "source": [
    "val_mse, val_mae = model.evaluate(\n",
    "    test_data_df_norm[variables[0:13]],\n",
    "    test_data_df_norm[variables[13]],\n",
    "    verbose=0)\n",
    "\n",
    "print(val_mse)\n",
    "print(val_mae)"
   ]
  },
  {
   "cell_type": "code",
   "execution_count": 17,
   "metadata": {},
   "outputs": [],
   "source": [
    "test_data_df['Predicted'] = [r[0] for r in model.predict(test_data_df_norm[variables[0:13]])]"
   ]
  },
  {
   "cell_type": "code",
   "execution_count": 18,
   "metadata": {},
   "outputs": [
    {
     "data": {
      "image/png": "[encoded data removed]",
      "text/plain": [
       "<Figure size 432x288 with 1 Axes>"
      ]
     },
     "metadata": {
      "needs_background": "light"
     },
     "output_type": "display_data"
    }
   ],
   "source": [
    "plt.hist(test_data_df.Predicted, bins=25)\n",
    "plt.title(\"Median House Values\")\n",
    "plt.xlabel(\"Value in 1000's\")\n",
    "plt.ylabel(\"Count\")\n",
    "plt.grid()\n",
    "plt.show()"
   ]
  },
  {
   "cell_type": "code",
   "execution_count": 19,
   "metadata": {},
   "outputs": [
    {
     "data": {
      "image/png": "[encoded data removed]",
      "text/plain": [
       "<Figure size 432x288 with 1 Axes>"
      ]
     },
     "metadata": {
      "needs_background": "light"
     },
     "output_type": "display_data"
    }
   ],
   "source": [
    "plt.hist(test_data_df.Predicted - test_data_df.MEDV, bins=25)\n",
    "plt.title(\"Predicted Price Difference\")\n",
    "plt.grid()\n",
    "plt.show()"
   ]
  },
  {
   "cell_type": "markdown",
   "metadata": {},
   "source": [
    "## See How XGBoost Compares"
   ]
  },
  {
   "cell_type": "code",
   "execution_count": 20,
   "metadata": {},
   "outputs": [],
   "source": [
    "import xgboost as xgb\n",
    "import sklearn.metrics\n",
    "from sklearn.model_selection import train_test_split"
   ]
  },
  {
   "cell_type": "code",
   "execution_count": 21,
   "metadata": {},
   "outputs": [],
   "source": [
    "def combinations(**params):\n",
    "    p_list = list(params.items())\n",
    "    results = []\n",
    "    \n",
    "    def gen(p_current, i):\n",
    "        if i >= len(p_list):\n",
    "            results.append(p_current)\n",
    "            return\n",
    "        else:\n",
    "            key, vals = p_list[i]\n",
    "            for v in vals:\n",
    "                p_next = p_current.copy()\n",
    "                p_next[key] = v\n",
    "                gen(p_next, i+1)\n",
    "    \n",
    "    gen({}, 0)\n",
    "    return results"
   ]
  },
  {
   "cell_type": "code",
   "execution_count": 22,
   "metadata": {},
   "outputs": [
    {
     "data": {
      "text/html": [
       "<div>\n",
       "<style scoped>\n",
       "    .dataframe tbody tr th:only-of-type {\n",
       "        vertical-align: middle;\n",
       "    }\n",
       "\n",
       "    .dataframe tbody tr th {\n",
       "        vertical-align: top;\n",
       "    }\n",
       "\n",
       "    .dataframe thead th {\n",
       "        text-align: right;\n",
       "    }\n",
       "</style>\n",
       "<table border=\"1\" class=\"dataframe\">\n",
       "  <thead>\n",
       "    <tr style=\"text-align: right;\">\n",
       "      <th></th>\n",
       "      <th>max_depth</th>\n",
       "      <th>n_estimators</th>\n",
       "      <th>learning_rate</th>\n",
       "      <th>alpha</th>\n",
       "      <th>objective</th>\n",
       "      <th>mae</th>\n",
       "      <th>val_mae</th>\n",
       "    </tr>\n",
       "  </thead>\n",
       "  <tbody>\n",
       "    <tr>\n",
       "      <th>56</th>\n",
       "      <td>10</td>\n",
       "      <td>300</td>\n",
       "      <td>0.1</td>\n",
       "      <td>5</td>\n",
       "      <td>reg:squarederror</td>\n",
       "      <td>0.000743</td>\n",
       "      <td>2.060750</td>\n",
       "    </tr>\n",
       "    <tr>\n",
       "      <th>60</th>\n",
       "      <td>10</td>\n",
       "      <td>500</td>\n",
       "      <td>0.1</td>\n",
       "      <td>5</td>\n",
       "      <td>reg:squarederror</td>\n",
       "      <td>0.000736</td>\n",
       "      <td>2.100975</td>\n",
       "    </tr>\n",
       "    <tr>\n",
       "      <th>20</th>\n",
       "      <td>5</td>\n",
       "      <td>200</td>\n",
       "      <td>0.1</td>\n",
       "      <td>5</td>\n",
       "      <td>reg:squarederror</td>\n",
       "      <td>0.128931</td>\n",
       "      <td>2.118735</td>\n",
       "    </tr>\n",
       "    <tr>\n",
       "      <th>37</th>\n",
       "      <td>7</td>\n",
       "      <td>200</td>\n",
       "      <td>0.2</td>\n",
       "      <td>5</td>\n",
       "      <td>reg:squarederror</td>\n",
       "      <td>0.000828</td>\n",
       "      <td>2.135054</td>\n",
       "    </tr>\n",
       "    <tr>\n",
       "      <th>45</th>\n",
       "      <td>7</td>\n",
       "      <td>500</td>\n",
       "      <td>0.2</td>\n",
       "      <td>5</td>\n",
       "      <td>reg:squarederror</td>\n",
       "      <td>0.000847</td>\n",
       "      <td>2.135777</td>\n",
       "    </tr>\n",
       "  </tbody>\n",
       "</table>\n",
       "</div>"
      ],
      "text/plain": [
       "    max_depth  n_estimators  learning_rate  alpha         objective       mae  \\\n",
       "56         10           300            0.1      5  reg:squarederror  0.000743   \n",
       "60         10           500            0.1      5  reg:squarederror  0.000736   \n",
       "20          5           200            0.1      5  reg:squarederror  0.128931   \n",
       "37          7           200            0.2      5  reg:squarederror  0.000828   \n",
       "45          7           500            0.2      5  reg:squarederror  0.000847   \n",
       "\n",
       "     val_mae  \n",
       "56  2.060750  \n",
       "60  2.100975  \n",
       "20  2.118735  \n",
       "37  2.135054  \n",
       "45  2.135777  "
      ]
     },
     "metadata": {},
     "output_type": "display_data"
    },
    {
     "data": {
      "text/html": [
       "<div>\n",
       "<style scoped>\n",
       "    .dataframe tbody tr th:only-of-type {\n",
       "        vertical-align: middle;\n",
       "    }\n",
       "\n",
       "    .dataframe tbody tr th {\n",
       "        vertical-align: top;\n",
       "    }\n",
       "\n",
       "    .dataframe thead th {\n",
       "        text-align: right;\n",
       "    }\n",
       "</style>\n",
       "<table border=\"1\" class=\"dataframe\">\n",
       "  <thead>\n",
       "    <tr style=\"text-align: right;\">\n",
       "      <th></th>\n",
       "      <th>val_mae</th>\n",
       "    </tr>\n",
       "  </thead>\n",
       "  <tbody>\n",
       "    <tr>\n",
       "      <th>max_depth</th>\n",
       "      <td>-0.217529</td>\n",
       "    </tr>\n",
       "    <tr>\n",
       "      <th>n_estimators</th>\n",
       "      <td>0.001812</td>\n",
       "    </tr>\n",
       "    <tr>\n",
       "      <th>learning_rate</th>\n",
       "      <td>0.489168</td>\n",
       "    </tr>\n",
       "    <tr>\n",
       "      <th>alpha</th>\n",
       "      <td>NaN</td>\n",
       "    </tr>\n",
       "    <tr>\n",
       "      <th>mae</th>\n",
       "      <td>0.218160</td>\n",
       "    </tr>\n",
       "    <tr>\n",
       "      <th>val_mae</th>\n",
       "      <td>1.000000</td>\n",
       "    </tr>\n",
       "  </tbody>\n",
       "</table>\n",
       "</div>"
      ],
      "text/plain": [
       "                val_mae\n",
       "max_depth     -0.217529\n",
       "n_estimators   0.001812\n",
       "learning_rate  0.489168\n",
       "alpha               NaN\n",
       "mae            0.218160\n",
       "val_mae        1.000000"
      ]
     },
     "metadata": {},
     "output_type": "display_data"
    }
   ],
   "source": [
    "def xgb_train(model_params):\n",
    "    def xgb_train_k(val_data, train_data):\n",
    "        train_x = train_data[variables[0:13]]\n",
    "        train_y = train_data[variables[13]].values\n",
    "        val_x = val_data[variables[0:13]]\n",
    "        val_y = val_data[variables[13]].values\n",
    "\n",
    "        xgb_model = xgb.XGBRegressor(**model_params)\n",
    "        xgb_model.fit(train_x, train_y)\n",
    "        xgb_results = xgb_model.predict(train_x)\n",
    "        mae = sklearn.metrics.mean_absolute_error(train_y, xgb_results)\n",
    "\n",
    "        xgb_results_val = xgb_model.predict(val_x)\n",
    "        val_mae = sklearn.metrics.mean_absolute_error(val_y, xgb_results_val)\n",
    "        return (mae, val_mae)\n",
    "    \n",
    "    val_metrics = k_validation_train(train_data_df_norm, 4, xgb_train_k, verbose=False)\n",
    "    mae = np.mean([x[0] for x in val_metrics])\n",
    "    val_mae = np.mean([x[1] for x in val_metrics])\n",
    "    \n",
    "    xgb_train_stat = model_params.copy()\n",
    "    xgb_train_stat['mae'] = mae\n",
    "    xgb_train_stat['val_mae'] = val_mae\n",
    "    return xgb_train_stat\n",
    "\n",
    "def xgb_train_with_params(param_sets):\n",
    "    xgb_train_param_stats = pd.DataFrame(xgb_train(model_params) for model_params in param_sets)\n",
    "    xgb_train_param_stats = xgb_train_param_stats.sort_values(by='val_mae', ascending=True)\n",
    "    return xgb_train_param_stats\n",
    "    \n",
    "xgb_train_results = xgb_train_with_params(combinations(\n",
    "    max_depth     = [2, 5, 7, 10],\n",
    "    n_estimators  = [100, 200, 300, 500],\n",
    "    learning_rate = [0.1, 0.2, 0.3, 0.4],\n",
    "    alpha         = [5],\n",
    "    objective     = ['reg:squarederror'],\n",
    "))\n",
    "\n",
    "display(xgb_train_results.head(5))\n",
    "display(xgb_train_results.corr()[['val_mae']])"
   ]
  },
  {
   "cell_type": "code",
   "execution_count": 23,
   "metadata": {},
   "outputs": [
    {
     "data": {
      "text/plain": [
       "{'max_depth': 10,\n",
       " 'n_estimators': 300,\n",
       " 'learning_rate': 0.1,\n",
       " 'alpha': 5,\n",
       " 'objective': 'reg:squarederror'}"
      ]
     },
     "execution_count": 23,
     "metadata": {},
     "output_type": "execute_result"
    }
   ],
   "source": [
    "chosen_params = xgb_train_results.drop(columns=['mae', 'val_mae']).iloc[0].to_dict()\n",
    "chosen_params"
   ]
  },
  {
   "cell_type": "code",
   "execution_count": 24,
   "metadata": {},
   "outputs": [
    {
     "name": "stdout",
     "output_type": "stream",
     "text": [
      "Test MAE: 2.2792487780253095\n"
     ]
    }
   ],
   "source": [
    "# Train model with chosen hyper parameters all the entire training set.\n",
    "xgb_model = xgb.XGBRegressor(**chosen_params)\n",
    "\n",
    "xgb_model.fit(\n",
    "    train_data_df_norm[variables[0:13]],\n",
    "    train_data_df_norm[variables[13]].values\n",
    ")\n",
    "\n",
    "# Show test metrics\n",
    "xgb_t_results = xgb_model.predict(test_data_df_norm[variables[0:13]])\n",
    "test_mae = sklearn.metrics.mean_absolute_error(test_data_df_norm[variables[13]].values, xgb_t_results)\n",
    "print(f\"Test MAE: {test_mae}\")"
   ]
  },
  {
   "cell_type": "code",
   "execution_count": 25,
   "metadata": {},
   "outputs": [
    {
     "data": {
      "text/html": [
       "<div>\n",
       "<style scoped>\n",
       "    .dataframe tbody tr th:only-of-type {\n",
       "        vertical-align: middle;\n",
       "    }\n",
       "\n",
       "    .dataframe tbody tr th {\n",
       "        vertical-align: top;\n",
       "    }\n",
       "\n",
       "    .dataframe thead th {\n",
       "        text-align: right;\n",
       "    }\n",
       "</style>\n",
       "<table border=\"1\" class=\"dataframe\">\n",
       "  <thead>\n",
       "    <tr style=\"text-align: right;\">\n",
       "      <th></th>\n",
       "      <th>name</th>\n",
       "      <th>importance</th>\n",
       "    </tr>\n",
       "  </thead>\n",
       "  <tbody>\n",
       "    <tr>\n",
       "      <th>12</th>\n",
       "      <td>LSTAT</td>\n",
       "      <td>0.589673</td>\n",
       "    </tr>\n",
       "    <tr>\n",
       "      <th>5</th>\n",
       "      <td>RM</td>\n",
       "      <td>0.202710</td>\n",
       "    </tr>\n",
       "    <tr>\n",
       "      <th>7</th>\n",
       "      <td>DIS</td>\n",
       "      <td>0.059945</td>\n",
       "    </tr>\n",
       "    <tr>\n",
       "      <th>4</th>\n",
       "      <td>NOX</td>\n",
       "      <td>0.049403</td>\n",
       "    </tr>\n",
       "    <tr>\n",
       "      <th>9</th>\n",
       "      <td>TAX</td>\n",
       "      <td>0.033828</td>\n",
       "    </tr>\n",
       "    <tr>\n",
       "      <th>10</th>\n",
       "      <td>PTRATIO</td>\n",
       "      <td>0.016135</td>\n",
       "    </tr>\n",
       "    <tr>\n",
       "      <th>0</th>\n",
       "      <td>CRIM</td>\n",
       "      <td>0.015147</td>\n",
       "    </tr>\n",
       "    <tr>\n",
       "      <th>8</th>\n",
       "      <td>RAD</td>\n",
       "      <td>0.011875</td>\n",
       "    </tr>\n",
       "    <tr>\n",
       "      <th>11</th>\n",
       "      <td>B</td>\n",
       "      <td>0.007915</td>\n",
       "    </tr>\n",
       "    <tr>\n",
       "      <th>6</th>\n",
       "      <td>AGE</td>\n",
       "      <td>0.006466</td>\n",
       "    </tr>\n",
       "    <tr>\n",
       "      <th>3</th>\n",
       "      <td>CHAS</td>\n",
       "      <td>0.002923</td>\n",
       "    </tr>\n",
       "    <tr>\n",
       "      <th>2</th>\n",
       "      <td>INDUS</td>\n",
       "      <td>0.002362</td>\n",
       "    </tr>\n",
       "    <tr>\n",
       "      <th>1</th>\n",
       "      <td>ZN</td>\n",
       "      <td>0.001619</td>\n",
       "    </tr>\n",
       "  </tbody>\n",
       "</table>\n",
       "</div>"
      ],
      "text/plain": [
       "       name  importance\n",
       "12    LSTAT    0.589673\n",
       "5        RM    0.202710\n",
       "7       DIS    0.059945\n",
       "4       NOX    0.049403\n",
       "9       TAX    0.033828\n",
       "10  PTRATIO    0.016135\n",
       "0      CRIM    0.015147\n",
       "8       RAD    0.011875\n",
       "11        B    0.007915\n",
       "6       AGE    0.006466\n",
       "3      CHAS    0.002923\n",
       "2     INDUS    0.002362\n",
       "1        ZN    0.001619"
      ]
     },
     "execution_count": 25,
     "metadata": {},
     "output_type": "execute_result"
    }
   ],
   "source": [
    "# Show features by importance\n",
    "features = pd.DataFrame()\n",
    "features['name'] = variables[0:13]\n",
    "features['importance'] = xgb_model.feature_importances_\n",
    "features = features.sort_values(by='importance', ascending=False)\n",
    "features"
   ]
  },
  {
   "cell_type": "code",
   "execution_count": 26,
   "metadata": {},
   "outputs": [
    {
     "data": {
      "image/png": "[encoded data removed]",
      "text/plain": [
       "<Figure size 432x288 with 1 Axes>"
      ]
     },
     "metadata": {
      "needs_background": "light"
     },
     "output_type": "display_data"
    }
   ],
   "source": [
    "plt.hist(xgb_t_results - test_data_df.MEDV, bins=25)\n",
    "plt.title(\"Predicted Price Difference\")\n",
    "plt.grid()\n",
    "plt.show()"
   ]
  },
  {
   "cell_type": "code",
   "execution_count": null,
   "metadata": {},
   "outputs": [],
   "source": []
  }
 ],
 "metadata": {
  "kernelspec": {
   "display_name": "Python 3",
   "language": "python",
   "name": "python3"
  },
  "language_info": {
   "codemirror_mode": {
    "name": "ipython",
    "version": 3
   },
   "file_extension": ".py",
   "mimetype": "text/x-python",
   "name": "python",
   "nbconvert_exporter": "python",
   "pygments_lexer": "ipython3",
   "version": "3.7.6"
  }
 },
 "nbformat": 4,
 "nbformat_minor": 4
}
