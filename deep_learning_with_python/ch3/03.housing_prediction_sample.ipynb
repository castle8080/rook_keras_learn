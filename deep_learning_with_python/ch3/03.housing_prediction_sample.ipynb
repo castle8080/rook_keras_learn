{
 "cells": [
  {
   "cell_type": "markdown",
   "metadata": {},
   "source": [
    "# Example #3 Housing Prediction: Chapter 3\n",
    "\n",
    "Example of regression."
   ]
  },
  {
   "cell_type": "code",
   "execution_count": 73,
   "metadata": {},
   "outputs": [],
   "source": [
    "import pandas as pd\n",
    "import numpy as np\n",
    "\n",
    "from keras import models\n",
    "from keras import layers\n",
    "from keras import optimizers\n",
    "\n",
    "import matplotlib.pyplot as plt\n",
    "import seaborn as sns\n",
    "\n",
    "from keras.datasets import boston_housing"
   ]
  },
  {
   "cell_type": "markdown",
   "metadata": {},
   "source": [
    "# Load Data"
   ]
  },
  {
   "cell_type": "code",
   "execution_count": 34,
   "metadata": {},
   "outputs": [],
   "source": [
    "# Get the feature names from the original dataset description.\n",
    "\n",
    "# http://lib.stat.cmu.edu/datasets/boston\n",
    "variable_description = \"\"\"\n",
    "     CRIM     per capita crime rate by town\n",
    "     ZN       proportion of residential land zoned for lots over 25,000 sq.ft.\n",
    "     INDUS    proportion of non-retail business acres per town\n",
    "     CHAS     Charles River dummy variable (= 1 if tract bounds river; 0 otherwise)\n",
    "     NOX      nitric oxides concentration (parts per 10 million)\n",
    "     RM       average number of rooms per dwelling\n",
    "     AGE      proportion of owner-occupied units built prior to 1940\n",
    "     DIS      weighted distances to five Boston employment centres\n",
    "     RAD      index of accessibility to radial highways\n",
    "     TAX      full-value property-tax rate per $10,000\n",
    "     PTRATIO  pupil-teacher ratio by town\n",
    "     B        1000(Bk - 0.63)^2 where Bk is the proportion of blacks by town\n",
    "     LSTAT    % lower status of the population\n",
    "     MEDV     Median value of owner-occupied homes in $1000's\n",
    "\"\"\"\n",
    "\n",
    "variables = []\n",
    "for line in variable_description.split(\"\\n\"):\n",
    "    parts = line.strip().split()\n",
    "    if len(parts) >= 1:\n",
    "        variables.append(parts[0])\n",
    "        \n",
    "def make_df(data, targets):\n",
    "    df = pd.DataFrame(data=data, columns=variables[0:13])\n",
    "    df[variables[13]] = targets\n",
    "    return df"
   ]
  },
  {
   "cell_type": "code",
   "execution_count": 100,
   "metadata": {},
   "outputs": [],
   "source": [
    "(train_data, train_targets), (test_data, test_targets) = boston_housing.load_data()"
   ]
  },
  {
   "cell_type": "markdown",
   "metadata": {},
   "source": [
    "## Explore Data"
   ]
  },
  {
   "cell_type": "code",
   "execution_count": 101,
   "metadata": {},
   "outputs": [
    {
     "data": {
      "image/png": "[encoded data removed]",
      "text/plain": [
       "<Figure size 288x288 with 2 Axes>"
      ]
     },
     "metadata": {
      "needs_background": "light"
     },
     "output_type": "display_data"
    }
   ],
   "source": [
    "# View feature correlation\n",
    "\n",
    "train_data_df = make_df(train_data, train_targets)\n",
    "\n",
    "td_corr = train_data_df.corr().abs()\n",
    "plt.figure(figsize = (4,4))\n",
    "sns.heatmap(td_corr, annot=False)\n",
    "plt.show()"
   ]
  },
  {
   "cell_type": "code",
   "execution_count": 102,
   "metadata": {},
   "outputs": [
    {
     "data": {
      "text/html": [
       "<div>\n",
       "<style scoped>\n",
       "    .dataframe tbody tr th:only-of-type {\n",
       "        vertical-align: middle;\n",
       "    }\n",
       "\n",
       "    .dataframe tbody tr th {\n",
       "        vertical-align: top;\n",
       "    }\n",
       "\n",
       "    .dataframe thead th {\n",
       "        text-align: right;\n",
       "    }\n",
       "</style>\n",
       "<table border=\"1\" class=\"dataframe\">\n",
       "  <thead>\n",
       "    <tr style=\"text-align: right;\">\n",
       "      <th></th>\n",
       "      <th>MEDV</th>\n",
       "    </tr>\n",
       "  </thead>\n",
       "  <tbody>\n",
       "    <tr>\n",
       "      <th>MEDV</th>\n",
       "      <td>1.000000</td>\n",
       "    </tr>\n",
       "    <tr>\n",
       "      <th>LSTAT</th>\n",
       "      <td>0.730793</td>\n",
       "    </tr>\n",
       "    <tr>\n",
       "      <th>RM</th>\n",
       "      <td>0.681483</td>\n",
       "    </tr>\n",
       "    <tr>\n",
       "      <th>PTRATIO</th>\n",
       "      <td>0.493990</td>\n",
       "    </tr>\n",
       "    <tr>\n",
       "      <th>INDUS</th>\n",
       "      <td>0.476743</td>\n",
       "    </tr>\n",
       "    <tr>\n",
       "      <th>TAX</th>\n",
       "      <td>0.448737</td>\n",
       "    </tr>\n",
       "    <tr>\n",
       "      <th>NOX</th>\n",
       "      <td>0.438328</td>\n",
       "    </tr>\n",
       "    <tr>\n",
       "      <th>ZN</th>\n",
       "      <td>0.380299</td>\n",
       "    </tr>\n",
       "    <tr>\n",
       "      <th>CRIM</th>\n",
       "      <td>0.378498</td>\n",
       "    </tr>\n",
       "    <tr>\n",
       "      <th>RAD</th>\n",
       "      <td>0.375515</td>\n",
       "    </tr>\n",
       "  </tbody>\n",
       "</table>\n",
       "</div>"
      ],
      "text/plain": [
       "             MEDV\n",
       "MEDV     1.000000\n",
       "LSTAT    0.730793\n",
       "RM       0.681483\n",
       "PTRATIO  0.493990\n",
       "INDUS    0.476743\n",
       "TAX      0.448737\n",
       "NOX      0.438328\n",
       "ZN       0.380299\n",
       "CRIM     0.378498\n",
       "RAD      0.375515"
      ]
     },
     "execution_count": 102,
     "metadata": {},
     "output_type": "execute_result"
    }
   ],
   "source": [
    "td_corr[['MEDV']].sort_values(by='MEDV', ascending=False).head(10)"
   ]
  },
  {
   "cell_type": "code",
   "execution_count": 103,
   "metadata": {},
   "outputs": [
    {
     "data": {
      "image/png": "[encoded data removed]",
      "text/plain": [
       "<Figure size 432x288 with 1 Axes>"
      ]
     },
     "metadata": {
      "needs_background": "light"
     },
     "output_type": "display_data"
    }
   ],
   "source": [
    "plt.hist(train_targets, bins=25)\n",
    "plt.title(\"Median House Values\")\n",
    "plt.xlabel(\"Value in 1000's\")\n",
    "plt.ylabel(\"Count\")\n",
    "plt.grid()\n",
    "plt.show()"
   ]
  },
  {
   "cell_type": "markdown",
   "metadata": {},
   "source": [
    "## Prepare Data"
   ]
  },
  {
   "cell_type": "code",
   "execution_count": 104,
   "metadata": {},
   "outputs": [],
   "source": [
    "mean = train_data.mean(axis=0)\n",
    "std = train_data.std(axis=0)\n",
    "\n",
    "def normalize(data):\n",
    "    return (data - mean) / std"
   ]
  },
  {
   "cell_type": "code",
   "execution_count": 176,
   "metadata": {},
   "outputs": [
    {
     "data": {
      "text/html": [
       "<div>\n",
       "<style scoped>\n",
       "    .dataframe tbody tr th:only-of-type {\n",
       "        vertical-align: middle;\n",
       "    }\n",
       "\n",
       "    .dataframe tbody tr th {\n",
       "        vertical-align: top;\n",
       "    }\n",
       "\n",
       "    .dataframe thead th {\n",
       "        text-align: right;\n",
       "    }\n",
       "</style>\n",
       "<table border=\"1\" class=\"dataframe\">\n",
       "  <thead>\n",
       "    <tr style=\"text-align: right;\">\n",
       "      <th></th>\n",
       "      <th>CRIM</th>\n",
       "      <th>ZN</th>\n",
       "      <th>INDUS</th>\n",
       "      <th>CHAS</th>\n",
       "      <th>NOX</th>\n",
       "      <th>RM</th>\n",
       "      <th>AGE</th>\n",
       "      <th>DIS</th>\n",
       "      <th>RAD</th>\n",
       "      <th>TAX</th>\n",
       "      <th>PTRATIO</th>\n",
       "      <th>B</th>\n",
       "      <th>LSTAT</th>\n",
       "      <th>MEDV</th>\n",
       "    </tr>\n",
       "  </thead>\n",
       "  <tbody>\n",
       "    <tr>\n",
       "      <th>0</th>\n",
       "      <td>-0.272246</td>\n",
       "      <td>-0.483615</td>\n",
       "      <td>-0.435762</td>\n",
       "      <td>-0.256833</td>\n",
       "      <td>-0.165227</td>\n",
       "      <td>-0.176443</td>\n",
       "      <td>0.813062</td>\n",
       "      <td>0.116698</td>\n",
       "      <td>-0.626249</td>\n",
       "      <td>-0.595170</td>\n",
       "      <td>1.148500</td>\n",
       "      <td>0.448077</td>\n",
       "      <td>0.825220</td>\n",
       "      <td>15.2</td>\n",
       "    </tr>\n",
       "    <tr>\n",
       "      <th>1</th>\n",
       "      <td>-0.403427</td>\n",
       "      <td>2.991784</td>\n",
       "      <td>-1.333912</td>\n",
       "      <td>-0.256833</td>\n",
       "      <td>-1.215182</td>\n",
       "      <td>1.894346</td>\n",
       "      <td>-1.910361</td>\n",
       "      <td>1.247585</td>\n",
       "      <td>-0.856463</td>\n",
       "      <td>-0.348433</td>\n",
       "      <td>-1.718189</td>\n",
       "      <td>0.431906</td>\n",
       "      <td>-1.329202</td>\n",
       "      <td>42.3</td>\n",
       "    </tr>\n",
       "    <tr>\n",
       "      <th>2</th>\n",
       "      <td>0.124940</td>\n",
       "      <td>-0.483615</td>\n",
       "      <td>1.028326</td>\n",
       "      <td>-0.256833</td>\n",
       "      <td>0.628642</td>\n",
       "      <td>-1.829688</td>\n",
       "      <td>1.110488</td>\n",
       "      <td>-1.187439</td>\n",
       "      <td>1.675886</td>\n",
       "      <td>1.565287</td>\n",
       "      <td>0.784476</td>\n",
       "      <td>0.220617</td>\n",
       "      <td>-1.308500</td>\n",
       "      <td>50.0</td>\n",
       "    </tr>\n",
       "    <tr>\n",
       "      <th>3</th>\n",
       "      <td>-0.401494</td>\n",
       "      <td>-0.483615</td>\n",
       "      <td>-0.869402</td>\n",
       "      <td>-0.256833</td>\n",
       "      <td>-0.361560</td>\n",
       "      <td>-0.324558</td>\n",
       "      <td>-1.236672</td>\n",
       "      <td>1.107180</td>\n",
       "      <td>-0.511142</td>\n",
       "      <td>-1.094663</td>\n",
       "      <td>0.784476</td>\n",
       "      <td>0.448077</td>\n",
       "      <td>-0.652926</td>\n",
       "      <td>21.1</td>\n",
       "    </tr>\n",
       "    <tr>\n",
       "      <th>4</th>\n",
       "      <td>-0.005634</td>\n",
       "      <td>-0.483615</td>\n",
       "      <td>1.028326</td>\n",
       "      <td>-0.256833</td>\n",
       "      <td>1.328612</td>\n",
       "      <td>0.153642</td>\n",
       "      <td>0.694808</td>\n",
       "      <td>-0.578572</td>\n",
       "      <td>1.675886</td>\n",
       "      <td>1.565287</td>\n",
       "      <td>0.784476</td>\n",
       "      <td>0.389882</td>\n",
       "      <td>0.263497</td>\n",
       "      <td>17.7</td>\n",
       "    </tr>\n",
       "  </tbody>\n",
       "</table>\n",
       "</div>"
      ],
      "text/plain": [
       "       CRIM        ZN     INDUS      CHAS       NOX        RM       AGE  \\\n",
       "0 -0.272246 -0.483615 -0.435762 -0.256833 -0.165227 -0.176443  0.813062   \n",
       "1 -0.403427  2.991784 -1.333912 -0.256833 -1.215182  1.894346 -1.910361   \n",
       "2  0.124940 -0.483615  1.028326 -0.256833  0.628642 -1.829688  1.110488   \n",
       "3 -0.401494 -0.483615 -0.869402 -0.256833 -0.361560 -0.324558 -1.236672   \n",
       "4 -0.005634 -0.483615  1.028326 -0.256833  1.328612  0.153642  0.694808   \n",
       "\n",
       "        DIS       RAD       TAX   PTRATIO         B     LSTAT  MEDV  \n",
       "0  0.116698 -0.626249 -0.595170  1.148500  0.448077  0.825220  15.2  \n",
       "1  1.247585 -0.856463 -0.348433 -1.718189  0.431906 -1.329202  42.3  \n",
       "2 -1.187439  1.675886  1.565287  0.784476  0.220617 -1.308500  50.0  \n",
       "3  1.107180 -0.511142 -1.094663  0.784476  0.448077 -0.652926  21.1  \n",
       "4 -0.578572  1.675886  1.565287  0.784476  0.389882  0.263497  17.7  "
      ]
     },
     "execution_count": 176,
     "metadata": {},
     "output_type": "execute_result"
    }
   ],
   "source": [
    "train_data_df_norm = normalize(train_data_df.loc[:,variables[0:13]])\n",
    "train_data_df_norm[variables[13]] = train_data_df[variables[13]]\n",
    "train_data_df_norm.head(5)"
   ]
  },
  {
   "cell_type": "code",
   "execution_count": 179,
   "metadata": {},
   "outputs": [
    {
     "data": {
      "text/html": [
       "<div>\n",
       "<style scoped>\n",
       "    .dataframe tbody tr th:only-of-type {\n",
       "        vertical-align: middle;\n",
       "    }\n",
       "\n",
       "    .dataframe tbody tr th {\n",
       "        vertical-align: top;\n",
       "    }\n",
       "\n",
       "    .dataframe thead th {\n",
       "        text-align: right;\n",
       "    }\n",
       "</style>\n",
       "<table border=\"1\" class=\"dataframe\">\n",
       "  <thead>\n",
       "    <tr style=\"text-align: right;\">\n",
       "      <th></th>\n",
       "      <th>CRIM</th>\n",
       "      <th>ZN</th>\n",
       "      <th>INDUS</th>\n",
       "      <th>CHAS</th>\n",
       "      <th>NOX</th>\n",
       "      <th>RM</th>\n",
       "      <th>AGE</th>\n",
       "      <th>DIS</th>\n",
       "      <th>RAD</th>\n",
       "      <th>TAX</th>\n",
       "      <th>PTRATIO</th>\n",
       "      <th>B</th>\n",
       "      <th>LSTAT</th>\n",
       "      <th>MEDV</th>\n",
       "    </tr>\n",
       "  </thead>\n",
       "  <tbody>\n",
       "    <tr>\n",
       "      <th>0</th>\n",
       "      <td>1.553694</td>\n",
       "      <td>-0.483615</td>\n",
       "      <td>1.028326</td>\n",
       "      <td>-0.256833</td>\n",
       "      <td>1.038381</td>\n",
       "      <td>0.235458</td>\n",
       "      <td>1.110488</td>\n",
       "      <td>-0.939769</td>\n",
       "      <td>1.675886</td>\n",
       "      <td>1.565287</td>\n",
       "      <td>0.784476</td>\n",
       "      <td>-3.484596</td>\n",
       "      <td>2.250921</td>\n",
       "      <td>7.2</td>\n",
       "    </tr>\n",
       "    <tr>\n",
       "      <th>1</th>\n",
       "      <td>-0.392427</td>\n",
       "      <td>-0.483615</td>\n",
       "      <td>-0.160878</td>\n",
       "      <td>-0.256833</td>\n",
       "      <td>-0.088401</td>\n",
       "      <td>-0.499474</td>\n",
       "      <td>0.856063</td>\n",
       "      <td>-0.683962</td>\n",
       "      <td>-0.396036</td>\n",
       "      <td>0.157078</td>\n",
       "      <td>-0.307596</td>\n",
       "      <td>0.427331</td>\n",
       "      <td>0.478801</td>\n",
       "      <td>18.8</td>\n",
       "    </tr>\n",
       "    <tr>\n",
       "      <th>2</th>\n",
       "      <td>-0.399829</td>\n",
       "      <td>-0.483615</td>\n",
       "      <td>-0.869402</td>\n",
       "      <td>-0.256833</td>\n",
       "      <td>-0.361560</td>\n",
       "      <td>-0.397910</td>\n",
       "      <td>-0.846076</td>\n",
       "      <td>0.528643</td>\n",
       "      <td>-0.511142</td>\n",
       "      <td>-1.094663</td>\n",
       "      <td>0.784476</td>\n",
       "      <td>0.448077</td>\n",
       "      <td>-0.414159</td>\n",
       "      <td>19.0</td>\n",
       "    </tr>\n",
       "    <tr>\n",
       "      <th>3</th>\n",
       "      <td>-0.267805</td>\n",
       "      <td>-0.483615</td>\n",
       "      <td>1.245881</td>\n",
       "      <td>3.893584</td>\n",
       "      <td>0.406700</td>\n",
       "      <td>-0.024096</td>\n",
       "      <td>0.845313</td>\n",
       "      <td>-0.957671</td>\n",
       "      <td>-0.511142</td>\n",
       "      <td>-0.017443</td>\n",
       "      <td>-1.718189</td>\n",
       "      <td>-0.168767</td>\n",
       "      <td>-0.999345</td>\n",
       "      <td>27.0</td>\n",
       "    </tr>\n",
       "    <tr>\n",
       "      <th>4</th>\n",
       "      <td>-0.398037</td>\n",
       "      <td>-0.483615</td>\n",
       "      <td>-0.972300</td>\n",
       "      <td>-0.256833</td>\n",
       "      <td>-0.924950</td>\n",
       "      <td>-0.206066</td>\n",
       "      <td>-0.437562</td>\n",
       "      <td>0.003615</td>\n",
       "      <td>-0.741356</td>\n",
       "      <td>-0.956249</td>\n",
       "      <td>0.010925</td>\n",
       "      <td>0.429459</td>\n",
       "      <td>-0.593580</td>\n",
       "      <td>22.2</td>\n",
       "    </tr>\n",
       "  </tbody>\n",
       "</table>\n",
       "</div>"
      ],
      "text/plain": [
       "       CRIM        ZN     INDUS      CHAS       NOX        RM       AGE  \\\n",
       "0  1.553694 -0.483615  1.028326 -0.256833  1.038381  0.235458  1.110488   \n",
       "1 -0.392427 -0.483615 -0.160878 -0.256833 -0.088401 -0.499474  0.856063   \n",
       "2 -0.399829 -0.483615 -0.869402 -0.256833 -0.361560 -0.397910 -0.846076   \n",
       "3 -0.267805 -0.483615  1.245881  3.893584  0.406700 -0.024096  0.845313   \n",
       "4 -0.398037 -0.483615 -0.972300 -0.256833 -0.924950 -0.206066 -0.437562   \n",
       "\n",
       "        DIS       RAD       TAX   PTRATIO         B     LSTAT  MEDV  \n",
       "0 -0.939769  1.675886  1.565287  0.784476 -3.484596  2.250921   7.2  \n",
       "1 -0.683962 -0.396036  0.157078 -0.307596  0.427331  0.478801  18.8  \n",
       "2  0.528643 -0.511142 -1.094663  0.784476  0.448077 -0.414159  19.0  \n",
       "3 -0.957671 -0.511142 -0.017443 -1.718189 -0.168767 -0.999345  27.0  \n",
       "4  0.003615 -0.741356 -0.956249  0.010925  0.429459 -0.593580  22.2  "
      ]
     },
     "execution_count": 179,
     "metadata": {},
     "output_type": "execute_result"
    }
   ],
   "source": [
    "test_data_df = make_df(test_data, test_targets)\n",
    "\n",
    "test_data_df_norm = normalize(test_data_df.loc[:,variables[0:13]])\n",
    "test_data_df_norm[variables[13]] = test_data_df[variables[13]]\n",
    "test_data_df_norm.head(5)"
   ]
  },
  {
   "cell_type": "markdown",
   "metadata": {},
   "source": [
    "## Train Model"
   ]
  },
  {
   "cell_type": "code",
   "execution_count": 106,
   "metadata": {},
   "outputs": [],
   "source": [
    "def build_model():\n",
    "    model = models.Sequential()\n",
    "    model.add(layers.Dense(64, activation='relu', input_shape=(len(variables) - 1,)))\n",
    "    model.add(layers.Dense(64, activation='relu'))\n",
    "    model.add(layers.Dense(1))\n",
    "    model.compile(optimizer='rmsprop', loss='mse', metrics=['mae'])\n",
    "    return model"
   ]
  },
  {
   "cell_type": "code",
   "execution_count": 109,
   "metadata": {},
   "outputs": [
    {
     "data": {
      "text/html": [
       "<div>\n",
       "<style scoped>\n",
       "    .dataframe tbody tr th:only-of-type {\n",
       "        vertical-align: middle;\n",
       "    }\n",
       "\n",
       "    .dataframe tbody tr th {\n",
       "        vertical-align: top;\n",
       "    }\n",
       "\n",
       "    .dataframe thead th {\n",
       "        text-align: right;\n",
       "    }\n",
       "</style>\n",
       "<table border=\"1\" class=\"dataframe\">\n",
       "  <thead>\n",
       "    <tr style=\"text-align: right;\">\n",
       "      <th></th>\n",
       "      <th>CRIM</th>\n",
       "      <th>ZN</th>\n",
       "      <th>INDUS</th>\n",
       "      <th>CHAS</th>\n",
       "      <th>NOX</th>\n",
       "      <th>RM</th>\n",
       "      <th>AGE</th>\n",
       "      <th>DIS</th>\n",
       "      <th>RAD</th>\n",
       "      <th>TAX</th>\n",
       "      <th>PTRATIO</th>\n",
       "      <th>B</th>\n",
       "      <th>LSTAT</th>\n",
       "      <th>MEDV</th>\n",
       "    </tr>\n",
       "  </thead>\n",
       "  <tbody>\n",
       "    <tr>\n",
       "      <th>0</th>\n",
       "      <td>-0.272246</td>\n",
       "      <td>-0.483615</td>\n",
       "      <td>-0.435762</td>\n",
       "      <td>-0.256833</td>\n",
       "      <td>-0.165227</td>\n",
       "      <td>-0.176443</td>\n",
       "      <td>0.813062</td>\n",
       "      <td>0.116698</td>\n",
       "      <td>-0.626249</td>\n",
       "      <td>-0.595170</td>\n",
       "      <td>1.148500</td>\n",
       "      <td>0.448077</td>\n",
       "      <td>0.825220</td>\n",
       "      <td>15.2</td>\n",
       "    </tr>\n",
       "    <tr>\n",
       "      <th>1</th>\n",
       "      <td>-0.403427</td>\n",
       "      <td>2.991784</td>\n",
       "      <td>-1.333912</td>\n",
       "      <td>-0.256833</td>\n",
       "      <td>-1.215182</td>\n",
       "      <td>1.894346</td>\n",
       "      <td>-1.910361</td>\n",
       "      <td>1.247585</td>\n",
       "      <td>-0.856463</td>\n",
       "      <td>-0.348433</td>\n",
       "      <td>-1.718189</td>\n",
       "      <td>0.431906</td>\n",
       "      <td>-1.329202</td>\n",
       "      <td>42.3</td>\n",
       "    </tr>\n",
       "    <tr>\n",
       "      <th>2</th>\n",
       "      <td>0.124940</td>\n",
       "      <td>-0.483615</td>\n",
       "      <td>1.028326</td>\n",
       "      <td>-0.256833</td>\n",
       "      <td>0.628642</td>\n",
       "      <td>-1.829688</td>\n",
       "      <td>1.110488</td>\n",
       "      <td>-1.187439</td>\n",
       "      <td>1.675886</td>\n",
       "      <td>1.565287</td>\n",
       "      <td>0.784476</td>\n",
       "      <td>0.220617</td>\n",
       "      <td>-1.308500</td>\n",
       "      <td>50.0</td>\n",
       "    </tr>\n",
       "    <tr>\n",
       "      <th>3</th>\n",
       "      <td>-0.401494</td>\n",
       "      <td>-0.483615</td>\n",
       "      <td>-0.869402</td>\n",
       "      <td>-0.256833</td>\n",
       "      <td>-0.361560</td>\n",
       "      <td>-0.324558</td>\n",
       "      <td>-1.236672</td>\n",
       "      <td>1.107180</td>\n",
       "      <td>-0.511142</td>\n",
       "      <td>-1.094663</td>\n",
       "      <td>0.784476</td>\n",
       "      <td>0.448077</td>\n",
       "      <td>-0.652926</td>\n",
       "      <td>21.1</td>\n",
       "    </tr>\n",
       "    <tr>\n",
       "      <th>4</th>\n",
       "      <td>-0.005634</td>\n",
       "      <td>-0.483615</td>\n",
       "      <td>1.028326</td>\n",
       "      <td>-0.256833</td>\n",
       "      <td>1.328612</td>\n",
       "      <td>0.153642</td>\n",
       "      <td>0.694808</td>\n",
       "      <td>-0.578572</td>\n",
       "      <td>1.675886</td>\n",
       "      <td>1.565287</td>\n",
       "      <td>0.784476</td>\n",
       "      <td>0.389882</td>\n",
       "      <td>0.263497</td>\n",
       "      <td>17.7</td>\n",
       "    </tr>\n",
       "  </tbody>\n",
       "</table>\n",
       "</div>"
      ],
      "text/plain": [
       "       CRIM        ZN     INDUS      CHAS       NOX        RM       AGE  \\\n",
       "0 -0.272246 -0.483615 -0.435762 -0.256833 -0.165227 -0.176443  0.813062   \n",
       "1 -0.403427  2.991784 -1.333912 -0.256833 -1.215182  1.894346 -1.910361   \n",
       "2  0.124940 -0.483615  1.028326 -0.256833  0.628642 -1.829688  1.110488   \n",
       "3 -0.401494 -0.483615 -0.869402 -0.256833 -0.361560 -0.324558 -1.236672   \n",
       "4 -0.005634 -0.483615  1.028326 -0.256833  1.328612  0.153642  0.694808   \n",
       "\n",
       "        DIS       RAD       TAX   PTRATIO         B     LSTAT  MEDV  \n",
       "0  0.116698 -0.626249 -0.595170  1.148500  0.448077  0.825220  15.2  \n",
       "1  1.247585 -0.856463 -0.348433 -1.718189  0.431906 -1.329202  42.3  \n",
       "2 -1.187439  1.675886  1.565287  0.784476  0.220617 -1.308500  50.0  \n",
       "3  1.107180 -0.511142 -1.094663  0.784476  0.448077 -0.652926  21.1  \n",
       "4 -0.578572  1.675886  1.565287  0.784476  0.389882  0.263497  17.7  "
      ]
     },
     "execution_count": 109,
     "metadata": {},
     "output_type": "execute_result"
    }
   ],
   "source": [
    "train_data_df_norm = normalize(train_data_df.loc[:,variables[0:13]])\n",
    "train_data_df_norm[variables[13]] = train_data_df[variables[13]]\n",
    "train_data_df_norm.head(5)"
   ]
  },
  {
   "cell_type": "code",
   "execution_count": null,
   "metadata": {},
   "outputs": [],
   "source": [
    "test_data_df_norm = normalize(train_data_df.loc[:,variables[0:13]])"
   ]
  },
  {
   "cell_type": "code",
   "execution_count": 156,
   "metadata": {},
   "outputs": [
    {
     "name": "stdout",
     "output_type": "stream",
     "text": [
      "processing fold # 0\n",
      "processing fold # 1\n",
      "processing fold # 2\n",
      "processing fold # 3\n"
     ]
    }
   ],
   "source": [
    "k = 4\n",
    "train_data_df_norm['k'] = [i % k for i in train_data_df_norm.index.values]\n",
    "num_epochs = 200\n",
    "\n",
    "histories = []\n",
    "\n",
    "for i in train_data_df_norm.k.unique():\n",
    "    print('processing fold #', i)\n",
    "    \n",
    "    train_data = train_data_df_norm[train_data_df_norm.k != i]\n",
    "    val_data = train_data_df_norm[train_data_df_norm.k == i]\n",
    "    \n",
    "    train_x = train_data[variables[0:13]]\n",
    "    train_y = train_data[variables[13]]\n",
    "    val_x = val_data[variables[0:13]]\n",
    "    val_y = val_data[variables[13]]\n",
    "    \n",
    "    model = build_model()\n",
    "    history = model.fit(\n",
    "        train_x,\n",
    "        train_y,\n",
    "        epochs=num_epochs,\n",
    "        batch_size=1,\n",
    "        verbose=0,\n",
    "        validation_data=(val_x, val_y)\n",
    "    )\n",
    "    histories.append(history)"
   ]
  },
  {
   "cell_type": "code",
   "execution_count": 157,
   "metadata": {},
   "outputs": [],
   "source": [
    "def history_to_df(h):\n",
    "    h_df = pd.DataFrame(h.history)\n",
    "    h_df['epoch'] = h_df.index.values + 1\n",
    "    return h_df\n",
    "\n",
    "history = pd.concat(history_to_df(h) for h in histories)\n",
    "h_avgs = history.groupby('epoch').mean()"
   ]
  },
  {
   "cell_type": "code",
   "execution_count": 162,
   "metadata": {},
   "outputs": [],
   "source": [
    "def smooth_curve(points, factor=0.9):\n",
    "    smoothed_points = []\n",
    "    for point in points:\n",
    "        if smoothed_points:\n",
    "            previous = smoothed_points[-1]\n",
    "            smoothed_points.append(previous * factor + point * (1 - factor))\n",
    "        else:\n",
    "            smoothed_points.append(point)\n",
    "    return smoothed_points"
   ]
  },
  {
   "cell_type": "code",
   "execution_count": 174,
   "metadata": {},
   "outputs": [
    {
     "data": {
      "image/png": "[encoded data removed]",
      "text/plain": [
       "<Figure size 432x288 with 1 Axes>"
      ]
     },
     "metadata": {
      "needs_background": "light"
     },
     "output_type": "display_data"
    },
    {
     "data": {
      "image/png": "[encoded data removed]",
      "text/plain": [
       "<Figure size 432x288 with 1 Axes>"
      ]
     },
     "metadata": {
      "needs_background": "light"
     },
     "output_type": "display_data"
    }
   ],
   "source": [
    "#plt.plot(h_avgs.index[10:], smooth_curve(h_avgs.mae[10:]), \"-\", label=\"train\")\n",
    "plt.plot(h_avgs.index[10:], smooth_curve(h_avgs.val_mae[10:]), \"-\", label=\"validation\")\n",
    "plt.grid()\n",
    "plt.title(\"Mean Absolute Error\")\n",
    "plt.legend()\n",
    "plt.show()\n",
    "\n",
    "#plt.plot(h_avgs.index, h_avgs.loss, \"-\", label=\"train\")\n",
    "plt.plot(h_avgs.index, smooth_curve(h_avgs.val_loss), \"-\", label=\"validation\")\n",
    "plt.grid()\n",
    "plt.title(\"Loss\")\n",
    "plt.legend()\n",
    "plt.show()"
   ]
  },
  {
   "cell_type": "markdown",
   "metadata": {},
   "source": [
    "## Train Model"
   ]
  },
  {
   "cell_type": "code",
   "execution_count": 180,
   "metadata": {},
   "outputs": [
    {
     "name": "stdout",
     "output_type": "stream",
     "text": [
      "1337165.1593137255\n",
      "1048.5634765625\n"
     ]
    }
   ],
   "source": [
    "model = build_model()\n",
    "num_epochs = 80\n",
    "model.fit(\n",
    "    train_data_df_norm[variables[0:13]],\n",
    "    train_data_df_norm[variables[13]],\n",
    "    epochs=num_epochs,\n",
    "    batch_size=1,\n",
    "    verbose=0\n",
    ")"
   ]
  },
  {
   "cell_type": "markdown",
   "metadata": {},
   "source": [
    "## Evaluate Test Results"
   ]
  },
  {
   "cell_type": "code",
   "execution_count": 200,
   "metadata": {},
   "outputs": [
    {
     "name": "stdout",
     "output_type": "stream",
     "text": [
      "14.9977180630553\n",
      "2.5186851024627686\n"
     ]
    }
   ],
   "source": [
    "val_mse, val_mae = model.evaluate(\n",
    "    test_data_df_norm[variables[0:13]],\n",
    "    test_data_df_norm[variables[13]],\n",
    "    verbose=0)\n",
    "\n",
    "print(val_mse)\n",
    "print(val_mae)"
   ]
  },
  {
   "cell_type": "code",
   "execution_count": 186,
   "metadata": {},
   "outputs": [],
   "source": [
    "test_data_df['Predicted'] = [r[0] for r in model.predict(test_data_df_norm[variables[0:13]])]"
   ]
  },
  {
   "cell_type": "code",
   "execution_count": 188,
   "metadata": {},
   "outputs": [
    {
     "data": {
      "image/png": "[encoded data removed]",
      "text/plain": [
       "<Figure size 432x288 with 1 Axes>"
      ]
     },
     "metadata": {
      "needs_background": "light"
     },
     "output_type": "display_data"
    }
   ],
   "source": [
    "plt.hist(test_data_df.Predicted, bins=25)\n",
    "plt.title(\"Median House Values\")\n",
    "plt.xlabel(\"Value in 1000's\")\n",
    "plt.ylabel(\"Count\")\n",
    "plt.grid()\n",
    "plt.show()"
   ]
  },
  {
   "cell_type": "markdown",
   "metadata": {},
   "source": [
    "## See How XGBoost Compares"
   ]
  },
  {
   "cell_type": "code",
   "execution_count": 189,
   "metadata": {},
   "outputs": [],
   "source": [
    "import xgboost as xgb\n",
    "import sklearn.metrics"
   ]
  },
  {
   "cell_type": "code",
   "execution_count": 225,
   "metadata": {},
   "outputs": [
    {
     "name": "stdout",
     "output_type": "stream",
     "text": [
      "Mean Absolute Error: 1.0518234802944826\n",
      "Test Mean Absolute Error: 2.5680659668118344\n"
     ]
    },
    {
     "name": "stderr",
     "output_type": "stream",
     "text": [
      "c:\\users\\bryan\\source\\rook_keras_learn\\venv\\lib\\site-packages\\xgboost\\core.py:587: FutureWarning: Series.base is deprecated and will be removed in a future version\n",
      "  if getattr(data, 'base', None) is not None and \\\n",
      "c:\\users\\bryan\\source\\rook_keras_learn\\venv\\lib\\site-packages\\xgboost\\core.py:588: FutureWarning: Series.base is deprecated and will be removed in a future version\n",
      "  data.base is not None and isinstance(data, np.ndarray) \\\n"
     ]
    }
   ],
   "source": [
    "xgb_model = xgb.XGBRegressor(\n",
    "    objective ='reg:squarederror',\n",
    "    learning_rate = 0.2,\n",
    "    max_depth = 5,\n",
    "    alpha = 5,\n",
    "    n_estimators = 20\n",
    ")\n",
    "\n",
    "train_x_part = train_data_df_norm\n",
    "\n",
    "xgb_model.fit(\n",
    "    train_data_df_norm[variables[0:13]],\n",
    "    train_data_df_norm[variables[13]]\n",
    ")\n",
    "\n",
    "xgb_results = xgb_model.predict(train_data_df_norm[variables[0:13]])\n",
    "\n",
    "mae = sklearn.metrics.mean_absolute_error(train_data_df_norm[variables[13]], xgb_results)\n",
    "print(f\"Mean Absolute Error: {mae}\")\n",
    "\n",
    "xgb_t_results = xgb_model.predict(test_data_df_norm[variables[0:13]])\n",
    "t_mae = sklearn.metrics.mean_absolute_error(test_data_df_norm[variables[13]], xgb_t_results)\n",
    "print(f\"Test Mean Absolute Error: {t_mae}\")"
   ]
  },
  {
   "cell_type": "code",
   "execution_count": 230,
   "metadata": {},
   "outputs": [
    {
     "data": {
      "text/html": [
       "<div>\n",
       "<style scoped>\n",
       "    .dataframe tbody tr th:only-of-type {\n",
       "        vertical-align: middle;\n",
       "    }\n",
       "\n",
       "    .dataframe tbody tr th {\n",
       "        vertical-align: top;\n",
       "    }\n",
       "\n",
       "    .dataframe thead th {\n",
       "        text-align: right;\n",
       "    }\n",
       "</style>\n",
       "<table border=\"1\" class=\"dataframe\">\n",
       "  <thead>\n",
       "    <tr style=\"text-align: right;\">\n",
       "      <th></th>\n",
       "      <th>name</th>\n",
       "      <th>importance</th>\n",
       "    </tr>\n",
       "  </thead>\n",
       "  <tbody>\n",
       "    <tr>\n",
       "      <th>12</th>\n",
       "      <td>LSTAT</td>\n",
       "      <td>0.630532</td>\n",
       "    </tr>\n",
       "    <tr>\n",
       "      <th>5</th>\n",
       "      <td>RM</td>\n",
       "      <td>0.162426</td>\n",
       "    </tr>\n",
       "    <tr>\n",
       "      <th>7</th>\n",
       "      <td>DIS</td>\n",
       "      <td>0.053833</td>\n",
       "    </tr>\n",
       "    <tr>\n",
       "      <th>4</th>\n",
       "      <td>NOX</td>\n",
       "      <td>0.037978</td>\n",
       "    </tr>\n",
       "    <tr>\n",
       "      <th>0</th>\n",
       "      <td>CRIM</td>\n",
       "      <td>0.032994</td>\n",
       "    </tr>\n",
       "    <tr>\n",
       "      <th>9</th>\n",
       "      <td>TAX</td>\n",
       "      <td>0.022079</td>\n",
       "    </tr>\n",
       "    <tr>\n",
       "      <th>10</th>\n",
       "      <td>PTRATIO</td>\n",
       "      <td>0.016418</td>\n",
       "    </tr>\n",
       "    <tr>\n",
       "      <th>2</th>\n",
       "      <td>INDUS</td>\n",
       "      <td>0.011400</td>\n",
       "    </tr>\n",
       "    <tr>\n",
       "      <th>11</th>\n",
       "      <td>B</td>\n",
       "      <td>0.011233</td>\n",
       "    </tr>\n",
       "    <tr>\n",
       "      <th>8</th>\n",
       "      <td>RAD</td>\n",
       "      <td>0.008622</td>\n",
       "    </tr>\n",
       "    <tr>\n",
       "      <th>6</th>\n",
       "      <td>AGE</td>\n",
       "      <td>0.008463</td>\n",
       "    </tr>\n",
       "    <tr>\n",
       "      <th>1</th>\n",
       "      <td>ZN</td>\n",
       "      <td>0.004021</td>\n",
       "    </tr>\n",
       "    <tr>\n",
       "      <th>3</th>\n",
       "      <td>CHAS</td>\n",
       "      <td>0.000000</td>\n",
       "    </tr>\n",
       "  </tbody>\n",
       "</table>\n",
       "</div>"
      ],
      "text/plain": [
       "       name  importance\n",
       "12    LSTAT    0.630532\n",
       "5        RM    0.162426\n",
       "7       DIS    0.053833\n",
       "4       NOX    0.037978\n",
       "0      CRIM    0.032994\n",
       "9       TAX    0.022079\n",
       "10  PTRATIO    0.016418\n",
       "2     INDUS    0.011400\n",
       "11        B    0.011233\n",
       "8       RAD    0.008622\n",
       "6       AGE    0.008463\n",
       "1        ZN    0.004021\n",
       "3      CHAS    0.000000"
      ]
     },
     "execution_count": 230,
     "metadata": {},
     "output_type": "execute_result"
    }
   ],
   "source": [
    "features = pd.DataFrame()\n",
    "features['name'] = variables[0:13]\n",
    "features['importance'] = xgb_model.feature_importances_\n",
    "features = features.sort_values(by='importance', ascending=False)\n",
    "features"
   ]
  },
  {
   "cell_type": "code",
   "execution_count": null,
   "metadata": {},
   "outputs": [],
   "source": []
  }
 ],
 "metadata": {
  "kernelspec": {
   "display_name": "Python 3",
   "language": "python",
   "name": "python3"
  },
  "language_info": {
   "codemirror_mode": {
    "name": "ipython",
    "version": 3
   },
   "file_extension": ".py",
   "mimetype": "text/x-python",
   "name": "python",
   "nbconvert_exporter": "python",
   "pygments_lexer": "ipython3",
   "version": "3.7.6"
  }
 },
 "nbformat": 4,
 "nbformat_minor": 4
}
