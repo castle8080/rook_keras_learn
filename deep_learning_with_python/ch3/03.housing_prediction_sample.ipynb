{
 "cells": [
  {
   "cell_type": "markdown",
   "metadata": {},
   "source": [
    "# Example #3 Housing Prediction: Chapter 3\n",
    "\n",
    "Example of regression."
   ]
  },
  {
   "cell_type": "markdown",
   "metadata": {},
   "source": [
    "## CPU/GPU Config\n",
    "\n",
    "Using a GPU for this example is slower than using a CPU (on my system).\n",
    "The batch size used for training is very low (the number of features is low too) and prevents you from being able to use the GPU effectively.\n",
    "\n",
    "Some sample average runtimes for training with different batch sizes.\n",
    "\n",
    "    [With CPU - Batch Size 1]       0 days 00:01:23.265555\n",
    "    [With CPU - Batch Size 5]       0 days 00:00:17.589785\n",
    "    [With CPU - Batch Size 10]      0 days 00:00:09.513331\n",
    "    [With CPU - Batch Size 100]     0 days 00:00:02.192333\n",
    "    \n",
    "    [With GPU - Batch Size 1]       0 days 00:04:21.741343\n",
    "    [With GPU - Batch Size 5]       0 days 00:00:54.128071\n",
    "    [With GPU - Batch Size 10]      0 days 00:00:28.202666\n",
    "    [With GPU - Batch Size 100]     0 days 00:00:04.780666"
   ]
  },
  {
   "cell_type": "code",
   "execution_count": 1,
   "metadata": {},
   "outputs": [],
   "source": [
    "# Force use of CPU - This sample is faster than using a GPU for a small batch size.\n",
    "# This needs to be done before importing keras or tensorflow.\n",
    "\n",
    "import os\n",
    "os.environ[\"CUDA_DEVICE_ORDER\"] = \"PCI_BUS_ID\"   # see issue #152\n",
    "os.environ[\"CUDA_VISIBLE_DEVICES\"] = \"-1\""
   ]
  },
  {
   "cell_type": "code",
   "execution_count": 2,
   "metadata": {},
   "outputs": [
    {
     "name": "stderr",
     "output_type": "stream",
     "text": [
      "Using TensorFlow backend.\n"
     ]
    }
   ],
   "source": [
    "import datetime as dt\n",
    "import pandas as pd\n",
    "import numpy as np\n",
    "\n",
    "from keras import models\n",
    "from keras import layers\n",
    "from keras import optimizers\n",
    "\n",
    "import matplotlib.pyplot as plt\n",
    "import seaborn as sns\n",
    "\n",
    "from keras.datasets import boston_housing"
   ]
  },
  {
   "cell_type": "markdown",
   "metadata": {},
   "source": [
    "## Basic Helpers"
   ]
  },
  {
   "cell_type": "code",
   "execution_count": 3,
   "metadata": {},
   "outputs": [],
   "source": [
    "def get_time():\n",
    "    return dt.datetime.now().strftime('%H:%M:%S.%f')"
   ]
  },
  {
   "cell_type": "markdown",
   "metadata": {},
   "source": [
    "# Load Data"
   ]
  },
  {
   "cell_type": "code",
   "execution_count": 4,
   "metadata": {},
   "outputs": [],
   "source": [
    "# Get the feature names from the original dataset description.\n",
    "\n",
    "# http://lib.stat.cmu.edu/datasets/boston\n",
    "variable_description = \"\"\"\n",
    "     CRIM     per capita crime rate by town\n",
    "     ZN       proportion of residential land zoned for lots over 25,000 sq.ft.\n",
    "     INDUS    proportion of non-retail business acres per town\n",
    "     CHAS     Charles River dummy variable (= 1 if tract bounds river; 0 otherwise)\n",
    "     NOX      nitric oxides concentration (parts per 10 million)\n",
    "     RM       average number of rooms per dwelling\n",
    "     AGE      proportion of owner-occupied units built prior to 1940\n",
    "     DIS      weighted distances to five Boston employment centres\n",
    "     RAD      index of accessibility to radial highways\n",
    "     TAX      full-value property-tax rate per $10,000\n",
    "     PTRATIO  pupil-teacher ratio by town\n",
    "     B        1000(Bk - 0.63)^2 where Bk is the proportion of blacks by town\n",
    "     LSTAT    % lower status of the population\n",
    "     MEDV     Median value of owner-occupied homes in $1000's\n",
    "\"\"\"\n",
    "\n",
    "variables = []\n",
    "for line in variable_description.split(\"\\n\"):\n",
    "    parts = line.strip().split()\n",
    "    if len(parts) >= 1:\n",
    "        variables.append(parts[0])\n",
    "        \n",
    "def make_df(data, targets):\n",
    "    df = pd.DataFrame(data=data, columns=variables[0:13])\n",
    "    df[variables[13]] = targets\n",
    "    return df"
   ]
  },
  {
   "cell_type": "code",
   "execution_count": 5,
   "metadata": {},
   "outputs": [],
   "source": [
    "(train_data, train_targets), (test_data, test_targets) = boston_housing.load_data()\n",
    "\n",
    "train_data_df = make_df(train_data, train_targets)\n",
    "test_data_df = make_df(test_data, test_targets)"
   ]
  },
  {
   "cell_type": "markdown",
   "metadata": {},
   "source": [
    "## Explore Data"
   ]
  },
  {
   "cell_type": "code",
   "execution_count": 6,
   "metadata": {},
   "outputs": [
    {
     "data": {
      "image/png": "[encoded data removed]",
      "text/plain": [
       "<Figure size 288x288 with 2 Axes>"
      ]
     },
     "metadata": {
      "needs_background": "light"
     },
     "output_type": "display_data"
    }
   ],
   "source": [
    "# View feature correlation\n",
    "\n",
    "td_corr = train_data_df.corr().abs()\n",
    "plt.figure(figsize = (4,4))\n",
    "sns.heatmap(td_corr, annot=False)\n",
    "plt.show()"
   ]
  },
  {
   "cell_type": "code",
   "execution_count": 7,
   "metadata": {},
   "outputs": [
    {
     "data": {
      "text/html": [
       "<div>\n",
       "<style scoped>\n",
       "    .dataframe tbody tr th:only-of-type {\n",
       "        vertical-align: middle;\n",
       "    }\n",
       "\n",
       "    .dataframe tbody tr th {\n",
       "        vertical-align: top;\n",
       "    }\n",
       "\n",
       "    .dataframe thead th {\n",
       "        text-align: right;\n",
       "    }\n",
       "</style>\n",
       "<table border=\"1\" class=\"dataframe\">\n",
       "  <thead>\n",
       "    <tr style=\"text-align: right;\">\n",
       "      <th></th>\n",
       "      <th>MEDV</th>\n",
       "    </tr>\n",
       "  </thead>\n",
       "  <tbody>\n",
       "    <tr>\n",
       "      <th>MEDV</th>\n",
       "      <td>1.000000</td>\n",
       "    </tr>\n",
       "    <tr>\n",
       "      <th>LSTAT</th>\n",
       "      <td>0.730793</td>\n",
       "    </tr>\n",
       "    <tr>\n",
       "      <th>RM</th>\n",
       "      <td>0.681483</td>\n",
       "    </tr>\n",
       "    <tr>\n",
       "      <th>PTRATIO</th>\n",
       "      <td>0.493990</td>\n",
       "    </tr>\n",
       "    <tr>\n",
       "      <th>INDUS</th>\n",
       "      <td>0.476743</td>\n",
       "    </tr>\n",
       "    <tr>\n",
       "      <th>TAX</th>\n",
       "      <td>0.448737</td>\n",
       "    </tr>\n",
       "    <tr>\n",
       "      <th>NOX</th>\n",
       "      <td>0.438328</td>\n",
       "    </tr>\n",
       "    <tr>\n",
       "      <th>ZN</th>\n",
       "      <td>0.380299</td>\n",
       "    </tr>\n",
       "    <tr>\n",
       "      <th>CRIM</th>\n",
       "      <td>0.378498</td>\n",
       "    </tr>\n",
       "    <tr>\n",
       "      <th>RAD</th>\n",
       "      <td>0.375515</td>\n",
       "    </tr>\n",
       "  </tbody>\n",
       "</table>\n",
       "</div>"
      ],
      "text/plain": [
       "             MEDV\n",
       "MEDV     1.000000\n",
       "LSTAT    0.730793\n",
       "RM       0.681483\n",
       "PTRATIO  0.493990\n",
       "INDUS    0.476743\n",
       "TAX      0.448737\n",
       "NOX      0.438328\n",
       "ZN       0.380299\n",
       "CRIM     0.378498\n",
       "RAD      0.375515"
      ]
     },
     "execution_count": 7,
     "metadata": {},
     "output_type": "execute_result"
    }
   ],
   "source": [
    "td_corr[['MEDV']].sort_values(by='MEDV', ascending=False).head(10)"
   ]
  },
  {
   "cell_type": "code",
   "execution_count": 8,
   "metadata": {},
   "outputs": [
    {
     "data": {
      "image/png": "[encoded data removed]",
      "text/plain": [
       "<Figure size 432x288 with 1 Axes>"
      ]
     },
     "metadata": {
      "needs_background": "light"
     },
     "output_type": "display_data"
    }
   ],
   "source": [
    "plt.hist(train_targets, bins=25)\n",
    "plt.title(\"Median House Values\")\n",
    "plt.xlabel(\"Value in 1000's\")\n",
    "plt.ylabel(\"Count\")\n",
    "plt.grid()\n",
    "plt.show()"
   ]
  },
  {
   "cell_type": "markdown",
   "metadata": {},
   "source": [
    "## Prepare Data"
   ]
  },
  {
   "cell_type": "code",
   "execution_count": 9,
   "metadata": {},
   "outputs": [],
   "source": [
    "mean = train_data.mean(axis=0)\n",
    "std = train_data.std(axis=0)\n",
    "\n",
    "def normalize(data):\n",
    "    return (data - mean) / std\n",
    "\n",
    "train_data_df_norm = normalize(train_data_df.loc[:,variables[0:13]])\n",
    "train_data_df_norm[variables[13]] = train_data_df[variables[13]]\n",
    "\n",
    "test_data_df_norm = normalize(test_data_df.loc[:,variables[0:13]])\n",
    "test_data_df_norm[variables[13]] = test_data_df[variables[13]]"
   ]
  },
  {
   "cell_type": "markdown",
   "metadata": {},
   "source": [
    "## Train Model"
   ]
  },
  {
   "cell_type": "code",
   "execution_count": 10,
   "metadata": {},
   "outputs": [],
   "source": [
    "def build_model():\n",
    "    model = models.Sequential()\n",
    "    model.add(layers.Dense(64, activation='relu', input_shape=(len(variables) - 1,)))\n",
    "    model.add(layers.Dense(64, activation='relu'))\n",
    "    model.add(layers.Dense(1))\n",
    "    model.compile(optimizer='rmsprop', loss='mse', metrics=['mae'])\n",
    "    return model"
   ]
  },
  {
   "cell_type": "code",
   "execution_count": 11,
   "metadata": {},
   "outputs": [
    {
     "name": "stdout",
     "output_type": "stream",
     "text": [
      "[18:56:32.963230] processing fold # 0\n",
      "[18:57:55.044902] processing fold # 1\n",
      "[18:59:15.545447] processing fold # 2\n",
      "[19:00:37.950926] processing fold # 3\n"
     ]
    }
   ],
   "source": [
    "k = 4\n",
    "train_data_df_norm['k'] = [i % k for i in train_data_df_norm.index.values]\n",
    "\n",
    "num_epochs = 200\n",
    "batch_size = 1\n",
    "\n",
    "histories = []\n",
    "\n",
    "for i in train_data_df_norm.k.unique():\n",
    "    print(f'[{get_time()}] processing fold # {i}')\n",
    "    \n",
    "    train_data = train_data_df_norm[train_data_df_norm.k != i]\n",
    "    val_data = train_data_df_norm[train_data_df_norm.k == i]\n",
    "    \n",
    "    train_x = train_data[variables[0:13]]\n",
    "    train_y = train_data[variables[13]]\n",
    "    val_x = val_data[variables[0:13]]\n",
    "    val_y = val_data[variables[13]]\n",
    "    \n",
    "    model = build_model()\n",
    "    history = model.fit(\n",
    "        train_x,\n",
    "        train_y,\n",
    "        epochs=num_epochs,\n",
    "        batch_size=batch_size,\n",
    "        verbose=0,\n",
    "        validation_data=(val_x, val_y)\n",
    "    )\n",
    "    histories.append(history)"
   ]
  },
  {
   "cell_type": "code",
   "execution_count": 12,
   "metadata": {},
   "outputs": [],
   "source": [
    "def history_to_df(h):\n",
    "    h_df = pd.DataFrame(h.history)\n",
    "    h_df['epoch'] = h_df.index.values + 1\n",
    "    return h_df\n",
    "\n",
    "history = pd.concat(history_to_df(h) for h in histories)\n",
    "h_avgs = history.groupby('epoch').mean()"
   ]
  },
  {
   "cell_type": "code",
   "execution_count": 13,
   "metadata": {},
   "outputs": [],
   "source": [
    "def smooth_curve(points, factor=0.9):\n",
    "    smoothed_points = []\n",
    "    for point in points:\n",
    "        if smoothed_points:\n",
    "            previous = smoothed_points[-1]\n",
    "            smoothed_points.append(previous * factor + point * (1 - factor))\n",
    "        else:\n",
    "            smoothed_points.append(point)\n",
    "    return smoothed_points"
   ]
  },
  {
   "cell_type": "code",
   "execution_count": 14,
   "metadata": {},
   "outputs": [
    {
     "data": {
      "image/png": "[encoded data removed]",
      "text/plain": [
       "<Figure size 432x288 with 1 Axes>"
      ]
     },
     "metadata": {
      "needs_background": "light"
     },
     "output_type": "display_data"
    },
    {
     "data": {
      "image/png": "[encoded data removed]",
      "text/plain": [
       "<Figure size 432x288 with 1 Axes>"
      ]
     },
     "metadata": {
      "needs_background": "light"
     },
     "output_type": "display_data"
    }
   ],
   "source": [
    "#plt.plot(h_avgs.index[10:], smooth_curve(h_avgs.mae[10:]), \"-\", label=\"train\")\n",
    "plt.plot(h_avgs.index[10:], smooth_curve(h_avgs.val_mae[10:]), \"-\", label=\"validation\")\n",
    "plt.grid()\n",
    "plt.title(\"Mean Absolute Error\")\n",
    "plt.legend()\n",
    "plt.show()\n",
    "\n",
    "#plt.plot(h_avgs.index, h_avgs.loss, \"-\", label=\"train\")\n",
    "plt.plot(h_avgs.index, smooth_curve(h_avgs.val_loss), \"-\", label=\"validation\")\n",
    "plt.grid()\n",
    "plt.title(\"Loss\")\n",
    "plt.legend()\n",
    "plt.show()"
   ]
  },
  {
   "cell_type": "markdown",
   "metadata": {},
   "source": [
    "## Train Model"
   ]
  },
  {
   "cell_type": "code",
   "execution_count": 16,
   "metadata": {},
   "outputs": [
    {
     "data": {
      "text/plain": [
       "<keras.callbacks.callbacks.History at 0x1596c4d5f48>"
      ]
     },
     "execution_count": 16,
     "metadata": {},
     "output_type": "execute_result"
    }
   ],
   "source": [
    "model = build_model()\n",
    "num_epochs = 70\n",
    "model.fit(\n",
    "    train_data_df_norm[variables[0:13]],\n",
    "    train_data_df_norm[variables[13]],\n",
    "    epochs=num_epochs,\n",
    "    batch_size=batch_size,\n",
    "    verbose=0\n",
    ")"
   ]
  },
  {
   "cell_type": "markdown",
   "metadata": {},
   "source": [
    "## Evaluate Test Results"
   ]
  },
  {
   "cell_type": "code",
   "execution_count": 17,
   "metadata": {},
   "outputs": [
    {
     "name": "stdout",
     "output_type": "stream",
     "text": [
      "13.593618056353401\n",
      "2.326547622680664\n"
     ]
    }
   ],
   "source": [
    "val_mse, val_mae = model.evaluate(\n",
    "    test_data_df_norm[variables[0:13]],\n",
    "    test_data_df_norm[variables[13]],\n",
    "    verbose=0)\n",
    "\n",
    "print(val_mse)\n",
    "print(val_mae)"
   ]
  },
  {
   "cell_type": "code",
   "execution_count": 18,
   "metadata": {},
   "outputs": [],
   "source": [
    "test_data_df['Predicted'] = [r[0] for r in model.predict(test_data_df_norm[variables[0:13]])]"
   ]
  },
  {
   "cell_type": "code",
   "execution_count": 19,
   "metadata": {},
   "outputs": [
    {
     "data": {
      "image/png": "[encoded data removed]",
      "text/plain": [
       "<Figure size 432x288 with 1 Axes>"
      ]
     },
     "metadata": {
      "needs_background": "light"
     },
     "output_type": "display_data"
    }
   ],
   "source": [
    "plt.hist(test_data_df.Predicted, bins=25)\n",
    "plt.title(\"Median House Values\")\n",
    "plt.xlabel(\"Value in 1000's\")\n",
    "plt.ylabel(\"Count\")\n",
    "plt.grid()\n",
    "plt.show()"
   ]
  },
  {
   "cell_type": "code",
   "execution_count": 20,
   "metadata": {},
   "outputs": [
    {
     "data": {
      "image/png": "[encoded data removed]",
      "text/plain": [
       "<Figure size 432x288 with 1 Axes>"
      ]
     },
     "metadata": {
      "needs_background": "light"
     },
     "output_type": "display_data"
    }
   ],
   "source": [
    "plt.hist(test_data_df.Predicted - test_data_df.MEDV, bins=25)\n",
    "plt.title(\"Predicted Price Difference\")\n",
    "plt.grid()\n",
    "plt.show()"
   ]
  },
  {
   "cell_type": "markdown",
   "metadata": {},
   "source": [
    "## See How XGBoost Compares"
   ]
  },
  {
   "cell_type": "code",
   "execution_count": 34,
   "metadata": {},
   "outputs": [],
   "source": [
    "import xgboost as xgb\n",
    "import sklearn.metrics\n",
    "from sklearn.model_selection import train_test_split"
   ]
  },
  {
   "cell_type": "code",
   "execution_count": 54,
   "metadata": {},
   "outputs": [],
   "source": [
    "# Train with k-fold validation\n",
    "\n",
    "def xgb_train_w_validation(model):\n",
    "    mae_s = []\n",
    "    val_mae_s = []\n",
    "    for k in train_data_df_norm.k.unique():\n",
    "        train_data = train_data_df_norm[train_data_df_norm.k != k]\n",
    "        val_data = train_data_df_norm[train_data_df_norm.k == k]\n",
    "        xgb_model.fit(\n",
    "            train_data[variables[0:13]],\n",
    "            train_data[variables[13]].values\n",
    "        )\n",
    "        \n",
    "        xgb_results = xgb_model.predict(train_data[variables[0:13]])\n",
    "        mae = sklearn.metrics.mean_absolute_error(train_data[variables[13]].values, xgb_results)\n",
    "        mae_s.append(mae)\n",
    "        \n",
    "        xgb_results_val = xgb_model.predict(val_data[variables[0:13]])\n",
    "        val_mae = sklearn.metrics.mean_absolute_error(val_data[variables[13]].values, xgb_results_val)\n",
    "        val_mae_s.append(val_mae)\n",
    "        \n",
    "    return (np.mean(mae_s), np.mean(val_mae_s))"
   ]
  },
  {
   "cell_type": "code",
   "execution_count": 71,
   "metadata": {},
   "outputs": [
    {
     "data": {
      "text/html": [
       "<div>\n",
       "<style scoped>\n",
       "    .dataframe tbody tr th:only-of-type {\n",
       "        vertical-align: middle;\n",
       "    }\n",
       "\n",
       "    .dataframe tbody tr th {\n",
       "        vertical-align: top;\n",
       "    }\n",
       "\n",
       "    .dataframe thead th {\n",
       "        text-align: right;\n",
       "    }\n",
       "</style>\n",
       "<table border=\"1\" class=\"dataframe\">\n",
       "  <thead>\n",
       "    <tr style=\"text-align: right;\">\n",
       "      <th></th>\n",
       "      <th>objective</th>\n",
       "      <th>learning_rate</th>\n",
       "      <th>max_depth</th>\n",
       "      <th>alpha</th>\n",
       "      <th>n_estimators</th>\n",
       "      <th>mae</th>\n",
       "      <th>val_mae</th>\n",
       "    </tr>\n",
       "  </thead>\n",
       "  <tbody>\n",
       "    <tr>\n",
       "      <th>20</th>\n",
       "      <td>reg:squarederror</td>\n",
       "      <td>0.1</td>\n",
       "      <td>5</td>\n",
       "      <td>5</td>\n",
       "      <td>200</td>\n",
       "      <td>0.121322</td>\n",
       "      <td>2.216854</td>\n",
       "    </tr>\n",
       "    <tr>\n",
       "      <th>24</th>\n",
       "      <td>reg:squarederror</td>\n",
       "      <td>0.1</td>\n",
       "      <td>5</td>\n",
       "      <td>5</td>\n",
       "      <td>300</td>\n",
       "      <td>0.037651</td>\n",
       "      <td>2.217035</td>\n",
       "    </tr>\n",
       "    <tr>\n",
       "      <th>28</th>\n",
       "      <td>reg:squarederror</td>\n",
       "      <td>0.1</td>\n",
       "      <td>5</td>\n",
       "      <td>5</td>\n",
       "      <td>500</td>\n",
       "      <td>0.004916</td>\n",
       "      <td>2.217955</td>\n",
       "    </tr>\n",
       "    <tr>\n",
       "      <th>17</th>\n",
       "      <td>reg:squarederror</td>\n",
       "      <td>0.2</td>\n",
       "      <td>5</td>\n",
       "      <td>5</td>\n",
       "      <td>100</td>\n",
       "      <td>0.108403</td>\n",
       "      <td>2.231613</td>\n",
       "    </tr>\n",
       "    <tr>\n",
       "      <th>21</th>\n",
       "      <td>reg:squarederror</td>\n",
       "      <td>0.2</td>\n",
       "      <td>5</td>\n",
       "      <td>5</td>\n",
       "      <td>200</td>\n",
       "      <td>0.010175</td>\n",
       "      <td>2.234785</td>\n",
       "    </tr>\n",
       "  </tbody>\n",
       "</table>\n",
       "</div>"
      ],
      "text/plain": [
       "           objective  learning_rate  max_depth  alpha  n_estimators       mae  \\\n",
       "20  reg:squarederror            0.1          5      5           200  0.121322   \n",
       "24  reg:squarederror            0.1          5      5           300  0.037651   \n",
       "28  reg:squarederror            0.1          5      5           500  0.004916   \n",
       "17  reg:squarederror            0.2          5      5           100  0.108403   \n",
       "21  reg:squarederror            0.2          5      5           200  0.010175   \n",
       "\n",
       "     val_mae  \n",
       "20  2.216854  \n",
       "24  2.217035  \n",
       "28  2.217955  \n",
       "17  2.231613  \n",
       "21  2.234785  "
      ]
     },
     "metadata": {},
     "output_type": "display_data"
    },
    {
     "data": {
      "text/html": [
       "<div>\n",
       "<style scoped>\n",
       "    .dataframe tbody tr th:only-of-type {\n",
       "        vertical-align: middle;\n",
       "    }\n",
       "\n",
       "    .dataframe tbody tr th {\n",
       "        vertical-align: top;\n",
       "    }\n",
       "\n",
       "    .dataframe thead th {\n",
       "        text-align: right;\n",
       "    }\n",
       "</style>\n",
       "<table border=\"1\" class=\"dataframe\">\n",
       "  <thead>\n",
       "    <tr style=\"text-align: right;\">\n",
       "      <th></th>\n",
       "      <th>val_mae</th>\n",
       "    </tr>\n",
       "  </thead>\n",
       "  <tbody>\n",
       "    <tr>\n",
       "      <th>learning_rate</th>\n",
       "      <td>0.547923</td>\n",
       "    </tr>\n",
       "    <tr>\n",
       "      <th>max_depth</th>\n",
       "      <td>-0.265899</td>\n",
       "    </tr>\n",
       "    <tr>\n",
       "      <th>alpha</th>\n",
       "      <td>NaN</td>\n",
       "    </tr>\n",
       "    <tr>\n",
       "      <th>n_estimators</th>\n",
       "      <td>-0.054078</td>\n",
       "    </tr>\n",
       "    <tr>\n",
       "      <th>mae</th>\n",
       "      <td>0.404073</td>\n",
       "    </tr>\n",
       "    <tr>\n",
       "      <th>val_mae</th>\n",
       "      <td>1.000000</td>\n",
       "    </tr>\n",
       "  </tbody>\n",
       "</table>\n",
       "</div>"
      ],
      "text/plain": [
       "                val_mae\n",
       "learning_rate  0.547923\n",
       "max_depth     -0.265899\n",
       "alpha               NaN\n",
       "n_estimators  -0.054078\n",
       "mae            0.404073\n",
       "val_mae        1.000000"
      ]
     },
     "metadata": {},
     "output_type": "display_data"
    }
   ],
   "source": [
    "# Try different hyper parameters\n",
    "all_results = []\n",
    "for max_depth in [2, 5, 7, 10]:\n",
    "    for n_estimators in [100, 200, 300, 500]:\n",
    "        for learning_rate in [0.1, 0.2, 0.3, 0.4]:\n",
    "            for alpha in [5]:\n",
    "                params = dict(\n",
    "                    objective ='reg:squarederror',\n",
    "                    learning_rate = learning_rate,\n",
    "                    max_depth = max_depth,\n",
    "                    alpha = alpha,\n",
    "                    n_estimators = n_estimators\n",
    "                )\n",
    "                xgb_model = xgb.XGBRegressor(**params)\n",
    "                (mae, val_mae) = xgb_train_w_validation(xgb_model)\n",
    "                results = dict(**params)\n",
    "                results['mae'] = mae\n",
    "                results['val_mae'] = val_mae\n",
    "                all_results.append(results)\n",
    "            \n",
    "all_results = pd.DataFrame(all_results)\n",
    "all_results = all_results.sort_values(by='val_mae', ascending=True)\n",
    "\n",
    "display(all_results.head(5))\n",
    "display(all_results.corr()[['val_mae']])"
   ]
  },
  {
   "cell_type": "code",
   "execution_count": 74,
   "metadata": {},
   "outputs": [
    {
     "name": "stdout",
     "output_type": "stream",
     "text": [
      "Test MAE: 2.2463971942078835\n"
     ]
    }
   ],
   "source": [
    "# Train model with chosen hyper parameters all the entire training set.\n",
    "xgb_model = xgb.XGBRegressor(\n",
    "    objective ='reg:squarederror',\n",
    "    learning_rate = 0.1,\n",
    "    max_depth = 5,\n",
    "    alpha = 5,\n",
    "    n_estimators = 200\n",
    ")\n",
    "\n",
    "xgb_model.fit(\n",
    "    train_data_df_norm[variables[0:13]],\n",
    "    train_data_df_norm[variables[13]].values\n",
    ")\n",
    "\n",
    "# Show test metrics\n",
    "xgb_t_results = xgb_model.predict(test_data_df_norm[variables[0:13]])\n",
    "test_mae = sklearn.metrics.mean_absolute_error(test_data_df_norm[variables[13]].values, xgb_t_results)\n",
    "print(f\"Test MAE: {test_mae}\")"
   ]
  },
  {
   "cell_type": "code",
   "execution_count": 73,
   "metadata": {},
   "outputs": [
    {
     "data": {
      "text/html": [
       "<div>\n",
       "<style scoped>\n",
       "    .dataframe tbody tr th:only-of-type {\n",
       "        vertical-align: middle;\n",
       "    }\n",
       "\n",
       "    .dataframe tbody tr th {\n",
       "        vertical-align: top;\n",
       "    }\n",
       "\n",
       "    .dataframe thead th {\n",
       "        text-align: right;\n",
       "    }\n",
       "</style>\n",
       "<table border=\"1\" class=\"dataframe\">\n",
       "  <thead>\n",
       "    <tr style=\"text-align: right;\">\n",
       "      <th></th>\n",
       "      <th>name</th>\n",
       "      <th>importance</th>\n",
       "    </tr>\n",
       "  </thead>\n",
       "  <tbody>\n",
       "    <tr>\n",
       "      <th>12</th>\n",
       "      <td>LSTAT</td>\n",
       "      <td>0.536317</td>\n",
       "    </tr>\n",
       "    <tr>\n",
       "      <th>5</th>\n",
       "      <td>RM</td>\n",
       "      <td>0.212380</td>\n",
       "    </tr>\n",
       "    <tr>\n",
       "      <th>7</th>\n",
       "      <td>DIS</td>\n",
       "      <td>0.065160</td>\n",
       "    </tr>\n",
       "    <tr>\n",
       "      <th>4</th>\n",
       "      <td>NOX</td>\n",
       "      <td>0.050365</td>\n",
       "    </tr>\n",
       "    <tr>\n",
       "      <th>9</th>\n",
       "      <td>TAX</td>\n",
       "      <td>0.031766</td>\n",
       "    </tr>\n",
       "    <tr>\n",
       "      <th>10</th>\n",
       "      <td>PTRATIO</td>\n",
       "      <td>0.029733</td>\n",
       "    </tr>\n",
       "    <tr>\n",
       "      <th>0</th>\n",
       "      <td>CRIM</td>\n",
       "      <td>0.022502</td>\n",
       "    </tr>\n",
       "    <tr>\n",
       "      <th>8</th>\n",
       "      <td>RAD</td>\n",
       "      <td>0.017404</td>\n",
       "    </tr>\n",
       "    <tr>\n",
       "      <th>11</th>\n",
       "      <td>B</td>\n",
       "      <td>0.009375</td>\n",
       "    </tr>\n",
       "    <tr>\n",
       "      <th>6</th>\n",
       "      <td>AGE</td>\n",
       "      <td>0.009117</td>\n",
       "    </tr>\n",
       "    <tr>\n",
       "      <th>2</th>\n",
       "      <td>INDUS</td>\n",
       "      <td>0.006907</td>\n",
       "    </tr>\n",
       "    <tr>\n",
       "      <th>3</th>\n",
       "      <td>CHAS</td>\n",
       "      <td>0.004892</td>\n",
       "    </tr>\n",
       "    <tr>\n",
       "      <th>1</th>\n",
       "      <td>ZN</td>\n",
       "      <td>0.004082</td>\n",
       "    </tr>\n",
       "  </tbody>\n",
       "</table>\n",
       "</div>"
      ],
      "text/plain": [
       "       name  importance\n",
       "12    LSTAT    0.536317\n",
       "5        RM    0.212380\n",
       "7       DIS    0.065160\n",
       "4       NOX    0.050365\n",
       "9       TAX    0.031766\n",
       "10  PTRATIO    0.029733\n",
       "0      CRIM    0.022502\n",
       "8       RAD    0.017404\n",
       "11        B    0.009375\n",
       "6       AGE    0.009117\n",
       "2     INDUS    0.006907\n",
       "3      CHAS    0.004892\n",
       "1        ZN    0.004082"
      ]
     },
     "execution_count": 73,
     "metadata": {},
     "output_type": "execute_result"
    }
   ],
   "source": [
    "# Show features by importance\n",
    "features = pd.DataFrame()\n",
    "features['name'] = variables[0:13]\n",
    "features['importance'] = xgb_model.feature_importances_\n",
    "features = features.sort_values(by='importance', ascending=False)\n",
    "features"
   ]
  },
  {
   "cell_type": "code",
   "execution_count": 75,
   "metadata": {},
   "outputs": [
    {
     "data": {
      "image/png": "[encoded data removed]",
      "text/plain": [
       "<Figure size 432x288 with 1 Axes>"
      ]
     },
     "metadata": {
      "needs_background": "light"
     },
     "output_type": "display_data"
    }
   ],
   "source": [
    "plt.hist(xgb_t_results - test_data_df.MEDV, bins=25)\n",
    "plt.title(\"Predicted Price Difference\")\n",
    "plt.grid()\n",
    "plt.show()"
   ]
  },
  {
   "cell_type": "code",
   "execution_count": null,
   "metadata": {},
   "outputs": [],
   "source": []
  }
 ],
 "metadata": {
  "kernelspec": {
   "display_name": "Python 3",
   "language": "python",
   "name": "python3"
  },
  "language_info": {
   "codemirror_mode": {
    "name": "ipython",
    "version": 3
   },
   "file_extension": ".py",
   "mimetype": "text/x-python",
   "name": "python",
   "nbconvert_exporter": "python",
   "pygments_lexer": "ipython3",
   "version": "3.7.6"
  }
 },
 "nbformat": 4,
 "nbformat_minor": 4
}
