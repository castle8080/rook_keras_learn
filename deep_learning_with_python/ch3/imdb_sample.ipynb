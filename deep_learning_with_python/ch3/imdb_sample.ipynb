{
 "cells": [
  {
   "cell_type": "code",
   "execution_count": 7,
   "metadata": {},
   "outputs": [],
   "source": [
    "from keras.datasets import imdb\n",
    "import numpy as np"
   ]
  },
  {
   "cell_type": "code",
   "execution_count": 2,
   "metadata": {},
   "outputs": [
    {
     "name": "stdout",
     "output_type": "stream",
     "text": [
      "Downloading data from https://s3.amazonaws.com/text-datasets/imdb.npz\n",
      "17465344/17464789 [==============================] - 1s 0us/step\n"
     ]
    }
   ],
   "source": [
    "(train_data, train_labels), (test_data, test_labels) = imdb.load_data(num_words=10000)"
   ]
  },
  {
   "cell_type": "code",
   "execution_count": 4,
   "metadata": {},
   "outputs": [],
   "source": [
    "word_index = imdb.get_word_index()\n",
    "reverse_word_index = dict([(value, key) for (key, value) in word_index.items()])\n",
    "decoded_review = ' '.join([reverse_word_index.get(i - 3, '?') for i in train_data[0]])"
   ]
  },
  {
   "cell_type": "code",
   "execution_count": 5,
   "metadata": {},
   "outputs": [
    {
     "data": {
      "text/plain": [
       "\"? this film was just brilliant casting location scenery story direction everyone's really suited the part they played and you could just imagine being there robert ? is an amazing actor and now the same being director ? father came from the same scottish island as myself so i loved the fact there was a real connection with this film the witty remarks throughout the film were great it was just brilliant so much that i bought the film as soon as it was released for ? and would recommend it to everyone to watch and the fly fishing was amazing really cried at the end it was so sad and you know what they say if you cry at a film it must have been good and this definitely was also ? to the two little boy's that played the ? of norman and paul they were just brilliant children are often left out of the ? list i think because the stars that play them all grown up are such a big profile for the whole film but these children are amazing and should be praised for what they have done don't you think the whole story was so lovely because it was true and was someone's life after all that was shared with us all\""
      ]
     },
     "execution_count": 5,
     "metadata": {},
     "output_type": "execute_result"
    }
   ],
   "source": [
    "decoded_review"
   ]
  },
  {
   "cell_type": "code",
   "execution_count": 23,
   "metadata": {},
   "outputs": [
    {
     "data": {
      "text/plain": [
       "array([1, 0, 0, ..., 0, 1, 0], dtype=int64)"
      ]
     },
     "execution_count": 23,
     "metadata": {},
     "output_type": "execute_result"
    }
   ],
   "source": [
    "train_labels"
   ]
  },
  {
   "cell_type": "code",
   "execution_count": 8,
   "metadata": {},
   "outputs": [],
   "source": [
    "\n",
    "def vectorize_sequences(sequences, dimension=10000):\n",
    "    results = np.zeros((len(sequences), dimension))\n",
    "    for i, sequence in enumerate(sequences):\n",
    "        results[i, sequence] = 1.\n",
    "    return results\n",
    "\n",
    "x_train = vectorize_sequences(train_data)\n",
    "x_test = vectorize_sequences(test_data)"
   ]
  },
  {
   "cell_type": "code",
   "execution_count": 10,
   "metadata": {},
   "outputs": [],
   "source": [
    "y_train = np.asarray(train_labels).astype('float32')\n",
    "y_test = np.asarray(test_labels).astype('float32')"
   ]
  },
  {
   "cell_type": "code",
   "execution_count": 13,
   "metadata": {},
   "outputs": [
    {
     "data": {
      "text/plain": [
       "array([1, 0, 0, ..., 0, 1, 0], dtype=int64)"
      ]
     },
     "execution_count": 13,
     "metadata": {},
     "output_type": "execute_result"
    }
   ],
   "source": []
  },
  {
   "cell_type": "code",
   "execution_count": 34,
   "metadata": {},
   "outputs": [],
   "source": [
    "from keras import models\n",
    "from keras import layers\n",
    "from keras import optimizers\n",
    "\n",
    "model = models.Sequential()\n",
    "model.add(layers.Dense(64, activation='relu', input_shape=(10000,)))\n",
    "#model.add(layers.Dense(64, activation='relu'))\n",
    "#model.add(layers.Dense(64, activation='relu'))\n",
    "model.add(layers.Dense(1, activation='sigmoid'))"
   ]
  },
  {
   "cell_type": "code",
   "execution_count": 35,
   "metadata": {},
   "outputs": [
    {
     "name": "stdout",
     "output_type": "stream",
     "text": [
      "Train on 15000 samples, validate on 10000 samples\n",
      "Epoch 1/8\n",
      "15000/15000 [==============================] - 2s 138us/step - loss: 0.4675 - acc: 0.7889 - val_loss: 0.3342 - val_acc: 0.8841\n",
      "Epoch 2/8\n",
      "15000/15000 [==============================] - 2s 129us/step - loss: 0.2678 - acc: 0.9093 - val_loss: 0.3103 - val_acc: 0.8768\n",
      "Epoch 3/8\n",
      "15000/15000 [==============================] - 1235s 82ms/step - loss: 0.2019 - acc: 0.9349 - val_loss: 0.2736 - val_acc: 0.8896\n",
      "Epoch 4/8\n",
      "15000/15000 [==============================] - 35s 2ms/step - loss: 0.1611 - acc: 0.9467 - val_loss: 0.2941 - val_acc: 0.8810\n",
      "Epoch 5/8\n",
      "15000/15000 [==============================] - 2s 145us/step - loss: 0.1324 - acc: 0.9577 - val_loss: 0.2967 - val_acc: 0.8813\n",
      "Epoch 6/8\n",
      "15000/15000 [==============================] - 27364s 2s/step - loss: 0.1090 - acc: 0.9683 - val_loss: 0.3066 - val_acc: 0.8841\n",
      "Epoch 7/8\n",
      "15000/15000 [==============================] - 2s 144us/step - loss: 0.0965 - acc: 0.9700 - val_loss: 0.3133 - val_acc: 0.8826\n",
      "Epoch 8/8\n",
      "15000/15000 [==============================] - 2s 154us/step - loss: 0.0770 - acc: 0.9790 - val_loss: 0.3376 - val_acc: 0.8816\n"
     ]
    }
   ],
   "source": [
    "model.compile(\n",
    "    optimizer='rmsprop',\n",
    "    loss='binary_crossentropy',\n",
    "    metrics=['acc'])\n",
    "\n",
    "x_val = x_train[:10000]\n",
    "partial_x_train = x_train[10000:]\n",
    "y_val = y_train[:10000]\n",
    "partial_y_train = y_train[10000:]\n",
    "\n",
    "history = model.fit(\n",
    "    partial_x_train,\n",
    "    partial_y_train,\n",
    "    epochs=8,\n",
    "    batch_size=512,\n",
    "    validation_data=(x_val, y_val)\n",
    ")"
   ]
  },
  {
   "cell_type": "code",
   "execution_count": 19,
   "metadata": {},
   "outputs": [
    {
     "name": "stdout",
     "output_type": "stream",
     "text": [
      "Train on 15000 samples, validate on 10000 samples\n",
      "Epoch 1/20\n",
      "15000/15000 [==============================] - 6s 378us/step - loss: 0.5186 - acc: 0.8019 - val_loss: 0.3959 - val_acc: 0.8694\n",
      "Epoch 2/20\n",
      "15000/15000 [==============================] - 5s 305us/step - loss: 0.3194 - acc: 0.9018 - val_loss: 0.3165 - val_acc: 0.8799\n",
      "Epoch 3/20\n",
      "15000/15000 [==============================] - 4s 299us/step - loss: 0.2343 - acc: 0.9245 - val_loss: 0.2802 - val_acc: 0.8896\n",
      "Epoch 4/20\n",
      "15000/15000 [==============================] - 4s 296us/step - loss: 0.1840 - acc: 0.9399 - val_loss: 0.2726 - val_acc: 0.8897\n",
      "Epoch 5/20\n",
      "15000/15000 [==============================] - 5s 300us/step - loss: 0.1510 - acc: 0.9531 - val_loss: 0.2773 - val_acc: 0.8872\n",
      "Epoch 6/20\n",
      "15000/15000 [==============================] - 4s 291us/step - loss: 0.1235 - acc: 0.9624 - val_loss: 0.2939 - val_acc: 0.8845\n",
      "Epoch 7/20\n",
      "15000/15000 [==============================] - 4s 293us/step - loss: 0.1038 - acc: 0.9678 - val_loss: 0.3056 - val_acc: 0.8827\n",
      "Epoch 8/20\n",
      "15000/15000 [==============================] - 4s 292us/step - loss: 0.0858 - acc: 0.9757 - val_loss: 0.3319 - val_acc: 0.8781\n",
      "Epoch 9/20\n",
      "15000/15000 [==============================] - 5s 300us/step - loss: 0.0728 - acc: 0.9791 - val_loss: 0.3473 - val_acc: 0.8819\n",
      "Epoch 10/20\n",
      "15000/15000 [==============================] - 4s 295us/step - loss: 0.0586 - acc: 0.9843 - val_loss: 0.3648 - val_acc: 0.8791\n",
      "Epoch 11/20\n",
      "15000/15000 [==============================] - 5s 301us/step - loss: 0.0494 - acc: 0.9879 - val_loss: 0.3908 - val_acc: 0.8768\n",
      "Epoch 12/20\n",
      "15000/15000 [==============================] - 5s 300us/step - loss: 0.0403 - acc: 0.9903 - val_loss: 0.4189 - val_acc: 0.8779\n",
      "Epoch 13/20\n",
      "15000/15000 [==============================] - 5s 301us/step - loss: 0.0327 - acc: 0.9925 - val_loss: 0.4493 - val_acc: 0.8756\n",
      "Epoch 14/20\n",
      "15000/15000 [==============================] - 5s 306us/step - loss: 0.0247 - acc: 0.9956 - val_loss: 0.5138 - val_acc: 0.8691\n",
      "Epoch 15/20\n",
      "15000/15000 [==============================] - 4s 297us/step - loss: 0.0218 - acc: 0.9964 - val_loss: 0.5368 - val_acc: 0.8644\n",
      "Epoch 16/20\n",
      "15000/15000 [==============================] - 4s 298us/step - loss: 0.0179 - acc: 0.9969 - val_loss: 0.5466 - val_acc: 0.8669\n",
      "Epoch 17/20\n",
      "15000/15000 [==============================] - 5s 306us/step - loss: 0.0129 - acc: 0.9989 - val_loss: 0.5779 - val_acc: 0.8680\n",
      "Epoch 18/20\n",
      "15000/15000 [==============================] - 4s 298us/step - loss: 0.0103 - acc: 0.9989 - val_loss: 0.6202 - val_acc: 0.8651\n",
      "Epoch 19/20\n",
      "15000/15000 [==============================] - 4s 299us/step - loss: 0.0093 - acc: 0.9989 - val_loss: 0.6407 - val_acc: 0.8674\n",
      "Epoch 20/20\n",
      "15000/15000 [==============================] - 4s 300us/step - loss: 0.0050 - acc: 0.9999 - val_loss: 0.6883 - val_acc: 0.8635\n"
     ]
    }
   ],
   "source": [
    "model.compile(\n",
    "    optimizer='rmsprop',\n",
    "    loss='binary_crossentropy',\n",
    "    metrics=['acc'])\n",
    "\n",
    "x_val = x_train[:10000]\n",
    "partial_x_train = x_train[10000:]\n",
    "y_val = y_train[:10000]\n",
    "partial_y_train = y_train[10000:]\n",
    "\n",
    "history = model.fit(\n",
    "    partial_x_train,\n",
    "    partial_y_train,\n",
    "    epochs=20,\n",
    "    batch_size=512,\n",
    "    validation_data=(x_val, y_val)\n",
    ")"
   ]
  },
  {
   "cell_type": "code",
   "execution_count": null,
   "metadata": {},
   "outputs": [],
   "source": []
  },
  {
   "cell_type": "code",
   "execution_count": 28,
   "metadata": {},
   "outputs": [
    {
     "data": {
      "image/png": "[encoded data removed]",
      "text/plain": [
       "<Figure size 432x288 with 1 Axes>"
      ]
     },
     "metadata": {
      "needs_background": "light"
     },
     "output_type": "display_data"
    }
   ],
   "source": [
    "import matplotlib.pyplot as plt\n",
    "history_dict = history.history\n",
    "loss_values = history_dict['loss']\n",
    "val_loss_values = history_dict['val_loss']\n",
    "epochs = range(1, len(loss_values) + 1)\n",
    "plt.plot(epochs, loss_values, 'bo', label='Training loss')\n",
    "plt.plot(epochs, val_loss_values, 'b', label='Validation loss')\n",
    "plt.title('Training and validation loss')\n",
    "plt.xlabel('Epochs')\n",
    "plt.ylabel('Loss')\n",
    "plt.legend()\n",
    "plt.show()"
   ]
  },
  {
   "cell_type": "code",
   "execution_count": 21,
   "metadata": {},
   "outputs": [
    {
     "data": {
      "image/png": "[encoded data removed]",
      "text/plain": [
       "<Figure size 432x288 with 1 Axes>"
      ]
     },
     "metadata": {
      "needs_background": "light"
     },
     "output_type": "display_data"
    }
   ],
   "source": [
    "plt.clf()\n",
    "acc = history_dict['acc']\n",
    "val_acc = history_dict['val_acc']\n",
    "plt.plot(epochs, acc, 'bo', label='Training acc')\n",
    "plt.plot(epochs, val_acc, 'b', label='Validation acc')\n",
    "plt.title('Training and validation accuracy')\n",
    "plt.xlabel('Epochs')\n",
    "plt.ylabel('Accuracy')\n",
    "plt.legend()\n",
    "plt.show()"
   ]
  },
  {
   "cell_type": "code",
   "execution_count": 31,
   "metadata": {},
   "outputs": [
    {
     "name": "stdout",
     "output_type": "stream",
     "text": [
      "Epoch 1/4\n",
      "25000/25000 [==============================] - 6s 243us/step - loss: 0.4255 - accuracy: 0.8135\n",
      "Epoch 2/4\n",
      "25000/25000 [==============================] - 6s 231us/step - loss: 0.2332 - accuracy: 0.9138\n",
      "Epoch 3/4\n",
      "25000/25000 [==============================] - 6s 230us/step - loss: 0.1825 - accuracy: 0.9320\n",
      "Epoch 4/4\n",
      "25000/25000 [==============================] - 6s 225us/step - loss: 0.1549 - accuracy: 0.9424\n",
      "25000/25000 [==============================] - 7s 264us/step\n"
     ]
    },
    {
     "data": {
      "text/plain": [
       "[0.4232831921386719, 0.8506399989128113]"
      ]
     },
     "execution_count": 31,
     "metadata": {},
     "output_type": "execute_result"
    }
   ],
   "source": [
    "model = models.Sequential()\n",
    "model.add(layers.Dense(64, activation='relu', input_shape=(10000,)))\n",
    "model.add(layers.Dense(64, activation='relu'))\n",
    "model.add(layers.Dense(1, activation='sigmoid'))\n",
    "model.compile(optimizer='rmsprop',\n",
    "loss='binary_crossentropy',\n",
    "metrics=['accuracy'])\n",
    "model.fit(x_train, y_train, epochs=4, batch_size=512)\n",
    "results = model.evaluate(x_test, y_test)\n",
    "results"
   ]
  },
  {
   "cell_type": "code",
   "execution_count": 25,
   "metadata": {},
   "outputs": [
    {
     "data": {
      "text/plain": [
       "array([[0.1548531 ],\n",
       "       [0.9997362 ],\n",
       "       [0.5775565 ],\n",
       "       ...,\n",
       "       [0.05679545],\n",
       "       [0.04232627],\n",
       "       [0.5328085 ]], dtype=float32)"
      ]
     },
     "execution_count": 25,
     "metadata": {},
     "output_type": "execute_result"
    }
   ],
   "source": [
    "model.predict(x_test)"
   ]
  },
  {
   "cell_type": "code",
   "execution_count": null,
   "metadata": {},
   "outputs": [],
   "source": []
  }
 ],
 "metadata": {
  "kernelspec": {
   "display_name": "Python 3",
   "language": "python",
   "name": "python3"
  },
  "language_info": {
   "codemirror_mode": {
    "name": "ipython",
    "version": 3
   },
   "file_extension": ".py",
   "mimetype": "text/x-python",
   "name": "python",
   "nbconvert_exporter": "python",
   "pygments_lexer": "ipython3",
   "version": "3.7.6"
  }
 },
 "nbformat": 4,
 "nbformat_minor": 4
}
