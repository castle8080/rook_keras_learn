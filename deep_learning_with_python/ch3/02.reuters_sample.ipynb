{
 "cells": [
  {
   "cell_type": "markdown",
   "metadata": {},
   "source": [
    "# Example #2 Reuters: Chapter 3\n",
    "\n",
    "Example of multiclass classification."
   ]
  },
  {
   "cell_type": "code",
   "execution_count": 111,
   "metadata": {},
   "outputs": [],
   "source": [
    "from keras.datasets import reuters\n",
    "import numpy as np\n",
    "import pandas as pd\n",
    "\n",
    "from keras import models\n",
    "from keras import layers\n",
    "from keras import optimizers\n",
    "from keras.utils.np_utils import to_categorical\n",
    "\n",
    "from sklearn.metrics import confusion_matrix\n",
    "import matplotlib.pyplot as plt\n",
    "import seaborn as sns\n",
    "\n",
    "from IPython.display import display, HTML"
   ]
  },
  {
   "cell_type": "markdown",
   "metadata": {},
   "source": [
    "## Load Data"
   ]
  },
  {
   "cell_type": "code",
   "execution_count": 4,
   "metadata": {},
   "outputs": [],
   "source": [
    "(train_data, train_labels), (test_data, test_labels) = reuters.load_data(num_words=10000)"
   ]
  },
  {
   "cell_type": "markdown",
   "metadata": {},
   "source": [
    "## Examine Data"
   ]
  },
  {
   "cell_type": "code",
   "execution_count": 6,
   "metadata": {},
   "outputs": [],
   "source": [
    "word_index = reuters.get_word_index()\n",
    "reverse_word_index = dict([(value, key) for (key, value) in word_index.items()])\n",
    "\n",
    "def get_word(i):\n",
    "    # Decodes the review. Note that the indices are offset by 3 because 0, 1, and 2 are\n",
    "    # reserved indices for “padding,” “start of sequence,” and “unknown.”\n",
    "    return reverse_word_index.get(i-3, '?')\n",
    "\n",
    "def get_text(word_ids):\n",
    "    return \" \".join(get_word(wid) for wid in word_ids)"
   ]
  },
  {
   "cell_type": "code",
   "execution_count": 30,
   "metadata": {},
   "outputs": [],
   "source": [
    "#https://github.com/keras-team/keras/issues/12072#issuecomment-458905721\n",
    "topic_indices = {'copper': 6, 'livestock': 28, 'gold': 25, 'money-fx': 19, 'ipi': 30, 'trade': 11,\n",
    "                 'cocoa': 0, 'iron-steel': 31, 'reserves': 12, 'tin': 26, 'zinc': 37, 'jobs': 34,\n",
    "                 'ship': 13, 'cotton': 14, 'alum': 23, 'strategic-metal': 27, 'lead': 45, 'housing': 7,\n",
    "                 'meal-feed': 22, 'gnp': 21, 'sugar': 10, 'rubber': 32, 'dlr': 40, 'veg-oil': 2,\n",
    "                 'interest': 20, 'crude': 16, 'coffee': 9, 'wheat': 5, 'carcass': 15, 'lei': 35,\n",
    "                 'gas': 41, 'nat-gas': 17, 'oilseed': 24, 'orange': 38, 'heat': 33, 'wpi': 43,\n",
    "                 'silver': 42, 'cpi': 18, 'earn': 3, 'bop': 36, 'money-supply': 8, 'hog': 44, 'acq': 4,\n",
    "                 'pet-chem': 39, 'grain': 1, 'retail': 29}\n",
    "\n",
    "reverse_topics = { tid:topic for topic, tid in topic_indices.items()}"
   ]
  },
  {
   "cell_type": "code",
   "execution_count": 32,
   "metadata": {},
   "outputs": [
    {
     "data": {
      "text/html": [
       "<h2>ID: 6758</h2>"
      ],
      "text/plain": [
       "<IPython.core.display.HTML object>"
      ]
     },
     "metadata": {},
     "output_type": "display_data"
    },
    {
     "data": {
      "text/html": [
       "Topic: ship"
      ],
      "text/plain": [
       "<IPython.core.display.HTML object>"
      ]
     },
     "metadata": {},
     "output_type": "display_data"
    },
    {
     "data": {
      "text/html": [
       "<textarea rows='10' cols='100'>? iraq said its forces sank three iranian boats that tried to approach its ? deep water oil terminal in the northern gulf today a military spokesman quoted by the official iraqi news agency said other iranian boats ? he did not identify the vessels iraq's major oil outlets in the northern gulf were closed shortly after the war with iran started in late 1980 reuter 3</textarea>"
      ],
      "text/plain": [
       "<IPython.core.display.HTML object>"
      ]
     },
     "metadata": {},
     "output_type": "display_data"
    },
    {
     "data": {
      "text/html": [
       "<h2>ID: 4895</h2>"
      ],
      "text/plain": [
       "<IPython.core.display.HTML object>"
      ]
     },
     "metadata": {},
     "output_type": "display_data"
    },
    {
     "data": {
      "text/html": [
       "Topic: money-fx"
      ],
      "text/plain": [
       "<IPython.core.display.HTML object>"
      ]
     },
     "metadata": {},
     "output_type": "display_data"
    },
    {
     "data": {
      "text/html": [
       "<textarea rows='10' cols='100'>? the bundesbank declined to comment on rumours in tokyo that it was intervening heavily to support the dollar but dealers here said they had not seen the german central bank in the market all morning the dollar was quoted at around 1 ? marks shortly after midday in nervous but quiet trading up from its 1 ? 85 opening spreads against the mark remained around 10 basis points with some banks quoting only five point spreads dealers said spreads would widen and the dollar would move more sharply if the bundesbank did intervene reuter 3</textarea>"
      ],
      "text/plain": [
       "<IPython.core.display.HTML object>"
      ]
     },
     "metadata": {},
     "output_type": "display_data"
    },
    {
     "data": {
      "text/html": [
       "<h2>ID: 7170</h2>"
      ],
      "text/plain": [
       "<IPython.core.display.HTML object>"
      ]
     },
     "metadata": {},
     "output_type": "display_data"
    },
    {
     "data": {
      "text/html": [
       "Topic: acq"
      ],
      "text/plain": [
       "<IPython.core.display.HTML object>"
      ]
     },
     "metadata": {},
     "output_type": "display_data"
    },
    {
     "data": {
      "text/html": [
       "<textarea rows='10' cols='100'>? new york investor george soros and an investment fund he controls said they raised their stake in king world productions inc to 2 485 510 shares or 8 1 pct of the total outstanding from 1 986 710 shares or 6 5 pct in a filing with the securities and exchange commission soros said his group bought a net 498 800 king world common shares between jan 8 and march 6 at prices ranging ? 18 924 to 21 203 dlrs a share reuter 3</textarea>"
      ],
      "text/plain": [
       "<IPython.core.display.HTML object>"
      ]
     },
     "metadata": {},
     "output_type": "display_data"
    },
    {
     "data": {
      "text/html": [
       "<h2>ID: 6981</h2>"
      ],
      "text/plain": [
       "<IPython.core.display.HTML object>"
      ]
     },
     "metadata": {},
     "output_type": "display_data"
    },
    {
     "data": {
      "text/html": [
       "Topic: grain"
      ],
      "text/plain": [
       "<IPython.core.display.HTML object>"
      ]
     },
     "metadata": {},
     "output_type": "display_data"
    },
    {
     "data": {
      "text/html": [
       "<textarea rows='10' cols='100'>? current interest by soviet ? in taking ? vessels on ? mainly from the u s to carry grain is seen as the chief factor behind the recent surge in values on the baltic international freight futures exchange biffex dealers said futures soared through the 1 000 points barrier today for the first time in the spot position since the market opened in may 1985 however the market ? to be nervous with values some 100 points above the baltic freight index which is calculated on spot physical rates no specific figure has been put for soviet ? but they have been sufficient to drain ? tonnage about 50 000 to 65 000 tonnes dw from the u s gulf which would normally operate on the trip to japan dealers said it appears that the chernobyl disaster had a worse effect on its the soviet grain harvest than reported one said freight rates on the gulf japan grain route have subsequently been the main beneficiary of current ? conditions with very few if any ? sized ships left for the remainder of this month in the gulf rates have risen steadily for vessels loading next month dealers said there is even talk that owners are considering taking older vessels out of lay up to meet current demand sentiment has also been aided by suggestions that chinese operators may be in the market for similar ? business later in the year they said they anticipate this would appear around june and it has prompted keen demand in the july biffex contract despite it normally being a slack time in the shipping year market sentiment has ? in recent weeks rates turned down as an earlier rise in ? prices which had supported the market at the start of the year ? but then recovered on the reported soviet interest reuter 3</textarea>"
      ],
      "text/plain": [
       "<IPython.core.display.HTML object>"
      ]
     },
     "metadata": {},
     "output_type": "display_data"
    },
    {
     "data": {
      "text/html": [
       "<h2>ID: 7485</h2>"
      ],
      "text/plain": [
       "<IPython.core.display.HTML object>"
      ]
     },
     "metadata": {},
     "output_type": "display_data"
    },
    {
     "data": {
      "text/html": [
       "Topic: interest"
      ],
      "text/plain": [
       "<IPython.core.display.HTML object>"
      ]
     },
     "metadata": {},
     "output_type": "display_data"
    },
    {
     "data": {
      "text/html": [
       "<textarea rows='10' cols='100'>? a tight money market has pushed interest rates on three to six month time deposits to between 15 and 18 pct from 13 to 15 pct a month ago bankers said march is usually a tight month for the money market because of tax payments and banks' need to attract funds for their year end accounts on march 31 this year the situation has been made worse by december's rush to buy dollars by companies and businessmen who feared imposition of exchange controls much of that outflow has yet to be converted back into rupiah a lot of small money has come back in but the big money is holding out until after april one u s banker said the tight money policy of bank indonesia the central bank is helping to keep rates high short term lending rates now average 25 pct a year with no prospect they will be lowered soon the bankers said central bank governor ? ? said earlier this week that indonesia could look forward to better economic prospects in 1987 88 but added the speculators who led a run on the rupiah late last year could again pose problems indonesia holds general elections on april 23 the first in five years and most businessmen expect no new government economic packages or incentives before then some people are nervous about what the government will do after the election one banker said they normally try to do things before the ? inter governmental group on indonesia meeting in june to prove they are doing something about the economy to show they ? a couple of billion dollars the ? which groups 14 industrialised ? countries and four agencies gave indonesia 2 5 billion dlrs in soft loans and grants last year reuter 3</textarea>"
      ],
      "text/plain": [
       "<IPython.core.display.HTML object>"
      ]
     },
     "metadata": {},
     "output_type": "display_data"
    }
   ],
   "source": [
    "for i in range(0, 5):\n",
    "    id = np.random.randint(0, len(train_data))\n",
    "    text = get_text(train_data[id])\n",
    "\n",
    "    display(HTML(f\"<h2>ID: {id}</h2>\"))\n",
    "    display(HTML(f\"Topic: {reverse_topics[train_labels[id]]}\"))\n",
    "    display(HTML(f\"<textarea rows='10' cols='100'>{text}</textarea>\"))"
   ]
  },
  {
   "cell_type": "code",
   "execution_count": 41,
   "metadata": {},
   "outputs": [
    {
     "data": {
      "text/html": [
       "<div>\n",
       "<style scoped>\n",
       "    .dataframe tbody tr th:only-of-type {\n",
       "        vertical-align: middle;\n",
       "    }\n",
       "\n",
       "    .dataframe tbody tr th {\n",
       "        vertical-align: top;\n",
       "    }\n",
       "\n",
       "    .dataframe thead th {\n",
       "        text-align: right;\n",
       "    }\n",
       "</style>\n",
       "<table border=\"1\" class=\"dataframe\">\n",
       "  <thead>\n",
       "    <tr style=\"text-align: right;\">\n",
       "      <th></th>\n",
       "      <th>TopicId</th>\n",
       "      <th>Count</th>\n",
       "      <th>Topic</th>\n",
       "      <th>Percent</th>\n",
       "    </tr>\n",
       "  </thead>\n",
       "  <tbody>\n",
       "    <tr>\n",
       "      <th>0</th>\n",
       "      <td>3</td>\n",
       "      <td>3159</td>\n",
       "      <td>earn</td>\n",
       "      <td>35.170341</td>\n",
       "    </tr>\n",
       "    <tr>\n",
       "      <th>1</th>\n",
       "      <td>4</td>\n",
       "      <td>1949</td>\n",
       "      <td>acq</td>\n",
       "      <td>21.698953</td>\n",
       "    </tr>\n",
       "    <tr>\n",
       "      <th>2</th>\n",
       "      <td>19</td>\n",
       "      <td>549</td>\n",
       "      <td>money-fx</td>\n",
       "      <td>6.112224</td>\n",
       "    </tr>\n",
       "    <tr>\n",
       "      <th>3</th>\n",
       "      <td>16</td>\n",
       "      <td>444</td>\n",
       "      <td>crude</td>\n",
       "      <td>4.943220</td>\n",
       "    </tr>\n",
       "    <tr>\n",
       "      <th>4</th>\n",
       "      <td>1</td>\n",
       "      <td>432</td>\n",
       "      <td>grain</td>\n",
       "      <td>4.809619</td>\n",
       "    </tr>\n",
       "    <tr>\n",
       "      <th>5</th>\n",
       "      <td>11</td>\n",
       "      <td>390</td>\n",
       "      <td>trade</td>\n",
       "      <td>4.342017</td>\n",
       "    </tr>\n",
       "    <tr>\n",
       "      <th>6</th>\n",
       "      <td>20</td>\n",
       "      <td>269</td>\n",
       "      <td>interest</td>\n",
       "      <td>2.994879</td>\n",
       "    </tr>\n",
       "    <tr>\n",
       "      <th>7</th>\n",
       "      <td>13</td>\n",
       "      <td>172</td>\n",
       "      <td>ship</td>\n",
       "      <td>1.914941</td>\n",
       "    </tr>\n",
       "    <tr>\n",
       "      <th>8</th>\n",
       "      <td>8</td>\n",
       "      <td>139</td>\n",
       "      <td>money-supply</td>\n",
       "      <td>1.547540</td>\n",
       "    </tr>\n",
       "    <tr>\n",
       "      <th>9</th>\n",
       "      <td>10</td>\n",
       "      <td>124</td>\n",
       "      <td>sugar</td>\n",
       "      <td>1.380539</td>\n",
       "    </tr>\n",
       "  </tbody>\n",
       "</table>\n",
       "</div>"
      ],
      "text/plain": [
       "   TopicId  Count         Topic    Percent\n",
       "0        3   3159          earn  35.170341\n",
       "1        4   1949           acq  21.698953\n",
       "2       19    549      money-fx   6.112224\n",
       "3       16    444         crude   4.943220\n",
       "4        1    432         grain   4.809619\n",
       "5       11    390         trade   4.342017\n",
       "6       20    269      interest   2.994879\n",
       "7       13    172          ship   1.914941\n",
       "8        8    139  money-supply   1.547540\n",
       "9       10    124         sugar   1.380539"
      ]
     },
     "execution_count": 41,
     "metadata": {},
     "output_type": "execute_result"
    }
   ],
   "source": [
    "# Show top topics\n",
    "\n",
    "topic_dist = (\n",
    "    pd.Series(y_train)\n",
    "        .value_counts()\n",
    "        .to_frame()\n",
    "        .reset_index()\n",
    "        .rename(columns={'index': 'TopicId', 0: 'Count'}))\n",
    "\n",
    "topic_dist['TopicId'] = topic_dist.TopicId.astype('int')\n",
    "topic_dist['Topic'] = topic_dist.TopicId.apply(reverse_topics.get)\n",
    "topic_dist['Percent'] = 100 * topic_dist.Count / topic_dist.Count.sum()\n",
    "topic_dist = topic_dist.sort_values(by='Count', ascending=False)\n",
    "topic_dist.head(10)"
   ]
  },
  {
   "cell_type": "markdown",
   "metadata": {},
   "source": [
    "## Prepare Data"
   ]
  },
  {
   "cell_type": "code",
   "execution_count": 54,
   "metadata": {},
   "outputs": [],
   "source": [
    "def vectorize_sequences(sequences, dimension=10000):\n",
    "    results = np.zeros((len(sequences), dimension))\n",
    "    for i, sequence in enumerate(sequences):\n",
    "        results[i, sequence] = 1.\n",
    "    return results\n",
    "\n",
    "x_train = vectorize_sequences(train_data)\n",
    "x_test = vectorize_sequences(test_data)\n",
    "\n",
    "y_train = np.asarray(train_labels).astype('float32')\n",
    "y_test = np.asarray(test_labels).astype('float32')\n",
    "\n",
    "one_hot_train_labels = to_categorical(train_labels)\n",
    "one_hot_test_labels = to_categorical(test_labels)\n",
    "\n",
    "input_features = x_train.shape[1]\n",
    "output_features = one_hot_train_labels.shape[1]"
   ]
  },
  {
   "cell_type": "markdown",
   "metadata": {},
   "source": [
    "## Train Model"
   ]
  },
  {
   "cell_type": "code",
   "execution_count": 63,
   "metadata": {},
   "outputs": [],
   "source": [
    "def create_model():\n",
    "    model = models.Sequential()\n",
    "    model.add(layers.Dense(64, activation='relu', input_shape=(input_features,)))\n",
    "    model.add(layers.Dense(64, activation='relu'))\n",
    "    model.add(layers.Dense(output_features, activation='softmax'))\n",
    "\n",
    "    model.compile(\n",
    "        optimizer='rmsprop',\n",
    "        loss='categorical_crossentropy',\n",
    "        metrics=['accuracy'])\n",
    "    \n",
    "    return model\n",
    "\n",
    "def plot_training(history):\n",
    "    history_dict = history.history\n",
    "    loss_values = history_dict['loss']\n",
    "    val_loss_values = history_dict['val_loss']\n",
    "    epochs = range(1, len(loss_values) + 1)\n",
    "    plt.plot(epochs, loss_values, 'bo', label='Training loss')\n",
    "    plt.plot(epochs, val_loss_values, 'b', label='Validation loss')\n",
    "    plt.title('Training and validation loss')\n",
    "    plt.xlabel('Epochs')\n",
    "    plt.ylabel('Loss')\n",
    "    plt.legend()\n",
    "    plt.gca().grid()\n",
    "    plt.show()\n",
    "\n",
    "    acc = history_dict['accuracy']\n",
    "    val_acc = history_dict['val_accuracy']\n",
    "    plt.plot(epochs, acc, 'bo', label='Training acc')\n",
    "    plt.plot(epochs, val_acc, 'b', label='Validation acc')\n",
    "    plt.title('Training and validation accuracy')\n",
    "    plt.xlabel('Epochs')\n",
    "    plt.ylabel('Accuracy')\n",
    "    plt.legend()\n",
    "    plt.gca().grid()\n",
    "    plt.show()"
   ]
  },
  {
   "cell_type": "code",
   "execution_count": 64,
   "metadata": {},
   "outputs": [
    {
     "name": "stdout",
     "output_type": "stream",
     "text": [
      "Train on 6736 samples, validate on 2246 samples\n",
      "Epoch 1/20\n",
      "6736/6736 [==============================] - 2s 326us/step - loss: 2.8285 - accuracy: 0.5126 - val_loss: 1.8559 - val_accuracy: 0.6736\n",
      "Epoch 2/20\n",
      "6736/6736 [==============================] - 2s 291us/step - loss: 1.5171 - accuracy: 0.6997 - val_loss: 1.4120 - val_accuracy: 0.6848\n",
      "Epoch 3/20\n",
      "6736/6736 [==============================] - 2s 294us/step - loss: 1.1079 - accuracy: 0.7656 - val_loss: 1.1994 - val_accuracy: 0.7404\n",
      "Epoch 4/20\n",
      "6736/6736 [==============================] - 2s 296us/step - loss: 0.8818 - accuracy: 0.8121 - val_loss: 1.1092 - val_accuracy: 0.7689\n",
      "Epoch 5/20\n",
      "6736/6736 [==============================] - 2s 293us/step - loss: 0.7160 - accuracy: 0.8465 - val_loss: 1.0395 - val_accuracy: 0.7823\n",
      "Epoch 6/20\n",
      "6736/6736 [==============================] - 2s 288us/step - loss: 0.5836 - accuracy: 0.8809 - val_loss: 1.0342 - val_accuracy: 0.7720\n",
      "Epoch 7/20\n",
      "6736/6736 [==============================] - 2s 293us/step - loss: 0.4765 - accuracy: 0.9026 - val_loss: 0.9793 - val_accuracy: 0.7863\n",
      "Epoch 8/20\n",
      "6736/6736 [==============================] - 2s 293us/step - loss: 0.3897 - accuracy: 0.9219 - val_loss: 0.9737 - val_accuracy: 0.7912\n",
      "Epoch 9/20\n",
      "6736/6736 [==============================] - 2s 289us/step - loss: 0.3203 - accuracy: 0.9366 - val_loss: 0.9671 - val_accuracy: 0.8063\n",
      "Epoch 10/20\n",
      "6736/6736 [==============================] - 2s 296us/step - loss: 0.2672 - accuracy: 0.9457 - val_loss: 0.9632 - val_accuracy: 0.8032\n",
      "Epoch 11/20\n",
      "6736/6736 [==============================] - 2s 294us/step - loss: 0.2270 - accuracy: 0.9515 - val_loss: 1.0112 - val_accuracy: 0.7970\n",
      "Epoch 12/20\n",
      "6736/6736 [==============================] - 2s 291us/step - loss: 0.1918 - accuracy: 0.9571 - val_loss: 0.9574 - val_accuracy: 0.8085\n",
      "Epoch 13/20\n",
      "6736/6736 [==============================] - 2s 290us/step - loss: 0.1687 - accuracy: 0.9598 - val_loss: 1.0461 - val_accuracy: 0.7814\n",
      "Epoch 14/20\n",
      "6736/6736 [==============================] - 2s 291us/step - loss: 0.1518 - accuracy: 0.9627 - val_loss: 1.0158 - val_accuracy: 0.8068\n",
      "Epoch 15/20\n",
      "6736/6736 [==============================] - 2s 295us/step - loss: 0.1403 - accuracy: 0.9623 - val_loss: 1.0432 - val_accuracy: 0.8108\n",
      "Epoch 16/20\n",
      "6736/6736 [==============================] - 2s 295us/step - loss: 0.1255 - accuracy: 0.9630 - val_loss: 1.0597 - val_accuracy: 0.8014\n",
      "Epoch 17/20\n",
      "6736/6736 [==============================] - 2s 296us/step - loss: 0.1190 - accuracy: 0.9648 - val_loss: 1.1016 - val_accuracy: 0.7956\n",
      "Epoch 18/20\n",
      "6736/6736 [==============================] - 2s 296us/step - loss: 0.1105 - accuracy: 0.9635 - val_loss: 1.1789 - val_accuracy: 0.7850\n",
      "Epoch 19/20\n",
      "6736/6736 [==============================] - 2s 289us/step - loss: 0.1071 - accuracy: 0.9644 - val_loss: 1.2179 - val_accuracy: 0.7765\n",
      "Epoch 20/20\n",
      "6736/6736 [==============================] - 2s 293us/step - loss: 0.0997 - accuracy: 0.9670 - val_loss: 1.1606 - val_accuracy: 0.7934\n"
     ]
    },
    {
     "data": {
      "image/png": "[encoded data removed]",
      "text/plain": [
       "<Figure size 432x288 with 1 Axes>"
      ]
     },
     "metadata": {
      "needs_background": "light"
     },
     "output_type": "display_data"
    },
    {
     "data": {
      "image/png": "[encoded data removed]",
      "text/plain": [
       "<Figure size 432x288 with 1 Axes>"
      ]
     },
     "metadata": {
      "needs_background": "light"
     },
     "output_type": "display_data"
    }
   ],
   "source": [
    "model = create_model()\n",
    "\n",
    "history = model.fit(\n",
    "    x_train,\n",
    "    one_hot_train_labels,\n",
    "    epochs=20,\n",
    "    batch_size=512,\n",
    "    validation_split=0.25)\n",
    "\n",
    "plot_training(history)"
   ]
  },
  {
   "cell_type": "code",
   "execution_count": 65,
   "metadata": {},
   "outputs": [
    {
     "name": "stdout",
     "output_type": "stream",
     "text": [
      "Epoch 1/9\n",
      "8982/8982 [==============================] - 3s 297us/step - loss: 2.5224 - accuracy: 0.5540\n",
      "Epoch 2/9\n",
      "8982/8982 [==============================] - 2s 233us/step - loss: 1.3362 - accuracy: 0.7187\n",
      "Epoch 3/9\n",
      "8982/8982 [==============================] - 2s 232us/step - loss: 0.9837 - accuracy: 0.7926\n",
      "Epoch 4/9\n",
      "8982/8982 [==============================] - 2s 226us/step - loss: 0.7660 - accuracy: 0.8408\n",
      "Epoch 5/9\n",
      "8982/8982 [==============================] - 2s 246us/step - loss: 0.6061 - accuracy: 0.8752\n",
      "Epoch 6/9\n",
      "8982/8982 [==============================] - 2s 236us/step - loss: 0.4878 - accuracy: 0.9010\n",
      "Epoch 7/9\n",
      "8982/8982 [==============================] - 2s 238us/step - loss: 0.3914 - accuracy: 0.9218\n",
      "Epoch 8/9\n",
      "8982/8982 [==============================] - 2s 236us/step - loss: 0.3207 - accuracy: 0.9315\n",
      "Epoch 9/9\n",
      "8982/8982 [==============================] - 2s 236us/step - loss: 0.2674 - accuracy: 0.9403\n"
     ]
    }
   ],
   "source": [
    "model = create_model()\n",
    "\n",
    "history = model.fit(\n",
    "    x_train,\n",
    "    one_hot_train_labels,\n",
    "    epochs=9,\n",
    "    batch_size=512)"
   ]
  },
  {
   "cell_type": "code",
   "execution_count": 67,
   "metadata": {},
   "outputs": [
    {
     "name": "stdout",
     "output_type": "stream",
     "text": [
      "2246/2246 [==============================] - 1s 264us/step\n"
     ]
    },
    {
     "data": {
      "text/plain": [
       "[0.9437285991831752, 0.8005343079566956]"
      ]
     },
     "execution_count": 67,
     "metadata": {},
     "output_type": "execute_result"
    }
   ],
   "source": [
    "results = model.evaluate(x_test, one_hot_test_labels)\n",
    "results"
   ]
  },
  {
   "cell_type": "markdown",
   "metadata": {},
   "source": [
    "## Examine Results"
   ]
  },
  {
   "cell_type": "code",
   "execution_count": 83,
   "metadata": {},
   "outputs": [],
   "source": [
    "probabilities = pd.DataFrame(model.predict(x_test))"
   ]
  },
  {
   "cell_type": "code",
   "execution_count": 93,
   "metadata": {},
   "outputs": [
    {
     "data": {
      "text/html": [
       "<div>\n",
       "<style scoped>\n",
       "    .dataframe tbody tr th:only-of-type {\n",
       "        vertical-align: middle;\n",
       "    }\n",
       "\n",
       "    .dataframe tbody tr th {\n",
       "        vertical-align: top;\n",
       "    }\n",
       "\n",
       "    .dataframe thead th {\n",
       "        text-align: right;\n",
       "    }\n",
       "</style>\n",
       "<table border=\"1\" class=\"dataframe\">\n",
       "  <thead>\n",
       "    <tr style=\"text-align: right;\">\n",
       "      <th></th>\n",
       "      <th>Actual</th>\n",
       "      <th>ActualTopic</th>\n",
       "      <th>Predicted</th>\n",
       "      <th>PredictedTopic</th>\n",
       "      <th>Probability</th>\n",
       "    </tr>\n",
       "  </thead>\n",
       "  <tbody>\n",
       "    <tr>\n",
       "      <th>0</th>\n",
       "      <td>3.0</td>\n",
       "      <td>earn</td>\n",
       "      <td>3</td>\n",
       "      <td>earn</td>\n",
       "      <td>0.872876</td>\n",
       "    </tr>\n",
       "    <tr>\n",
       "      <th>1</th>\n",
       "      <td>10.0</td>\n",
       "      <td>sugar</td>\n",
       "      <td>10</td>\n",
       "      <td>sugar</td>\n",
       "      <td>0.909702</td>\n",
       "    </tr>\n",
       "    <tr>\n",
       "      <th>2</th>\n",
       "      <td>1.0</td>\n",
       "      <td>grain</td>\n",
       "      <td>1</td>\n",
       "      <td>grain</td>\n",
       "      <td>0.880117</td>\n",
       "    </tr>\n",
       "    <tr>\n",
       "      <th>3</th>\n",
       "      <td>4.0</td>\n",
       "      <td>acq</td>\n",
       "      <td>4</td>\n",
       "      <td>acq</td>\n",
       "      <td>0.482704</td>\n",
       "    </tr>\n",
       "    <tr>\n",
       "      <th>4</th>\n",
       "      <td>4.0</td>\n",
       "      <td>acq</td>\n",
       "      <td>13</td>\n",
       "      <td>ship</td>\n",
       "      <td>0.970842</td>\n",
       "    </tr>\n",
       "    <tr>\n",
       "      <th>5</th>\n",
       "      <td>3.0</td>\n",
       "      <td>earn</td>\n",
       "      <td>3</td>\n",
       "      <td>earn</td>\n",
       "      <td>0.989242</td>\n",
       "    </tr>\n",
       "    <tr>\n",
       "      <th>6</th>\n",
       "      <td>3.0</td>\n",
       "      <td>earn</td>\n",
       "      <td>3</td>\n",
       "      <td>earn</td>\n",
       "      <td>0.979400</td>\n",
       "    </tr>\n",
       "    <tr>\n",
       "      <th>7</th>\n",
       "      <td>3.0</td>\n",
       "      <td>earn</td>\n",
       "      <td>3</td>\n",
       "      <td>earn</td>\n",
       "      <td>0.998736</td>\n",
       "    </tr>\n",
       "    <tr>\n",
       "      <th>8</th>\n",
       "      <td>3.0</td>\n",
       "      <td>earn</td>\n",
       "      <td>3</td>\n",
       "      <td>earn</td>\n",
       "      <td>0.999495</td>\n",
       "    </tr>\n",
       "    <tr>\n",
       "      <th>9</th>\n",
       "      <td>3.0</td>\n",
       "      <td>earn</td>\n",
       "      <td>3</td>\n",
       "      <td>earn</td>\n",
       "      <td>0.986487</td>\n",
       "    </tr>\n",
       "  </tbody>\n",
       "</table>\n",
       "</div>"
      ],
      "text/plain": [
       "   Actual ActualTopic  Predicted PredictedTopic  Probability\n",
       "0     3.0        earn          3           earn     0.872876\n",
       "1    10.0       sugar         10          sugar     0.909702\n",
       "2     1.0       grain          1          grain     0.880117\n",
       "3     4.0         acq          4            acq     0.482704\n",
       "4     4.0         acq         13           ship     0.970842\n",
       "5     3.0        earn          3           earn     0.989242\n",
       "6     3.0        earn          3           earn     0.979400\n",
       "7     3.0        earn          3           earn     0.998736\n",
       "8     3.0        earn          3           earn     0.999495\n",
       "9     3.0        earn          3           earn     0.986487"
      ]
     },
     "execution_count": 93,
     "metadata": {},
     "output_type": "execute_result"
    }
   ],
   "source": [
    "predictions = pd.DataFrame()\n",
    "predictions['Actual'] = y_test\n",
    "predictions['ActualTopic'] = predictions.Actual.apply(lambda topic_id: reverse_topics.get(int(topic_id)))\n",
    "predictions['Predicted'] = probabilities.idxmax(axis=1)\n",
    "predictions['PredictedTopic'] = predictions.Predicted.apply(lambda topic_id: reverse_topics.get(int(topic_id)))\n",
    "predictions['Probability'] = probabilities.max(axis=1)\n",
    "predictions.head(10)"
   ]
  },
  {
   "cell_type": "code",
   "execution_count": 158,
   "metadata": {},
   "outputs": [
    {
     "data": {
      "image/png": "[encoded data removed]",
      "text/plain": [
       "<Figure size 576x576 with 2 Axes>"
      ]
     },
     "metadata": {
      "needs_background": "light"
     },
     "output_type": "display_data"
    }
   ],
   "source": [
    "# Plot the confusion matrix\n",
    "pd.set_option('max_columns', 100)\n",
    "cf_df = pd.DataFrame(confusion_matrix(predictions.Actual.astype('int'), predictions.Predicted, normalize='true'))\n",
    "plt.figure(figsize = (8,8))\n",
    "sns.heatmap(cf_df, annot=False)\n",
    "plt.show()"
   ]
  },
  {
   "cell_type": "code",
   "execution_count": 159,
   "metadata": {},
   "outputs": [
    {
     "data": {
      "text/html": [
       "<div>\n",
       "<style scoped>\n",
       "    .dataframe tbody tr th:only-of-type {\n",
       "        vertical-align: middle;\n",
       "    }\n",
       "\n",
       "    .dataframe tbody tr th {\n",
       "        vertical-align: top;\n",
       "    }\n",
       "\n",
       "    .dataframe thead th {\n",
       "        text-align: right;\n",
       "    }\n",
       "</style>\n",
       "<table border=\"1\" class=\"dataframe\">\n",
       "  <thead>\n",
       "    <tr style=\"text-align: right;\">\n",
       "      <th></th>\n",
       "      <th>ActualId</th>\n",
       "      <th>Actual</th>\n",
       "      <th>PredictedId</th>\n",
       "      <th>Predicted</th>\n",
       "      <th>Value</th>\n",
       "    </tr>\n",
       "  </thead>\n",
       "  <tbody>\n",
       "    <tr>\n",
       "      <th>1819</th>\n",
       "      <td>40</td>\n",
       "      <td>dlr</td>\n",
       "      <td>19</td>\n",
       "      <td>money-fx</td>\n",
       "      <td>0.800000</td>\n",
       "    </tr>\n",
       "    <tr>\n",
       "      <th>226</th>\n",
       "      <td>5</td>\n",
       "      <td>wheat</td>\n",
       "      <td>1</td>\n",
       "      <td>grain</td>\n",
       "      <td>0.800000</td>\n",
       "    </tr>\n",
       "    <tr>\n",
       "      <th>1849</th>\n",
       "      <td>41</td>\n",
       "      <td>gas</td>\n",
       "      <td>4</td>\n",
       "      <td>acq</td>\n",
       "      <td>0.625000</td>\n",
       "    </tr>\n",
       "    <tr>\n",
       "      <th>558</th>\n",
       "      <td>12</td>\n",
       "      <td>reserves</td>\n",
       "      <td>19</td>\n",
       "      <td>money-fx</td>\n",
       "      <td>0.538462</td>\n",
       "    </tr>\n",
       "    <tr>\n",
       "      <th>641</th>\n",
       "      <td>14</td>\n",
       "      <td>cotton</td>\n",
       "      <td>11</td>\n",
       "      <td>trade</td>\n",
       "      <td>0.500000</td>\n",
       "    </tr>\n",
       "    <tr>\n",
       "      <th>1666</th>\n",
       "      <td>37</td>\n",
       "      <td>zinc</td>\n",
       "      <td>1</td>\n",
       "      <td>grain</td>\n",
       "      <td>0.500000</td>\n",
       "    </tr>\n",
       "    <tr>\n",
       "      <th>1667</th>\n",
       "      <td>37</td>\n",
       "      <td>zinc</td>\n",
       "      <td>2</td>\n",
       "      <td>veg-oil</td>\n",
       "      <td>0.500000</td>\n",
       "    </tr>\n",
       "    <tr>\n",
       "      <th>631</th>\n",
       "      <td>14</td>\n",
       "      <td>cotton</td>\n",
       "      <td>1</td>\n",
       "      <td>grain</td>\n",
       "      <td>0.500000</td>\n",
       "    </tr>\n",
       "    <tr>\n",
       "      <th>1334</th>\n",
       "      <td>29</td>\n",
       "      <td>retail</td>\n",
       "      <td>30</td>\n",
       "      <td>ipi</td>\n",
       "      <td>0.500000</td>\n",
       "    </tr>\n",
       "    <tr>\n",
       "      <th>781</th>\n",
       "      <td>17</td>\n",
       "      <td>nat-gas</td>\n",
       "      <td>16</td>\n",
       "      <td>crude</td>\n",
       "      <td>0.500000</td>\n",
       "    </tr>\n",
       "    <tr>\n",
       "      <th>1953</th>\n",
       "      <td>43</td>\n",
       "      <td>wpi</td>\n",
       "      <td>18</td>\n",
       "      <td>cpi</td>\n",
       "      <td>0.500000</td>\n",
       "    </tr>\n",
       "    <tr>\n",
       "      <th>1631</th>\n",
       "      <td>36</td>\n",
       "      <td>bop</td>\n",
       "      <td>11</td>\n",
       "      <td>trade</td>\n",
       "      <td>0.363636</td>\n",
       "    </tr>\n",
       "    <tr>\n",
       "      <th>1915</th>\n",
       "      <td>42</td>\n",
       "      <td>silver</td>\n",
       "      <td>25</td>\n",
       "      <td>gold</td>\n",
       "      <td>0.333333</td>\n",
       "    </tr>\n",
       "    <tr>\n",
       "      <th>318</th>\n",
       "      <td>7</td>\n",
       "      <td>housing</td>\n",
       "      <td>3</td>\n",
       "      <td>earn</td>\n",
       "      <td>0.333333</td>\n",
       "    </tr>\n",
       "    <tr>\n",
       "      <th>334</th>\n",
       "      <td>7</td>\n",
       "      <td>housing</td>\n",
       "      <td>20</td>\n",
       "      <td>interest</td>\n",
       "      <td>0.333333</td>\n",
       "    </tr>\n",
       "  </tbody>\n",
       "</table>\n",
       "</div>"
      ],
      "text/plain": [
       "      ActualId    Actual  PredictedId Predicted     Value\n",
       "1819        40       dlr           19  money-fx  0.800000\n",
       "226          5     wheat            1     grain  0.800000\n",
       "1849        41       gas            4       acq  0.625000\n",
       "558         12  reserves           19  money-fx  0.538462\n",
       "641         14    cotton           11     trade  0.500000\n",
       "1666        37      zinc            1     grain  0.500000\n",
       "1667        37      zinc            2   veg-oil  0.500000\n",
       "631         14    cotton            1     grain  0.500000\n",
       "1334        29    retail           30       ipi  0.500000\n",
       "781         17   nat-gas           16     crude  0.500000\n",
       "1953        43       wpi           18       cpi  0.500000\n",
       "1631        36       bop           11     trade  0.363636\n",
       "1915        42    silver           25      gold  0.333333\n",
       "318          7   housing            3      earn  0.333333\n",
       "334          7   housing           20  interest  0.333333"
      ]
     },
     "execution_count": 159,
     "metadata": {},
     "output_type": "execute_result"
    }
   ],
   "source": [
    "# Show some of the most confused topics\n",
    "cf_flat = []\n",
    "for i in range(0, len(cf_df)):\n",
    "    for j in range(0, len(cf_df)):\n",
    "        if i != j:\n",
    "            v = cf_df.loc[i, j]\n",
    "            cf_flat.append(pd.Series({\n",
    "                'ActualId': i,\n",
    "                'Actual': reverse_topics[i],\n",
    "                'PredictedId': j,\n",
    "                'Predicted': reverse_topics[j],\n",
    "                'Value': v\n",
    "            }))\n",
    "            \n",
    "cf_flat = pd.DataFrame(cf_flat)\n",
    "cf_flat = cf_flat.sort_values(by='Value', ascending=False)\n",
    "cf_flat[cf_flat.ActualId != cf_flat.PredictedId].head(15)"
   ]
  },
  {
   "cell_type": "code",
   "execution_count": null,
   "metadata": {},
   "outputs": [],
   "source": []
  }
 ],
 "metadata": {
  "kernelspec": {
   "display_name": "Python 3",
   "language": "python",
   "name": "python3"
  },
  "language_info": {
   "codemirror_mode": {
    "name": "ipython",
    "version": 3
   },
   "file_extension": ".py",
   "mimetype": "text/x-python",
   "name": "python",
   "nbconvert_exporter": "python",
   "pygments_lexer": "ipython3",
   "version": "3.7.6"
  }
 },
 "nbformat": 4,
 "nbformat_minor": 4
}
