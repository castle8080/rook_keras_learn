{
 "cells": [
  {
   "cell_type": "markdown",
   "metadata": {},
   "source": [
    "# Example #2 Reuters: Chapter 3\n",
    "\n",
    "Example of multiclass classification."
   ]
  },
  {
   "cell_type": "code",
   "execution_count": 1,
   "metadata": {},
   "outputs": [
    {
     "name": "stderr",
     "output_type": "stream",
     "text": [
      "Using TensorFlow backend.\n"
     ]
    }
   ],
   "source": [
    "from keras.datasets import reuters\n",
    "import numpy as np\n",
    "import pandas as pd\n",
    "\n",
    "from keras import models\n",
    "from keras import layers\n",
    "from keras import optimizers\n",
    "from keras.utils.np_utils import to_categorical\n",
    "\n",
    "from sklearn.metrics import confusion_matrix\n",
    "import matplotlib.pyplot as plt\n",
    "import seaborn as sns\n",
    "\n",
    "from IPython.display import display, HTML"
   ]
  },
  {
   "cell_type": "markdown",
   "metadata": {},
   "source": [
    "## Load Data"
   ]
  },
  {
   "cell_type": "code",
   "execution_count": 2,
   "metadata": {},
   "outputs": [
    {
     "name": "stdout",
     "output_type": "stream",
     "text": [
      "Downloading data from https://s3.amazonaws.com/text-datasets/reuters.npz\n",
      "2113536/2110848 [==============================] - 2s 1us/step\n"
     ]
    }
   ],
   "source": [
    "(train_data, train_labels), (test_data, test_labels) = reuters.load_data(num_words=10000)"
   ]
  },
  {
   "cell_type": "markdown",
   "metadata": {},
   "source": [
    "## Examine Data"
   ]
  },
  {
   "cell_type": "code",
   "execution_count": 3,
   "metadata": {},
   "outputs": [
    {
     "name": "stdout",
     "output_type": "stream",
     "text": [
      "Downloading data from https://s3.amazonaws.com/text-datasets/reuters_word_index.json\n",
      "557056/550378 [==============================] - 1s 1us/step\n"
     ]
    }
   ],
   "source": [
    "word_index = reuters.get_word_index()\n",
    "reverse_word_index = dict([(value, key) for (key, value) in word_index.items()])\n",
    "\n",
    "def get_word(i):\n",
    "    # Decodes the review. Note that the indices are offset by 3 because 0, 1, and 2 are\n",
    "    # reserved indices for “padding,” “start of sequence,” and “unknown.”\n",
    "    return reverse_word_index.get(i-3, '?')\n",
    "\n",
    "def get_text(word_ids):\n",
    "    return \" \".join(get_word(wid) for wid in word_ids)"
   ]
  },
  {
   "cell_type": "code",
   "execution_count": 4,
   "metadata": {},
   "outputs": [],
   "source": [
    "#https://github.com/keras-team/keras/issues/12072#issuecomment-458905721\n",
    "topic_indices = {'copper': 6, 'livestock': 28, 'gold': 25, 'money-fx': 19, 'ipi': 30, 'trade': 11,\n",
    "                 'cocoa': 0, 'iron-steel': 31, 'reserves': 12, 'tin': 26, 'zinc': 37, 'jobs': 34,\n",
    "                 'ship': 13, 'cotton': 14, 'alum': 23, 'strategic-metal': 27, 'lead': 45, 'housing': 7,\n",
    "                 'meal-feed': 22, 'gnp': 21, 'sugar': 10, 'rubber': 32, 'dlr': 40, 'veg-oil': 2,\n",
    "                 'interest': 20, 'crude': 16, 'coffee': 9, 'wheat': 5, 'carcass': 15, 'lei': 35,\n",
    "                 'gas': 41, 'nat-gas': 17, 'oilseed': 24, 'orange': 38, 'heat': 33, 'wpi': 43,\n",
    "                 'silver': 42, 'cpi': 18, 'earn': 3, 'bop': 36, 'money-supply': 8, 'hog': 44, 'acq': 4,\n",
    "                 'pet-chem': 39, 'grain': 1, 'retail': 29}\n",
    "\n",
    "reverse_topics = { tid:topic for topic, tid in topic_indices.items()}"
   ]
  },
  {
   "cell_type": "code",
   "execution_count": 5,
   "metadata": {},
   "outputs": [
    {
     "data": {
      "text/html": [
       "<h2>ID: 4872</h2>"
      ],
      "text/plain": [
       "<IPython.core.display.HTML object>"
      ]
     },
     "metadata": {},
     "output_type": "display_data"
    },
    {
     "data": {
      "text/html": [
       "Topic: earn"
      ],
      "text/plain": [
       "<IPython.core.display.HTML object>"
      ]
     },
     "metadata": {},
     "output_type": "display_data"
    },
    {
     "data": {
      "text/html": [
       "<textarea rows='10' cols='100'>? shr 2 03 dlrs vs 1 53 dlrs net 146 4 mln vs 110 3 mln nine months shr loss 3 99 dlrs vs profit 4 62 dlrs net loss 283 3 mln vs profit 330 5 mln avg shrs 71 08 mln vs 69 26 mln assets 56 9 billion vs 50 7 billion deposits 30 4 billion vs 25 9 billion loans 26 3 billion vs 25 7 billion note nine month loss reflects 700 mln dlr increase in loan loss provisions without the tax benefit third quarter net income would have been 127 6 mln dlrs up 16 pct or 17 4 mln dlrs from the third quarter of 1986 non interest income totaled 342 6 mln dlrs in the third quarter up 47 pct or 109 7 mln dlrs largely due to increased income from foreign exchange trading fees and commissions foreign exchange trading income totaled 71 3 mln dlrs up 44 3 mln from a year ago provision for loan losses in the third quarter was 20 mln dlrs ? 40 mln a year previously at september 30 the provision for loan losses jumped to 1 30 billion dlrs from 455 mln at the same time last year reuter 3</textarea>"
      ],
      "text/plain": [
       "<IPython.core.display.HTML object>"
      ]
     },
     "metadata": {},
     "output_type": "display_data"
    },
    {
     "data": {
      "text/html": [
       "<h2>ID: 2471</h2>"
      ],
      "text/plain": [
       "<IPython.core.display.HTML object>"
      ]
     },
     "metadata": {},
     "output_type": "display_data"
    },
    {
     "data": {
      "text/html": [
       "Topic: trade"
      ],
      "text/plain": [
       "<IPython.core.display.HTML object>"
      ]
     },
     "metadata": {},
     "output_type": "display_data"
    },
    {
     "data": {
      "text/html": [
       "<textarea rows='10' cols='100'>? the u s house ways and means trade subcommittee unanimously approved a ? down version of legislation designed to toughen u s trade laws and wedge open foreign markets to more u s goods the measure now goes to the full house ways and means committee next week but major changes are not expected congressional sources said this product could very well be ? our trade policy and doing it in a manner that opens markets without this ? word ? ways and means chairman dan rostenkowski an illinois democrat said the trade subcommittee backed away from ? specific retaliation against foreign countries for unfair foreign trade practices as the house had approved in a trade bill last year but it held over for the full ways and means committee debate on a controversial plan by rep richard gephardt to mandate a reduction in trade surpluses with the u s by countries such as japan south korea and taiwan gephardt a missouri democrat has not decided the exact form of his amendment an aide said last year the house approved his idea to force an annual 10 pct trade surplus cut by those countries reuter 3</textarea>"
      ],
      "text/plain": [
       "<IPython.core.display.HTML object>"
      ]
     },
     "metadata": {},
     "output_type": "display_data"
    },
    {
     "data": {
      "text/html": [
       "<h2>ID: 7062</h2>"
      ],
      "text/plain": [
       "<IPython.core.display.HTML object>"
      ]
     },
     "metadata": {},
     "output_type": "display_data"
    },
    {
     "data": {
      "text/html": [
       "Topic: earn"
      ],
      "text/plain": [
       "<IPython.core.display.HTML object>"
      ]
     },
     "metadata": {},
     "output_type": "display_data"
    },
    {
     "data": {
      "text/html": [
       "<textarea rows='10' cols='100'>? first ameri cable corp said that first ameri cable income fund ltd filed a registration statement with the securities and exchange commission to raise from one mln dlrs to 50 mln dlrs on a best efforts basis first ameri cable said it acts as general partner for first ameri cable income fund first ameri cable said first ameri cable income fund intends to use the funds to buy existing cable systems or ownership interest in existing cable systems from third parties or from first ameri cable corp first ameri cable income fund intends to operate the systems it purchases first ameri cable said the company said the offering will be made in two series with the series a units priced at 29 20 dlrs each and the series b units priced at 20 dlrs each first ameri cable said the minimum purchase allowed is 25 units in any combination of series a and b the selling agent for the offering is first cable securities corp a wholly owned unit of first ? cable corp the company said reuter 3</textarea>"
      ],
      "text/plain": [
       "<IPython.core.display.HTML object>"
      ]
     },
     "metadata": {},
     "output_type": "display_data"
    },
    {
     "data": {
      "text/html": [
       "<h2>ID: 5292</h2>"
      ],
      "text/plain": [
       "<IPython.core.display.HTML object>"
      ]
     },
     "metadata": {},
     "output_type": "display_data"
    },
    {
     "data": {
      "text/html": [
       "Topic: gnp"
      ],
      "text/plain": [
       "<IPython.core.display.HTML object>"
      ]
     },
     "metadata": {},
     "output_type": "display_data"
    },
    {
     "data": {
      "text/html": [
       "<textarea rows='10' cols='100'>? ? gross domestic product rose 5 7 pct last year to 18 8 billion dollars compared to a 2 4 pct rise in the previous year the central bank said it said initial projections were for a 4 6 pct increase in gdp this year the sectors which registered the greatest growth in 1986 were ? with 10 pct agriculture at 8 7 pct transport and communications with 8 1 pct and industry at 8 0 pct the bank added reuter 3</textarea>"
      ],
      "text/plain": [
       "<IPython.core.display.HTML object>"
      ]
     },
     "metadata": {},
     "output_type": "display_data"
    },
    {
     "data": {
      "text/html": [
       "<h2>ID: 2059</h2>"
      ],
      "text/plain": [
       "<IPython.core.display.HTML object>"
      ]
     },
     "metadata": {},
     "output_type": "display_data"
    },
    {
     "data": {
      "text/html": [
       "Topic: gnp"
      ],
      "text/plain": [
       "<IPython.core.display.HTML object>"
      ]
     },
     "metadata": {},
     "output_type": "display_data"
    },
    {
     "data": {
      "text/html": [
       "<textarea rows='10' cols='100'>? period ended jan 31 net loss 89 255 vs loss 277 536 sales 913 136 vs 854 194 six mths net profit 481 372 vs loss 555 722 sales 1 845 532 vs 1 754 076 reuter 3</textarea>"
      ],
      "text/plain": [
       "<IPython.core.display.HTML object>"
      ]
     },
     "metadata": {},
     "output_type": "display_data"
    }
   ],
   "source": [
    "for i in range(0, 5):\n",
    "    id = np.random.randint(0, len(train_data))\n",
    "    text = get_text(train_data[id])\n",
    "\n",
    "    display(HTML(f\"<h2>ID: {id}</h2>\"))\n",
    "    display(HTML(f\"Topic: {reverse_topics[train_labels[id]]}\"))\n",
    "    display(HTML(f\"<textarea rows='10' cols='100'>{text}</textarea>\"))"
   ]
  },
  {
   "cell_type": "code",
   "execution_count": 7,
   "metadata": {},
   "outputs": [
    {
     "data": {
      "text/html": [
       "<div>\n",
       "<style scoped>\n",
       "    .dataframe tbody tr th:only-of-type {\n",
       "        vertical-align: middle;\n",
       "    }\n",
       "\n",
       "    .dataframe tbody tr th {\n",
       "        vertical-align: top;\n",
       "    }\n",
       "\n",
       "    .dataframe thead th {\n",
       "        text-align: right;\n",
       "    }\n",
       "</style>\n",
       "<table border=\"1\" class=\"dataframe\">\n",
       "  <thead>\n",
       "    <tr style=\"text-align: right;\">\n",
       "      <th></th>\n",
       "      <th>TopicId</th>\n",
       "      <th>Count</th>\n",
       "      <th>Topic</th>\n",
       "      <th>Percent</th>\n",
       "    </tr>\n",
       "  </thead>\n",
       "  <tbody>\n",
       "    <tr>\n",
       "      <th>0</th>\n",
       "      <td>3</td>\n",
       "      <td>3159</td>\n",
       "      <td>earn</td>\n",
       "      <td>35.170341</td>\n",
       "    </tr>\n",
       "    <tr>\n",
       "      <th>1</th>\n",
       "      <td>4</td>\n",
       "      <td>1949</td>\n",
       "      <td>acq</td>\n",
       "      <td>21.698953</td>\n",
       "    </tr>\n",
       "    <tr>\n",
       "      <th>2</th>\n",
       "      <td>19</td>\n",
       "      <td>549</td>\n",
       "      <td>money-fx</td>\n",
       "      <td>6.112224</td>\n",
       "    </tr>\n",
       "    <tr>\n",
       "      <th>3</th>\n",
       "      <td>16</td>\n",
       "      <td>444</td>\n",
       "      <td>crude</td>\n",
       "      <td>4.943220</td>\n",
       "    </tr>\n",
       "    <tr>\n",
       "      <th>4</th>\n",
       "      <td>1</td>\n",
       "      <td>432</td>\n",
       "      <td>grain</td>\n",
       "      <td>4.809619</td>\n",
       "    </tr>\n",
       "    <tr>\n",
       "      <th>5</th>\n",
       "      <td>11</td>\n",
       "      <td>390</td>\n",
       "      <td>trade</td>\n",
       "      <td>4.342017</td>\n",
       "    </tr>\n",
       "    <tr>\n",
       "      <th>6</th>\n",
       "      <td>20</td>\n",
       "      <td>269</td>\n",
       "      <td>interest</td>\n",
       "      <td>2.994879</td>\n",
       "    </tr>\n",
       "    <tr>\n",
       "      <th>7</th>\n",
       "      <td>13</td>\n",
       "      <td>172</td>\n",
       "      <td>ship</td>\n",
       "      <td>1.914941</td>\n",
       "    </tr>\n",
       "    <tr>\n",
       "      <th>8</th>\n",
       "      <td>8</td>\n",
       "      <td>139</td>\n",
       "      <td>money-supply</td>\n",
       "      <td>1.547540</td>\n",
       "    </tr>\n",
       "    <tr>\n",
       "      <th>9</th>\n",
       "      <td>10</td>\n",
       "      <td>124</td>\n",
       "      <td>sugar</td>\n",
       "      <td>1.380539</td>\n",
       "    </tr>\n",
       "  </tbody>\n",
       "</table>\n",
       "</div>"
      ],
      "text/plain": [
       "   TopicId  Count         Topic    Percent\n",
       "0        3   3159          earn  35.170341\n",
       "1        4   1949           acq  21.698953\n",
       "2       19    549      money-fx   6.112224\n",
       "3       16    444         crude   4.943220\n",
       "4        1    432         grain   4.809619\n",
       "5       11    390         trade   4.342017\n",
       "6       20    269      interest   2.994879\n",
       "7       13    172          ship   1.914941\n",
       "8        8    139  money-supply   1.547540\n",
       "9       10    124         sugar   1.380539"
      ]
     },
     "execution_count": 7,
     "metadata": {},
     "output_type": "execute_result"
    }
   ],
   "source": [
    "# Show top topics\n",
    "\n",
    "topic_dist = (\n",
    "    pd.Series(train_labels)\n",
    "        .value_counts()\n",
    "        .to_frame()\n",
    "        .reset_index()\n",
    "        .rename(columns={'index': 'TopicId', 0: 'Count'}))\n",
    "\n",
    "topic_dist['TopicId'] = topic_dist.TopicId.astype('int')\n",
    "topic_dist['Topic'] = topic_dist.TopicId.apply(reverse_topics.get)\n",
    "topic_dist['Percent'] = 100 * topic_dist.Count / topic_dist.Count.sum()\n",
    "topic_dist = topic_dist.sort_values(by='Count', ascending=False)\n",
    "topic_dist.head(10)"
   ]
  },
  {
   "cell_type": "markdown",
   "metadata": {},
   "source": [
    "## Prepare Data"
   ]
  },
  {
   "cell_type": "code",
   "execution_count": 8,
   "metadata": {},
   "outputs": [],
   "source": [
    "def vectorize_sequences(sequences, dimension=10000):\n",
    "    results = np.zeros((len(sequences), dimension))\n",
    "    for i, sequence in enumerate(sequences):\n",
    "        results[i, sequence] = 1.\n",
    "    return results\n",
    "\n",
    "x_train = vectorize_sequences(train_data)\n",
    "x_test = vectorize_sequences(test_data)\n",
    "\n",
    "y_train = np.asarray(train_labels).astype('float32')\n",
    "y_test = np.asarray(test_labels).astype('float32')\n",
    "\n",
    "one_hot_train_labels = to_categorical(train_labels)\n",
    "one_hot_test_labels = to_categorical(test_labels)\n",
    "\n",
    "input_features = x_train.shape[1]\n",
    "output_features = one_hot_train_labels.shape[1]"
   ]
  },
  {
   "cell_type": "markdown",
   "metadata": {},
   "source": [
    "## Train Model"
   ]
  },
  {
   "cell_type": "code",
   "execution_count": 9,
   "metadata": {},
   "outputs": [],
   "source": [
    "def create_model():\n",
    "    model = models.Sequential()\n",
    "    model.add(layers.Dense(64, activation='relu', input_shape=(input_features,)))\n",
    "    model.add(layers.Dense(64, activation='relu'))\n",
    "    model.add(layers.Dense(output_features, activation='softmax'))\n",
    "\n",
    "    model.compile(\n",
    "        optimizer='rmsprop',\n",
    "        loss='categorical_crossentropy',\n",
    "        metrics=['accuracy'])\n",
    "    \n",
    "    return model\n",
    "\n",
    "def plot_training(history):\n",
    "    history_dict = history.history\n",
    "    loss_values = history_dict['loss']\n",
    "    val_loss_values = history_dict['val_loss']\n",
    "    epochs = range(1, len(loss_values) + 1)\n",
    "    plt.plot(epochs, loss_values, 'bo', label='Training loss')\n",
    "    plt.plot(epochs, val_loss_values, 'b', label='Validation loss')\n",
    "    plt.title('Training and validation loss')\n",
    "    plt.xlabel('Epochs')\n",
    "    plt.ylabel('Loss')\n",
    "    plt.legend()\n",
    "    plt.gca().grid()\n",
    "    plt.show()\n",
    "\n",
    "    acc = history_dict['accuracy']\n",
    "    val_acc = history_dict['val_accuracy']\n",
    "    plt.plot(epochs, acc, 'bo', label='Training acc')\n",
    "    plt.plot(epochs, val_acc, 'b', label='Validation acc')\n",
    "    plt.title('Training and validation accuracy')\n",
    "    plt.xlabel('Epochs')\n",
    "    plt.ylabel('Accuracy')\n",
    "    plt.legend()\n",
    "    plt.gca().grid()\n",
    "    plt.show()"
   ]
  },
  {
   "cell_type": "code",
   "execution_count": 10,
   "metadata": {},
   "outputs": [
    {
     "name": "stdout",
     "output_type": "stream",
     "text": [
      "Train on 6736 samples, validate on 2246 samples\n",
      "Epoch 1/20\n",
      "6736/6736 [==============================] - 2s 339us/step - loss: 2.8213 - accuracy: 0.5194 - val_loss: 1.9287 - val_accuracy: 0.6554\n",
      "Epoch 2/20\n",
      "6736/6736 [==============================] - 1s 208us/step - loss: 1.5735 - accuracy: 0.6829 - val_loss: 1.4483 - val_accuracy: 0.6794\n",
      "Epoch 3/20\n",
      "6736/6736 [==============================] - 1s 207us/step - loss: 1.1534 - accuracy: 0.7524 - val_loss: 1.2270 - val_accuracy: 0.7378\n",
      "Epoch 4/20\n",
      "6736/6736 [==============================] - 1s 202us/step - loss: 0.9158 - accuracy: 0.8106 - val_loss: 1.1302 - val_accuracy: 0.7600\n",
      "Epoch 5/20\n",
      "6736/6736 [==============================] - 1s 208us/step - loss: 0.7338 - accuracy: 0.8501 - val_loss: 1.0512 - val_accuracy: 0.7698\n",
      "Epoch 6/20\n",
      "6736/6736 [==============================] - 1s 203us/step - loss: 0.5929 - accuracy: 0.8775 - val_loss: 1.0032 - val_accuracy: 0.7792\n",
      "Epoch 7/20\n",
      "6736/6736 [==============================] - 1s 202us/step - loss: 0.4775 - accuracy: 0.9037 - val_loss: 0.9822 - val_accuracy: 0.7934\n",
      "Epoch 8/20\n",
      "6736/6736 [==============================] - 1s 205us/step - loss: 0.3939 - accuracy: 0.9221 - val_loss: 0.9604 - val_accuracy: 0.7956\n",
      "Epoch 9/20\n",
      "6736/6736 [==============================] - 1s 204us/step - loss: 0.3211 - accuracy: 0.9363 - val_loss: 0.9919 - val_accuracy: 0.7939\n",
      "Epoch 10/20\n",
      "6736/6736 [==============================] - 1s 204us/step - loss: 0.2660 - accuracy: 0.9451 - val_loss: 1.0031 - val_accuracy: 0.7872\n",
      "Epoch 11/20\n",
      "6736/6736 [==============================] - 1s 204us/step - loss: 0.2250 - accuracy: 0.9525 - val_loss: 0.9623 - val_accuracy: 0.7996\n",
      "Epoch 12/20\n",
      "6736/6736 [==============================] - 1s 204us/step - loss: 0.1898 - accuracy: 0.9598 - val_loss: 0.9784 - val_accuracy: 0.7952\n",
      "Epoch 13/20\n",
      "6736/6736 [==============================] - 1s 203us/step - loss: 0.1689 - accuracy: 0.9598 - val_loss: 0.9951 - val_accuracy: 0.8028\n",
      "Epoch 14/20\n",
      "6736/6736 [==============================] - 1s 205us/step - loss: 0.1468 - accuracy: 0.9618 - val_loss: 1.0568 - val_accuracy: 0.7907\n",
      "Epoch 15/20\n",
      "6736/6736 [==============================] - 1s 202us/step - loss: 0.1379 - accuracy: 0.9632 - val_loss: 1.0615 - val_accuracy: 0.7863\n",
      "Epoch 16/20\n",
      "6736/6736 [==============================] - 1s 204us/step - loss: 0.1273 - accuracy: 0.9647 - val_loss: 1.2001 - val_accuracy: 0.7814\n",
      "Epoch 17/20\n",
      "6736/6736 [==============================] - 1s 202us/step - loss: 0.1148 - accuracy: 0.9651 - val_loss: 1.0710 - val_accuracy: 0.7970\n",
      "Epoch 18/20\n",
      "6736/6736 [==============================] - 1s 204us/step - loss: 0.1076 - accuracy: 0.9657 - val_loss: 1.1009 - val_accuracy: 0.7952\n",
      "Epoch 19/20\n",
      "6736/6736 [==============================] - 1s 203us/step - loss: 0.1013 - accuracy: 0.9666 - val_loss: 1.1827 - val_accuracy: 0.7898\n",
      "Epoch 20/20\n",
      "6736/6736 [==============================] - 1s 203us/step - loss: 0.1034 - accuracy: 0.9654 - val_loss: 1.1591 - val_accuracy: 0.7934\n"
     ]
    },
    {
     "data": {
      "image/png": "[encoded data removed]",
      "text/plain": [
       "<Figure size 432x288 with 1 Axes>"
      ]
     },
     "metadata": {
      "needs_background": "light"
     },
     "output_type": "display_data"
    },
    {
     "data": {
      "image/png": "[encoded data removed]",
      "text/plain": [
       "<Figure size 432x288 with 1 Axes>"
      ]
     },
     "metadata": {
      "needs_background": "light"
     },
     "output_type": "display_data"
    }
   ],
   "source": [
    "model = create_model()\n",
    "\n",
    "history = model.fit(\n",
    "    x_train,\n",
    "    one_hot_train_labels,\n",
    "    epochs=20,\n",
    "    batch_size=512,\n",
    "    validation_split=0.25)\n",
    "\n",
    "plot_training(history)"
   ]
  },
  {
   "cell_type": "code",
   "execution_count": 11,
   "metadata": {},
   "outputs": [
    {
     "name": "stdout",
     "output_type": "stream",
     "text": [
      "Epoch 1/9\n",
      "8982/8982 [==============================] - 1s 167us/step - loss: 2.4421 - accuracy: 0.5316\n",
      "Epoch 2/9\n",
      "8982/8982 [==============================] - 1s 155us/step - loss: 1.3362 - accuracy: 0.7192\n",
      "Epoch 3/9\n",
      "8982/8982 [==============================] - 1s 157us/step - loss: 0.9845 - accuracy: 0.7911\n",
      "Epoch 4/9\n",
      "8982/8982 [==============================] - 1s 156us/step - loss: 0.7662 - accuracy: 0.8383\n",
      "Epoch 5/9\n",
      "8982/8982 [==============================] - 1s 155us/step - loss: 0.5957 - accuracy: 0.8747\n",
      "Epoch 6/9\n",
      "8982/8982 [==============================] - 1s 154us/step - loss: 0.4721 - accuracy: 0.9017\n",
      "Epoch 7/9\n",
      "8982/8982 [==============================] - 1s 153us/step - loss: 0.3828 - accuracy: 0.9212\n",
      "Epoch 8/9\n",
      "8982/8982 [==============================] - 1s 155us/step - loss: 0.3135 - accuracy: 0.9338\n",
      "Epoch 9/9\n",
      "8982/8982 [==============================] - 1s 154us/step - loss: 0.2616 - accuracy: 0.9407\n"
     ]
    }
   ],
   "source": [
    "model = create_model()\n",
    "\n",
    "history = model.fit(\n",
    "    x_train,\n",
    "    one_hot_train_labels,\n",
    "    epochs=9,\n",
    "    batch_size=512)"
   ]
  },
  {
   "cell_type": "code",
   "execution_count": 12,
   "metadata": {},
   "outputs": [
    {
     "name": "stdout",
     "output_type": "stream",
     "text": [
      "2246/2246 [==============================] - 1s 237us/step\n"
     ]
    },
    {
     "data": {
      "text/plain": [
       "[0.9721804682102356, 0.7898486256599426]"
      ]
     },
     "execution_count": 12,
     "metadata": {},
     "output_type": "execute_result"
    }
   ],
   "source": [
    "results = model.evaluate(x_test, one_hot_test_labels)\n",
    "results"
   ]
  },
  {
   "cell_type": "markdown",
   "metadata": {},
   "source": [
    "## Examine Results"
   ]
  },
  {
   "cell_type": "code",
   "execution_count": 13,
   "metadata": {},
   "outputs": [],
   "source": [
    "probabilities = pd.DataFrame(model.predict(x_test))"
   ]
  },
  {
   "cell_type": "code",
   "execution_count": 14,
   "metadata": {},
   "outputs": [
    {
     "data": {
      "text/html": [
       "<div>\n",
       "<style scoped>\n",
       "    .dataframe tbody tr th:only-of-type {\n",
       "        vertical-align: middle;\n",
       "    }\n",
       "\n",
       "    .dataframe tbody tr th {\n",
       "        vertical-align: top;\n",
       "    }\n",
       "\n",
       "    .dataframe thead th {\n",
       "        text-align: right;\n",
       "    }\n",
       "</style>\n",
       "<table border=\"1\" class=\"dataframe\">\n",
       "  <thead>\n",
       "    <tr style=\"text-align: right;\">\n",
       "      <th></th>\n",
       "      <th>Actual</th>\n",
       "      <th>ActualTopic</th>\n",
       "      <th>Predicted</th>\n",
       "      <th>PredictedTopic</th>\n",
       "      <th>Probability</th>\n",
       "    </tr>\n",
       "  </thead>\n",
       "  <tbody>\n",
       "    <tr>\n",
       "      <th>0</th>\n",
       "      <td>3.0</td>\n",
       "      <td>earn</td>\n",
       "      <td>4</td>\n",
       "      <td>acq</td>\n",
       "      <td>0.500714</td>\n",
       "    </tr>\n",
       "    <tr>\n",
       "      <th>1</th>\n",
       "      <td>10.0</td>\n",
       "      <td>sugar</td>\n",
       "      <td>10</td>\n",
       "      <td>sugar</td>\n",
       "      <td>0.510894</td>\n",
       "    </tr>\n",
       "    <tr>\n",
       "      <th>2</th>\n",
       "      <td>1.0</td>\n",
       "      <td>grain</td>\n",
       "      <td>1</td>\n",
       "      <td>grain</td>\n",
       "      <td>0.883942</td>\n",
       "    </tr>\n",
       "    <tr>\n",
       "      <th>3</th>\n",
       "      <td>4.0</td>\n",
       "      <td>acq</td>\n",
       "      <td>4</td>\n",
       "      <td>acq</td>\n",
       "      <td>0.791347</td>\n",
       "    </tr>\n",
       "    <tr>\n",
       "      <th>4</th>\n",
       "      <td>4.0</td>\n",
       "      <td>acq</td>\n",
       "      <td>13</td>\n",
       "      <td>ship</td>\n",
       "      <td>0.969706</td>\n",
       "    </tr>\n",
       "    <tr>\n",
       "      <th>5</th>\n",
       "      <td>3.0</td>\n",
       "      <td>earn</td>\n",
       "      <td>3</td>\n",
       "      <td>earn</td>\n",
       "      <td>0.980037</td>\n",
       "    </tr>\n",
       "    <tr>\n",
       "      <th>6</th>\n",
       "      <td>3.0</td>\n",
       "      <td>earn</td>\n",
       "      <td>3</td>\n",
       "      <td>earn</td>\n",
       "      <td>0.812393</td>\n",
       "    </tr>\n",
       "    <tr>\n",
       "      <th>7</th>\n",
       "      <td>3.0</td>\n",
       "      <td>earn</td>\n",
       "      <td>3</td>\n",
       "      <td>earn</td>\n",
       "      <td>0.996962</td>\n",
       "    </tr>\n",
       "    <tr>\n",
       "      <th>8</th>\n",
       "      <td>3.0</td>\n",
       "      <td>earn</td>\n",
       "      <td>3</td>\n",
       "      <td>earn</td>\n",
       "      <td>0.996486</td>\n",
       "    </tr>\n",
       "    <tr>\n",
       "      <th>9</th>\n",
       "      <td>3.0</td>\n",
       "      <td>earn</td>\n",
       "      <td>3</td>\n",
       "      <td>earn</td>\n",
       "      <td>0.946335</td>\n",
       "    </tr>\n",
       "  </tbody>\n",
       "</table>\n",
       "</div>"
      ],
      "text/plain": [
       "   Actual ActualTopic  Predicted PredictedTopic  Probability\n",
       "0     3.0        earn          4            acq     0.500714\n",
       "1    10.0       sugar         10          sugar     0.510894\n",
       "2     1.0       grain          1          grain     0.883942\n",
       "3     4.0         acq          4            acq     0.791347\n",
       "4     4.0         acq         13           ship     0.969706\n",
       "5     3.0        earn          3           earn     0.980037\n",
       "6     3.0        earn          3           earn     0.812393\n",
       "7     3.0        earn          3           earn     0.996962\n",
       "8     3.0        earn          3           earn     0.996486\n",
       "9     3.0        earn          3           earn     0.946335"
      ]
     },
     "execution_count": 14,
     "metadata": {},
     "output_type": "execute_result"
    }
   ],
   "source": [
    "predictions = pd.DataFrame()\n",
    "predictions['Actual'] = y_test\n",
    "predictions['ActualTopic'] = predictions.Actual.apply(lambda topic_id: reverse_topics.get(int(topic_id)))\n",
    "predictions['Predicted'] = probabilities.idxmax(axis=1)\n",
    "predictions['PredictedTopic'] = predictions.Predicted.apply(lambda topic_id: reverse_topics.get(int(topic_id)))\n",
    "predictions['Probability'] = probabilities.max(axis=1)\n",
    "predictions.head(10)"
   ]
  },
  {
   "cell_type": "code",
   "execution_count": 15,
   "metadata": {},
   "outputs": [
    {
     "data": {
      "image/png": "[encoded data removed]",
      "text/plain": [
       "<Figure size 576x576 with 2 Axes>"
      ]
     },
     "metadata": {
      "needs_background": "light"
     },
     "output_type": "display_data"
    }
   ],
   "source": [
    "# Plot the confusion matrix\n",
    "pd.set_option('max_columns', 100)\n",
    "cf_df = pd.DataFrame(confusion_matrix(predictions.Actual.astype('int'), predictions.Predicted, normalize='true'))\n",
    "plt.figure(figsize = (8,8))\n",
    "sns.heatmap(cf_df, annot=False)\n",
    "plt.show()"
   ]
  },
  {
   "cell_type": "code",
   "execution_count": 16,
   "metadata": {},
   "outputs": [
    {
     "data": {
      "text/html": [
       "<div>\n",
       "<style scoped>\n",
       "    .dataframe tbody tr th:only-of-type {\n",
       "        vertical-align: middle;\n",
       "    }\n",
       "\n",
       "    .dataframe tbody tr th {\n",
       "        vertical-align: top;\n",
       "    }\n",
       "\n",
       "    .dataframe thead th {\n",
       "        text-align: right;\n",
       "    }\n",
       "</style>\n",
       "<table border=\"1\" class=\"dataframe\">\n",
       "  <thead>\n",
       "    <tr style=\"text-align: right;\">\n",
       "      <th></th>\n",
       "      <th>ActualId</th>\n",
       "      <th>Actual</th>\n",
       "      <th>PredictedId</th>\n",
       "      <th>Predicted</th>\n",
       "      <th>Value</th>\n",
       "    </tr>\n",
       "  </thead>\n",
       "  <tbody>\n",
       "    <tr>\n",
       "      <th>226</th>\n",
       "      <td>5</td>\n",
       "      <td>wheat</td>\n",
       "      <td>1</td>\n",
       "      <td>grain</td>\n",
       "      <td>1.000000</td>\n",
       "    </tr>\n",
       "    <tr>\n",
       "      <th>1915</th>\n",
       "      <td>42</td>\n",
       "      <td>silver</td>\n",
       "      <td>25</td>\n",
       "      <td>gold</td>\n",
       "      <td>0.666667</td>\n",
       "    </tr>\n",
       "    <tr>\n",
       "      <th>1631</th>\n",
       "      <td>36</td>\n",
       "      <td>bop</td>\n",
       "      <td>11</td>\n",
       "      <td>trade</td>\n",
       "      <td>0.636364</td>\n",
       "    </tr>\n",
       "    <tr>\n",
       "      <th>1849</th>\n",
       "      <td>41</td>\n",
       "      <td>gas</td>\n",
       "      <td>4</td>\n",
       "      <td>acq</td>\n",
       "      <td>0.625000</td>\n",
       "    </tr>\n",
       "    <tr>\n",
       "      <th>781</th>\n",
       "      <td>17</td>\n",
       "      <td>nat-gas</td>\n",
       "      <td>16</td>\n",
       "      <td>crude</td>\n",
       "      <td>0.583333</td>\n",
       "    </tr>\n",
       "    <tr>\n",
       "      <th>1819</th>\n",
       "      <td>40</td>\n",
       "      <td>dlr</td>\n",
       "      <td>19</td>\n",
       "      <td>money-fx</td>\n",
       "      <td>0.500000</td>\n",
       "    </tr>\n",
       "    <tr>\n",
       "      <th>1669</th>\n",
       "      <td>37</td>\n",
       "      <td>zinc</td>\n",
       "      <td>4</td>\n",
       "      <td>acq</td>\n",
       "      <td>0.500000</td>\n",
       "    </tr>\n",
       "    <tr>\n",
       "      <th>1334</th>\n",
       "      <td>29</td>\n",
       "      <td>retail</td>\n",
       "      <td>30</td>\n",
       "      <td>ipi</td>\n",
       "      <td>0.500000</td>\n",
       "    </tr>\n",
       "    <tr>\n",
       "      <th>1675</th>\n",
       "      <td>37</td>\n",
       "      <td>zinc</td>\n",
       "      <td>10</td>\n",
       "      <td>sugar</td>\n",
       "      <td>0.500000</td>\n",
       "    </tr>\n",
       "    <tr>\n",
       "      <th>631</th>\n",
       "      <td>14</td>\n",
       "      <td>cotton</td>\n",
       "      <td>1</td>\n",
       "      <td>grain</td>\n",
       "      <td>0.500000</td>\n",
       "    </tr>\n",
       "    <tr>\n",
       "      <th>641</th>\n",
       "      <td>14</td>\n",
       "      <td>cotton</td>\n",
       "      <td>11</td>\n",
       "      <td>trade</td>\n",
       "      <td>0.500000</td>\n",
       "    </tr>\n",
       "    <tr>\n",
       "      <th>676</th>\n",
       "      <td>15</td>\n",
       "      <td>carcass</td>\n",
       "      <td>1</td>\n",
       "      <td>grain</td>\n",
       "      <td>0.444444</td>\n",
       "    </tr>\n",
       "    <tr>\n",
       "      <th>994</th>\n",
       "      <td>22</td>\n",
       "      <td>meal-feed</td>\n",
       "      <td>4</td>\n",
       "      <td>acq</td>\n",
       "      <td>0.428571</td>\n",
       "    </tr>\n",
       "    <tr>\n",
       "      <th>1771</th>\n",
       "      <td>39</td>\n",
       "      <td>pet-chem</td>\n",
       "      <td>16</td>\n",
       "      <td>crude</td>\n",
       "      <td>0.400000</td>\n",
       "    </tr>\n",
       "    <tr>\n",
       "      <th>558</th>\n",
       "      <td>12</td>\n",
       "      <td>reserves</td>\n",
       "      <td>19</td>\n",
       "      <td>money-fx</td>\n",
       "      <td>0.384615</td>\n",
       "    </tr>\n",
       "  </tbody>\n",
       "</table>\n",
       "</div>"
      ],
      "text/plain": [
       "      ActualId     Actual  PredictedId Predicted     Value\n",
       "226          5      wheat            1     grain  1.000000\n",
       "1915        42     silver           25      gold  0.666667\n",
       "1631        36        bop           11     trade  0.636364\n",
       "1849        41        gas            4       acq  0.625000\n",
       "781         17    nat-gas           16     crude  0.583333\n",
       "1819        40        dlr           19  money-fx  0.500000\n",
       "1669        37       zinc            4       acq  0.500000\n",
       "1334        29     retail           30       ipi  0.500000\n",
       "1675        37       zinc           10     sugar  0.500000\n",
       "631         14     cotton            1     grain  0.500000\n",
       "641         14     cotton           11     trade  0.500000\n",
       "676         15    carcass            1     grain  0.444444\n",
       "994         22  meal-feed            4       acq  0.428571\n",
       "1771        39   pet-chem           16     crude  0.400000\n",
       "558         12   reserves           19  money-fx  0.384615"
      ]
     },
     "execution_count": 16,
     "metadata": {},
     "output_type": "execute_result"
    }
   ],
   "source": [
    "# Show some of the most confused topics\n",
    "cf_flat = []\n",
    "for i in range(0, len(cf_df)):\n",
    "    for j in range(0, len(cf_df)):\n",
    "        if i != j:\n",
    "            v = cf_df.loc[i, j]\n",
    "            cf_flat.append(pd.Series({\n",
    "                'ActualId': i,\n",
    "                'Actual': reverse_topics[i],\n",
    "                'PredictedId': j,\n",
    "                'Predicted': reverse_topics[j],\n",
    "                'Value': v\n",
    "            }))\n",
    "            \n",
    "cf_flat = pd.DataFrame(cf_flat)\n",
    "cf_flat = cf_flat.sort_values(by='Value', ascending=False)\n",
    "cf_flat[cf_flat.ActualId != cf_flat.PredictedId].head(15)"
   ]
  },
  {
   "cell_type": "code",
   "execution_count": null,
   "metadata": {},
   "outputs": [],
   "source": []
  }
 ],
 "metadata": {
  "kernelspec": {
   "display_name": "Python 3",
   "language": "python",
   "name": "python3"
  },
  "language_info": {
   "codemirror_mode": {
    "name": "ipython",
    "version": 3
   },
   "file_extension": ".py",
   "mimetype": "text/x-python",
   "name": "python",
   "nbconvert_exporter": "python",
   "pygments_lexer": "ipython3",
   "version": "3.7.6"
  }
 },
 "nbformat": 4,
 "nbformat_minor": 4
}
