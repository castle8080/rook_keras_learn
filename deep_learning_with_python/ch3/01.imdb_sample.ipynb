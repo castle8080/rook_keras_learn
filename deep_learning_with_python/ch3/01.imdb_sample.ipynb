{
 "cells": [
  {
   "cell_type": "markdown",
   "metadata": {},
   "source": [
    "# Example #1 IMDB: Chapter 3\n",
    "\n",
    "Example from chapter 3 for binary classification.\n"
   ]
  },
  {
   "cell_type": "code",
   "execution_count": 1,
   "metadata": {},
   "outputs": [
    {
     "name": "stderr",
     "output_type": "stream",
     "text": [
      "Using TensorFlow backend.\n"
     ]
    }
   ],
   "source": [
    "from keras.datasets import imdb\n",
    "import numpy as np\n",
    "import pandas as pd\n",
    "\n",
    "from keras import models\n",
    "from keras import layers\n",
    "from keras import optimizers\n",
    "\n",
    "import matplotlib.pyplot as plt\n",
    "\n",
    "from IPython.display import display, HTML"
   ]
  },
  {
   "cell_type": "markdown",
   "metadata": {},
   "source": [
    "## Load Data"
   ]
  },
  {
   "cell_type": "code",
   "execution_count": 2,
   "metadata": {},
   "outputs": [],
   "source": [
    "(train_data, train_labels), (test_data, test_labels) = imdb.load_data(num_words=10000)"
   ]
  },
  {
   "cell_type": "code",
   "execution_count": 3,
   "metadata": {},
   "outputs": [],
   "source": [
    "def vectorize_sequences(sequences, dimension=10000):\n",
    "    results = np.zeros((len(sequences), dimension))\n",
    "    for i, sequence in enumerate(sequences):\n",
    "        results[i, sequence] = 1.\n",
    "    return results\n",
    "\n",
    "x_train = vectorize_sequences(train_data)\n",
    "x_test = vectorize_sequences(test_data)\n",
    "\n",
    "y_train = np.asarray(train_labels).astype('float32')\n",
    "y_test = np.asarray(test_labels).astype('float32')"
   ]
  },
  {
   "cell_type": "markdown",
   "metadata": {},
   "source": [
    "## Examine Some Samples"
   ]
  },
  {
   "cell_type": "code",
   "execution_count": 4,
   "metadata": {},
   "outputs": [],
   "source": [
    "word_index = imdb.get_word_index()\n",
    "reverse_word_index = dict([(value, key) for (key, value) in word_index.items()])\n",
    "\n",
    "def get_word(i):\n",
    "    # Decodes the review. Note that the indices are offset by 3 because 0, 1, and 2 are\n",
    "    # reserved indices for “padding,” “start of sequence,” and “unknown.”\n",
    "    return reverse_word_index.get(i-3, '?')\n",
    "\n",
    "def get_text(word_ids):\n",
    "    return \" \".join(get_word(wid) for wid in word_ids)"
   ]
  },
  {
   "cell_type": "code",
   "execution_count": 5,
   "metadata": {},
   "outputs": [
    {
     "data": {
      "text/html": [
       "<h2>ID: 20033</h2>"
      ],
      "text/plain": [
       "<IPython.core.display.HTML object>"
      ]
     },
     "metadata": {},
     "output_type": "display_data"
    },
    {
     "data": {
      "text/html": [
       "Disposition: 1"
      ],
      "text/plain": [
       "<IPython.core.display.HTML object>"
      ]
     },
     "metadata": {},
     "output_type": "display_data"
    },
    {
     "data": {
      "text/html": [
       "<textarea rows='10' cols='100'>? it's all very simple jake goes to prison and spends five years with the con and the chess masters they get compassionate about his history of loss and failure and utterly misery that he lives on because of his belief in his ? of small tricks and control of the rules of small crooks they decide to give jake the ultimate freedom from his ? fears from what he believes to be himself for that they take him on a trip where he got to let go all the fear all the pride all the hope to be ? as true master of his will br br it's a clever movie about the journey of ? about the ? ? and games that we do with and within ourselves 10 10 no doubt</textarea>"
      ],
      "text/plain": [
       "<IPython.core.display.HTML object>"
      ]
     },
     "metadata": {},
     "output_type": "display_data"
    },
    {
     "data": {
      "text/html": [
       "<h2>ID: 2272</h2>"
      ],
      "text/plain": [
       "<IPython.core.display.HTML object>"
      ]
     },
     "metadata": {},
     "output_type": "display_data"
    },
    {
     "data": {
      "text/html": [
       "Disposition: 0"
      ],
      "text/plain": [
       "<IPython.core.display.HTML object>"
      ]
     },
     "metadata": {},
     "output_type": "display_data"
    },
    {
     "data": {
      "text/html": [
       "<textarea rows='10' cols='100'>? spoiler do not read this if you think about watching that movie although it would be a waste of time by the way the plot is so predictable that it does not make any difference if you read this or not anyway br br if you are wondering whether to see ? ugly or not don't it's not worth either the money for the ticket or the vhs dvd a typical chick feel good flick one could say the plot itself is as shallow as it can be a ridiculous and ? version of the american dream the young good looking girl from a small town becoming a big success in new york the few desperate attempts of giving the movie any depth fail such as the tragic accident of the father the difficulties of ? relationship with her boyfriend and so on ? director tries to ? the audience's pity and sadness put does not have any chance to succeed in this attempt due to the bad script and the shallow acting especially ? ? completely fails in convincing one of ? fear of singing in front of an audience the only good and quite funny thing about ? ugly is john goodman who represents the small ray of hope of this movie br br i was very ? that jerry bruckheimer produced this movie first gone in 60 seconds and now this what happened to great movies like the rock and con air that was true bruckheimer stuff br br if you are looking for a superficial movie with good looking women just to have a relaxed evening you should better go and see charlie's angels it's much more funny entertaining and self ironic instead of this flick br br two thumbs down 3 out of 10</textarea>"
      ],
      "text/plain": [
       "<IPython.core.display.HTML object>"
      ]
     },
     "metadata": {},
     "output_type": "display_data"
    },
    {
     "data": {
      "text/html": [
       "<h2>ID: 22707</h2>"
      ],
      "text/plain": [
       "<IPython.core.display.HTML object>"
      ]
     },
     "metadata": {},
     "output_type": "display_data"
    },
    {
     "data": {
      "text/html": [
       "Disposition: 1"
      ],
      "text/plain": [
       "<IPython.core.display.HTML object>"
      ]
     },
     "metadata": {},
     "output_type": "display_data"
    },
    {
     "data": {
      "text/html": [
       "<textarea rows='10' cols='100'>? i was first introduced to eddie by friends from across the pond who know i like intelligent humor i prefer comedians who can be thought provoking while entertaining such as george ? and dennis miller in ? to ? eddie provides the same type of social observation humor that ? your thoughts on a subject all the while causing your side to split at the same time there is a wide range of subjects in this stand up and they are simply hysterical the piece on how to decide on ? stage name will leave you in ? br br thanks andrew and catherine and do you have a flag</textarea>"
      ],
      "text/plain": [
       "<IPython.core.display.HTML object>"
      ]
     },
     "metadata": {},
     "output_type": "display_data"
    },
    {
     "data": {
      "text/html": [
       "<h2>ID: 14578</h2>"
      ],
      "text/plain": [
       "<IPython.core.display.HTML object>"
      ]
     },
     "metadata": {},
     "output_type": "display_data"
    },
    {
     "data": {
      "text/html": [
       "Disposition: 0"
      ],
      "text/plain": [
       "<IPython.core.display.HTML object>"
      ]
     },
     "metadata": {},
     "output_type": "display_data"
    },
    {
     "data": {
      "text/html": [
       "<textarea rows='10' cols='100'>? or more precisely so bad that you are going to have the time of your life laughing your ass off when you watch it james ? deathstalker of 1983 is certainly one of the most awful productions the sword ? sub genre has brought along but it is highly amusing the acting is terrible the plot is pure crap and the effects and photography couldn't be more amateurish but it is the bad acting the cheesy effects and the many errors that makes this movie so hilarious br br spoilers ahead br br deathstalker rick hill is an extremely strong and skilled warrior one day a good witch tasks him to ? the three powers of chaos and creation a sword an ? and a ? in order to free the country from its brutal ? the evil king and ? ? ? the sword is quite easy but the ? and the ? are in ? possession fortunately the evil king has arranged a ? in which the ? most skilled warriors fight each other until death the winner is then to take the king's place of course the king doesn't want anybody to take his place an therefore he has planned to kill the winner instead of just not ? the ? in the first place deathstalker is not only to obtain the the three powers of creation but also to save the old good king's gorgeous daughter ? ? from the ? of evil ? luckily he doesn't get bored on his way to the ? since he is allowed ? the gorgeous female warrior ? ? ? in the meantime br br the film has many great incredibly stupid and funny scenes some of my favorite scenes include br br deathstalker ? a bad guy with his sword the head that falls down however is not that guy's head the falling head has a red ? while the guy ? by deathstalker had dark hair and no beard br br when the character of female warrior ? ? ? is introduced she is first seen in a black ? hiding her face and body ? traveling companion ? richard ? fights her and during the sword fight her ? under which she is of course topless opens exposing her breasts her breasts are the first thing we see of ? ? even before her face br br the last warrior deathstalker has to fight in the ? is a giant guy with the body of a man and the head of a pig br br evil ? has an ugly little creature locked in a chest he ? that little creature human ? and fingers br br there are many other unintentionally funny hilarious and great scenes the acting is terrible but ? ? and the late ? ? are eye candy and although i described this movie as ? ? i sometimes had the impression that some of the actors were absolutely aware of how crappy the movie is there is a fair amount of gore and lots of female nudity to keep the viewer entertained deathstalker is an incredibly awful movie but i still highly recommend it people with a sense of humor will have the time of their lives</textarea>"
      ],
      "text/plain": [
       "<IPython.core.display.HTML object>"
      ]
     },
     "metadata": {},
     "output_type": "display_data"
    },
    {
     "data": {
      "text/html": [
       "<h2>ID: 20104</h2>"
      ],
      "text/plain": [
       "<IPython.core.display.HTML object>"
      ]
     },
     "metadata": {},
     "output_type": "display_data"
    },
    {
     "data": {
      "text/html": [
       "Disposition: 1"
      ],
      "text/plain": [
       "<IPython.core.display.HTML object>"
      ]
     },
     "metadata": {},
     "output_type": "display_data"
    },
    {
     "data": {
      "text/html": [
       "<textarea rows='10' cols='100'>? this movie was charming an ? wants more from life than the ? conventional success what makes it work so well and makes it so different from the standard dance movie is that it really isn't about becoming great it is simply about finding a way to express one's self the big triumph at the end is not the winning of a contest not the discovery of a whole new life style but the simple joy of doing what you want to fulfill the other parts of your life no one is discovering their passion they are finding their quiet soul br br the japanese background makes the subtle ? and secret life of ballroom dancing both understandable and personal we can all see ourselves in the ?</textarea>"
      ],
      "text/plain": [
       "<IPython.core.display.HTML object>"
      ]
     },
     "metadata": {},
     "output_type": "display_data"
    }
   ],
   "source": [
    "for i in range(0, 5):\n",
    "    id = np.random.randint(0, len(train_data))\n",
    "    text = get_text(train_data[id])\n",
    "\n",
    "    display(HTML(f\"<h2>ID: {id}</h2>\"))\n",
    "    display(HTML(f\"Disposition: {train_labels[id]}\"))\n",
    "    display(HTML(f\"<textarea rows='10' cols='100'>{text}</textarea>\"))"
   ]
  },
  {
   "cell_type": "code",
   "execution_count": 6,
   "metadata": {},
   "outputs": [
    {
     "data": {
      "text/html": [
       "<div>\n",
       "<style scoped>\n",
       "    .dataframe tbody tr th:only-of-type {\n",
       "        vertical-align: middle;\n",
       "    }\n",
       "\n",
       "    .dataframe tbody tr th {\n",
       "        vertical-align: top;\n",
       "    }\n",
       "\n",
       "    .dataframe thead th {\n",
       "        text-align: right;\n",
       "    }\n",
       "</style>\n",
       "<table border=\"1\" class=\"dataframe\">\n",
       "  <thead>\n",
       "    <tr style=\"text-align: right;\">\n",
       "      <th></th>\n",
       "      <th>Count</th>\n",
       "    </tr>\n",
       "  </thead>\n",
       "  <tbody>\n",
       "    <tr>\n",
       "      <th>0.0</th>\n",
       "      <td>12500</td>\n",
       "    </tr>\n",
       "    <tr>\n",
       "      <th>1.0</th>\n",
       "      <td>12500</td>\n",
       "    </tr>\n",
       "  </tbody>\n",
       "</table>\n",
       "</div>"
      ],
      "text/plain": [
       "     Count\n",
       "0.0  12500\n",
       "1.0  12500"
      ]
     },
     "execution_count": 6,
     "metadata": {},
     "output_type": "execute_result"
    }
   ],
   "source": [
    "# Show distribution of values.\n",
    "pd.Series(y_train).value_counts().to_frame().rename(columns={0:'Count'})"
   ]
  },
  {
   "cell_type": "markdown",
   "metadata": {},
   "source": [
    "## Train Model"
   ]
  },
  {
   "cell_type": "code",
   "execution_count": 7,
   "metadata": {},
   "outputs": [],
   "source": [
    "def create_model():\n",
    "    model = models.Sequential()\n",
    "    model.add(layers.Dense(16, activation='relu', input_shape=(x_train.shape[1],)))\n",
    "    model.add(layers.Dense(16, activation='relu'))\n",
    "    model.add(layers.Dense(1, activation='sigmoid'))\n",
    "    \n",
    "    model.compile(\n",
    "        optimizer='rmsprop',\n",
    "        loss='binary_crossentropy',\n",
    "        metrics=['acc'])\n",
    "    \n",
    "    return model\n",
    "\n",
    "def plot_training(history):\n",
    "    history_dict = history.history\n",
    "    loss_values = history_dict['loss']\n",
    "    val_loss_values = history_dict['val_loss']\n",
    "    epochs = range(1, len(loss_values) + 1)\n",
    "    plt.plot(epochs, loss_values, 'bo', label='Training loss')\n",
    "    plt.plot(epochs, val_loss_values, 'b', label='Validation loss')\n",
    "    plt.title('Training and validation loss')\n",
    "    plt.xlabel('Epochs')\n",
    "    plt.ylabel('Loss')\n",
    "    plt.legend()\n",
    "    plt.gca().grid()\n",
    "    plt.show()\n",
    "\n",
    "    acc = history_dict['acc']\n",
    "    val_acc = history_dict['val_acc']\n",
    "    plt.plot(epochs, acc, 'bo', label='Training acc')\n",
    "    plt.plot(epochs, val_acc, 'b', label='Validation acc')\n",
    "    plt.title('Training and validation accuracy')\n",
    "    plt.xlabel('Epochs')\n",
    "    plt.ylabel('Accuracy')\n",
    "    plt.legend()\n",
    "    plt.gca().grid()\n",
    "    plt.show()"
   ]
  },
  {
   "cell_type": "code",
   "execution_count": 8,
   "metadata": {},
   "outputs": [
    {
     "name": "stdout",
     "output_type": "stream",
     "text": [
      "Train on 18750 samples, validate on 6250 samples\n",
      "Epoch 1/8\n",
      "18750/18750 [==============================] - 6s 304us/step - loss: 0.4115 - acc: 0.8340 - val_loss: 0.2923 - val_acc: 0.8902\n",
      "Epoch 2/8\n",
      "18750/18750 [==============================] - 4s 218us/step - loss: 0.2296 - acc: 0.9169 - val_loss: 0.2721 - val_acc: 0.8909\n",
      "Epoch 3/8\n",
      "18750/18750 [==============================] - 4s 213us/step - loss: 0.1735 - acc: 0.9379 - val_loss: 0.2820 - val_acc: 0.8893\n",
      "Epoch 4/8\n",
      "18750/18750 [==============================] - 4s 211us/step - loss: 0.1408 - acc: 0.9510 - val_loss: 0.2954 - val_acc: 0.8872\n",
      "Epoch 5/8\n",
      "18750/18750 [==============================] - 4s 212us/step - loss: 0.1154 - acc: 0.9585 - val_loss: 0.3865 - val_acc: 0.8717\n",
      "Epoch 6/8\n",
      "18750/18750 [==============================] - 4s 212us/step - loss: 0.0957 - acc: 0.9682 - val_loss: 0.3594 - val_acc: 0.8798\n",
      "Epoch 7/8\n",
      "18750/18750 [==============================] - 4s 211us/step - loss: 0.0766 - acc: 0.9750 - val_loss: 0.3979 - val_acc: 0.8797\n",
      "Epoch 8/8\n",
      "18750/18750 [==============================] - 4s 212us/step - loss: 0.0639 - acc: 0.9800 - val_loss: 0.4351 - val_acc: 0.8747\n"
     ]
    },
    {
     "data": {
      "image/png": "[encoded data removed]",
      "text/plain": [
       "<Figure size 432x288 with 1 Axes>"
      ]
     },
     "metadata": {
      "needs_background": "light"
     },
     "output_type": "display_data"
    },
    {
     "data": {
      "image/png": "[encoded data removed]",
      "text/plain": [
       "<Figure size 432x288 with 1 Axes>"
      ]
     },
     "metadata": {
      "needs_background": "light"
     },
     "output_type": "display_data"
    }
   ],
   "source": [
    "# Train the model with validation first to help figure out how many epochs to use.\n",
    "model = create_model()\n",
    "history = model.fit(\n",
    "    x_train,\n",
    "    y_train,\n",
    "    validation_split = 0.25,\n",
    "    epochs=8,\n",
    "    batch_size=256\n",
    ")\n",
    "\n",
    "plot_training(history)"
   ]
  },
  {
   "cell_type": "code",
   "execution_count": 9,
   "metadata": {},
   "outputs": [
    {
     "name": "stdout",
     "output_type": "stream",
     "text": [
      "Epoch 1/4\n",
      "25000/25000 [==============================] - 4s 171us/step - loss: 0.3852 - acc: 0.8473\n",
      "Epoch 2/4\n",
      "25000/25000 [==============================] - 4s 164us/step - loss: 0.2213 - acc: 0.9179\n",
      "Epoch 3/4\n",
      "25000/25000 [==============================] - 4s 164us/step - loss: 0.1746 - acc: 0.9356\n",
      "Epoch 4/4\n",
      "25000/25000 [==============================] - 4s 165us/step - loss: 0.1456 - acc: 0.9459\n"
     ]
    }
   ],
   "source": [
    "# Train the model with all test data\n",
    "model = create_model()\n",
    "history = model.fit(\n",
    "    x_train,\n",
    "    y_train,\n",
    "    epochs=4,\n",
    "    batch_size=256\n",
    ")"
   ]
  },
  {
   "cell_type": "code",
   "execution_count": 10,
   "metadata": {},
   "outputs": [
    {
     "name": "stdout",
     "output_type": "stream",
     "text": [
      "25000/25000 [==============================] - 6s 223us/step\n"
     ]
    },
    {
     "data": {
      "text/plain": [
       "[0.3416040188217163, 0.8732799887657166]"
      ]
     },
     "execution_count": 10,
     "metadata": {},
     "output_type": "execute_result"
    }
   ],
   "source": [
    "# Show the overall accuracy\n",
    "results = model.evaluate(x_test, y_test)\n",
    "results"
   ]
  },
  {
   "cell_type": "markdown",
   "metadata": {},
   "source": [
    "## Examine Results"
   ]
  },
  {
   "cell_type": "code",
   "execution_count": 11,
   "metadata": {},
   "outputs": [],
   "source": [
    "results = model.predict(x_test)"
   ]
  },
  {
   "cell_type": "code",
   "execution_count": 12,
   "metadata": {},
   "outputs": [],
   "source": [
    "results_df = pd.DataFrame()\n",
    "results_df['Predicted'] = [r[0] for r in results]\n",
    "results_df['Actual'] = y_test\n",
    "results_df['PredictionDiff'] = (results_df.Predicted - results_df.Actual).abs()\n",
    "results_df['Text'] = [get_text(ids) for ids in test_data]"
   ]
  },
  {
   "cell_type": "code",
   "execution_count": 13,
   "metadata": {},
   "outputs": [
    {
     "data": {
      "text/html": [
       "<h2>Good Review Predictions</h2>"
      ],
      "text/plain": [
       "<IPython.core.display.HTML object>"
      ]
     },
     "metadata": {},
     "output_type": "display_data"
    },
    {
     "data": {
      "text/html": [
       "ID: 18161<br/>Predicted: 0.9726659059524536<br/>Actual: 1.0<br/><textarea rows='10' cols='100'>? the dvd release of this superior made for tv bbc drama is a more than welcome addition to my collection great acting gripping story and wonderful direction all add up to one of the best bbc dramas in years</textarea>"
      ],
      "text/plain": [
       "<IPython.core.display.HTML object>"
      ]
     },
     "metadata": {},
     "output_type": "display_data"
    },
    {
     "data": {
      "text/html": [
       "ID: 18402<br/>Predicted: 0.9003057479858398<br/>Actual: 1.0<br/><textarea rows='10' cols='100'>? this movie is just brilliant ? acting is just amazing the end is so incredibly sad i cry every time i see this film it's the kind you never get sick of and can see again and again an absolutely amazingly brilliant movie</textarea>"
      ],
      "text/plain": [
       "<IPython.core.display.HTML object>"
      ]
     },
     "metadata": {},
     "output_type": "display_data"
    },
    {
     "data": {
      "text/html": [
       "<h2>Bad Review Predictions</h2>"
      ],
      "text/plain": [
       "<IPython.core.display.HTML object>"
      ]
     },
     "metadata": {},
     "output_type": "display_data"
    },
    {
     "data": {
      "text/html": [
       "ID: 9932<br/>Predicted: 0.0006591975688934326<br/>Actual: 0.0<br/><textarea rows='10' cols='100'>? at last here's a movie that does as much for the ? of the men of ? and russia as ? did for the those of mr affleck and ms lo from the edge of the city details the sad and ? lives of some young russian ? who live in and around ? and spend their time ? cars getting laid ? woman ? and ? themselves but we're not gay because we don't do you know and if we do it's only once or twice with the same guy there is hardly anything here you have not seen before and better only the ? locale adds a little novelty even then there's but a scene or two that's ? writer director ? 3 steps to heaven offer a relatively generic 95 minutes in which the standout moments involve how stupid sexist and from the looks of things pretty much ? most of these guys are interestingly the ? the guy the more ? he appears what really ? is the treatment of the women greek and russian males would seem to give the italians a run for their money regarding that famous madonna whore complex has life in ? improved much for women since the time of ? and ? one has to wonder br br if i seem to be ? russians and ? in this review i apologize but even the non ? ? here the cab driver for instance are creeps according to another review on this site the film a hit on its home ? was actually ? by ? for an academy award for best foreign film what this says about the state of greek movie making i hesitate to ?</textarea>"
      ],
      "text/plain": [
       "<IPython.core.display.HTML object>"
      ]
     },
     "metadata": {},
     "output_type": "display_data"
    },
    {
     "data": {
      "text/html": [
       "ID: 11442<br/>Predicted: 0.0026414692401885986<br/>Actual: 0.0<br/><textarea rows='10' cols='100'>? frank it isn't that i'm sorry i killed them it's that i'm sorry i killed them badly br br wow talk about a swing and a miss you have a great cast and a great plot with endless how do you f ? that up well apparently john ? has found a way with an atrocious screenplay featuring jokes about as funny as a ? ? and dialogue so painfully dry it makes none of the characters likable ? kill ? might be the biggest cinematic failure of 2007 on a positive note ben provides another great performance as the alcoholic polish hit man trying to get clean but the material he has to work with is crap tea ? is good as well as is luke wilson dennis ? bill ? philip baker hall and the rest of the cast i guess the best way to describe ? kill ? is a terrible movie with good performances grade d</textarea>"
      ],
      "text/plain": [
       "<IPython.core.display.HTML object>"
      ]
     },
     "metadata": {},
     "output_type": "display_data"
    },
    {
     "data": {
      "text/html": [
       "<h2>Misclassified Reviews</h2>"
      ],
      "text/plain": [
       "<IPython.core.display.HTML object>"
      ]
     },
     "metadata": {},
     "output_type": "display_data"
    },
    {
     "data": {
      "text/html": [
       "ID: 15318<br/>Predicted: 0.07833361625671387<br/>Actual: 1.0<br/><textarea rows='10' cols='100'>? well we definitely did see and i and many other people were actually expecting worse it did have some good parts too it that i was not expecting it still did fail in other areas though br br first off the acting was above average i love phillip seymour hoffman in this movie and i liked tom hanks hoffman was the ? to this movie if it were not for him this movie would have ? and hit rock bottom his performance was by no means stunning but absolutely necessary he gave a good witty cynical performance in what most other actors could have easily made his character into a cliché tom hanks really gave a nice loose performance and did not disappoint but he certainly did not impress what i could not stand was that julia roberts was involved in this movie she was as big of a miscast as i have ever seen for one she is a bad actress at least to me she was to young for her character and was to phony even for the character she was playing br br the directing was average to me i'm not really a big fan of the recent mike ? movies and i'm not exactly impressed by this one either it was made with such a ? cartoonish touch hat i could not stand the worst part about it was that he tried make it be a really meaningful movie at the end i love meaningful movies but not when a movie tries to rush a scene or two at the end and show something that tries to justify the rest of the garbage spread throughout the whole movie that is something that mike ? has seemed to have done a lot in his recent track record br br the one impressive part of this movie was the writing the dialog was put together very well and was able to let the story play out the writing was what was able to really able to take this movie to an above average level in so many scenes i found myself laughing in part by the writing br br well that is some of what we saw at least a lot of the scenery was good in the movie if you get what i mean but not a lot other than that i did like that this movie did not ? everything america had done it is obvious that during this whole war in afghanistan the u s gave weapons to the people who are now against us this movie kind of show we are too blame for that it shows that what may seem good in the short term may turn into something horribly wrong in the future this movie did have a good original message but it just did not deliver it right overall though it was entertaining</textarea>"
      ],
      "text/plain": [
       "<IPython.core.display.HTML object>"
      ]
     },
     "metadata": {},
     "output_type": "display_data"
    },
    {
     "data": {
      "text/html": [
       "ID: 12227<br/>Predicted: 0.32895201444625854<br/>Actual: 1.0<br/><textarea rows='10' cols='100'>? i really liked this film not so much for the story which was okay but was a bit slow moving in spots but ? for the incredibly beautiful scenery of ? and the greek ? susan sarandon is utterly engaging as the ? love interest of john cassavetes a man on the edge but the scenery oh oh oh</textarea>"
      ],
      "text/plain": [
       "<IPython.core.display.HTML object>"
      ]
     },
     "metadata": {},
     "output_type": "display_data"
    }
   ],
   "source": [
    "def render_row(id, row):\n",
    "    html = \"\"\n",
    "    html += f\"ID: {id}<br/>\"\n",
    "    html += f\"Predicted: {row.Predicted}<br/>\"\n",
    "    html += f\"Actual: {row.Actual}<br/>\"\n",
    "    html += f\"<textarea rows='10' cols='100'>{row.Text}</textarea>\"\n",
    "    return html\n",
    "\n",
    "display(HTML(\"<h2>Good Review Predictions</h2>\"))\n",
    "for id, row in results_df[results_df.Predicted >= 0.85].sample(2).iterrows():\n",
    "    display(HTML(render_row(id, row)))\n",
    "    \n",
    "display(HTML(\"<h2>Bad Review Predictions</h2>\"))\n",
    "for id, row in results_df[results_df.Predicted <= 0.15].sample(2).iterrows():\n",
    "    display(HTML(render_row(id, row)))\n",
    "    \n",
    "display(HTML(\"<h2>Misclassified Reviews</h2>\"))\n",
    "for id, row in results_df[results_df.PredictionDiff >= 0.5].sample(2).iterrows():\n",
    "    display(HTML(render_row(id, row)))"
   ]
  },
  {
   "cell_type": "code",
   "execution_count": null,
   "metadata": {},
   "outputs": [],
   "source": []
  }
 ],
 "metadata": {
  "kernelspec": {
   "display_name": "Python 3",
   "language": "python",
   "name": "python3"
  },
  "language_info": {
   "codemirror_mode": {
    "name": "ipython",
    "version": 3
   },
   "file_extension": ".py",
   "mimetype": "text/x-python",
   "name": "python",
   "nbconvert_exporter": "python",
   "pygments_lexer": "ipython3",
   "version": "3.7.6"
  }
 },
 "nbformat": 4,
 "nbformat_minor": 4
}
