{
 "cells": [
  {
   "cell_type": "markdown",
   "metadata": {},
   "source": [
    "# Example #1 IMDB: Chapter 3\n",
    "\n",
    "Example from chapter 3 for binary classification.\n"
   ]
  },
  {
   "cell_type": "code",
   "execution_count": 1,
   "metadata": {},
   "outputs": [
    {
     "name": "stderr",
     "output_type": "stream",
     "text": [
      "Using TensorFlow backend.\n"
     ]
    }
   ],
   "source": [
    "from keras.datasets import imdb\n",
    "import numpy as np\n",
    "import pandas as pd\n",
    "\n",
    "from keras import models\n",
    "from keras import layers\n",
    "from keras import optimizers\n",
    "\n",
    "import matplotlib.pyplot as plt\n",
    "\n",
    "from IPython.display import display, HTML"
   ]
  },
  {
   "cell_type": "markdown",
   "metadata": {},
   "source": [
    "## Load Data"
   ]
  },
  {
   "cell_type": "code",
   "execution_count": 2,
   "metadata": {},
   "outputs": [],
   "source": [
    "(train_data, train_labels), (test_data, test_labels) = imdb.load_data(num_words=10000)"
   ]
  },
  {
   "cell_type": "code",
   "execution_count": 3,
   "metadata": {},
   "outputs": [],
   "source": [
    "def vectorize_sequences(sequences, dimension=10000):\n",
    "    results = np.zeros((len(sequences), dimension))\n",
    "    for i, sequence in enumerate(sequences):\n",
    "        results[i, sequence] = 1.\n",
    "    return results\n",
    "\n",
    "x_train = vectorize_sequences(train_data)\n",
    "x_test = vectorize_sequences(test_data)\n",
    "\n",
    "y_train = np.asarray(train_labels).astype('float32')\n",
    "y_test = np.asarray(test_labels).astype('float32')"
   ]
  },
  {
   "cell_type": "markdown",
   "metadata": {},
   "source": [
    "## Examine Some Samples"
   ]
  },
  {
   "cell_type": "code",
   "execution_count": 4,
   "metadata": {},
   "outputs": [],
   "source": [
    "word_index = imdb.get_word_index()\n",
    "reverse_word_index = dict([(value, key) for (key, value) in word_index.items()])\n",
    "\n",
    "def get_word(i):\n",
    "    # Decodes the review. Note that the indices are offset by 3 because 0, 1, and 2 are\n",
    "    # reserved indices for “padding,” “start of sequence,” and “unknown.”\n",
    "    return reverse_word_index.get(i-3, '?')\n",
    "\n",
    "def get_text(word_ids):\n",
    "    return \" \".join(get_word(wid) for wid in word_ids)"
   ]
  },
  {
   "cell_type": "code",
   "execution_count": 5,
   "metadata": {},
   "outputs": [
    {
     "data": {
      "text/html": [
       "<h2>ID: 16244</h2>"
      ],
      "text/plain": [
       "<IPython.core.display.HTML object>"
      ]
     },
     "metadata": {},
     "output_type": "display_data"
    },
    {
     "data": {
      "text/html": [
       "Disposition: 0"
      ],
      "text/plain": [
       "<IPython.core.display.HTML object>"
      ]
     },
     "metadata": {},
     "output_type": "display_data"
    },
    {
     "data": {
      "text/html": [
       "<textarea rows='10' cols='100'>? i wasn't really going to comment but then i figured i had something to say i saw this film two days ago and although i think it's not a complete waste of time it might have been of money though for the producers it's obvious it has serious problems it's got really good cinematography and little but nice music a lot has been said about ? ? ? but let's be honest over what she is not really an actress an she ? ? between over acting and preposterous under acting her performance passes for good because there has never been anyone like ? in any other film crazy sad ? an ? no one knows ? so she's kinda sorta ? the rules here br br i thought this film was also a good example of the problem most portuguese films suffer from soundtrack there is a permanent no to dubbing and the result is this usual mass of noise that comes out of the blue people in other countries may think ? is the ? of places what thrilled me though was that some of the dialog was dubbed but it didn't necessarily solve the syndrome bad dubbing too i must say it's strange to watch a film in which the first thing that strikes my mind on the first scene when the first character speaks is it's dubbed and all this to say that the film has technical problems br br it also has script problems it tries to be classical from the first to the last scene there was a desperate fear of leaving things suspended and that shows the writer was obviously trying to get everything straight and he does but it shows all dialog is too ? and there isn't one single piece of talk that sounds like a line from a film it's all a little raw and slightly unpleasant br br not that the film is a total mess i must stress i just think the good parts are so obvious that i prefer to concentrate on the bad ones br br direction brings little to the weak screenplay all shots are classical and un innovative but their beautiful great work from ? ? by the way br br now what i think was the problem the one that keeps people from believing this story and laugh throughout the film instead of taking it seriously the guy who plays the guy who dies is obviously not an actor actually it's a rather important role and i can't see why non actors are cast for such parts this guy is neither an actor nor a good looking man which means the whole film rolls down the mountain since we never believe for one second that this gorgeous woman is obsessed with him even though he's gone and that his hunky lover who survives is actually having a bad time getting over the loss when all we see of this character is ? too bad the world is full of beautiful people who even happen to be nice seductive lovers the world is full of good actors who are also cute boys and capable of causing ? on people after ? gone the world is full of great films and also of not that great films ? la ?</textarea>"
      ],
      "text/plain": [
       "<IPython.core.display.HTML object>"
      ]
     },
     "metadata": {},
     "output_type": "display_data"
    },
    {
     "data": {
      "text/html": [
       "<h2>ID: 5023</h2>"
      ],
      "text/plain": [
       "<IPython.core.display.HTML object>"
      ]
     },
     "metadata": {},
     "output_type": "display_data"
    },
    {
     "data": {
      "text/html": [
       "Disposition: 0"
      ],
      "text/plain": [
       "<IPython.core.display.HTML object>"
      ]
     },
     "metadata": {},
     "output_type": "display_data"
    },
    {
     "data": {
      "text/html": [
       "<textarea rows='10' cols='100'>? the broadway musical a chorus line is arguably the best musical in theatre it's about the experiences of people who live for dance the ? they experience and the sacrifices they make each dancer is ? for parts in a broadway chorus line yet what comes out of each of them are stories of how their lives led them find dance as a ? br br the film version though captures none of the passion or beauty of the stage show and is arguably the worst film adaptation of a broadway musical as it is lifeless and devoid of any affection for dance whatsoever br br the biggest mistake was made in giving the director's job to sir richard attenborough whose direction offered just the right touch and pacing for gandhi why would anyone in his or her right mind ask an epic director to direct a musical that takes place in a fairly ? place br br which brings us to the next problem a chorus line takes place on stage in a theatre with no real sets and limited costume changes it's the least flashy of broadway musicals and its simplicity was its glory however that doesn't translate well to film and no one really thought that it would for that reason the movie should have taken us in the lives of these dancers and should have left the theatre and audition process the singers could have offered their songs in other ? and even have offered flashbacks to their first ballet jazz or tap class heck they could have ? down broadway in their lively ? yet not one shred of imagination went into the making of this film as ? complete indifference for dance and the show itself is evident in his ? direction br br many scenes are downright awkward as the dancers tell their story to the director michael douglas whether he wants to hear them or not ? character is ? about choosing to whom he ? a sympathetic ear and to whom he has no patience br br while the filmmakers ? to be true to the nature of the play some ? changes were made the very beautiful hello twelve hello thirteen hello love a ? stage number which took the dancers back to their ? was removed and replaced with the dreadful surprise a song so bad that it was nominated for an oscar adding insult to injury surprise simply ? the same story as hello love but without the wit or pathos br br there is no reason to see this film unless you want a lesson in what not to do when ? a broadway show to film if you want to see a film version of this show the next closest thing is bob ? brilliant all that jazz while ? daughter is in a chorus line he is the ? who should have been involved as director he would have known what to do with this material which deserved far greater respect than this sad effort</textarea>"
      ],
      "text/plain": [
       "<IPython.core.display.HTML object>"
      ]
     },
     "metadata": {},
     "output_type": "display_data"
    },
    {
     "data": {
      "text/html": [
       "<h2>ID: 11115</h2>"
      ],
      "text/plain": [
       "<IPython.core.display.HTML object>"
      ]
     },
     "metadata": {},
     "output_type": "display_data"
    },
    {
     "data": {
      "text/html": [
       "Disposition: 1"
      ],
      "text/plain": [
       "<IPython.core.display.HTML object>"
      ]
     },
     "metadata": {},
     "output_type": "display_data"
    },
    {
     "data": {
      "text/html": [
       "<textarea rows='10' cols='100'>? oscar caliber performance by peter falk in an oscar caliber written role i loved the nuanced balanced exploration of a long time marriage how often do we get that in films where usually the movie ends when boy girl get together this is a movie for adults a complex view through the eyes of all parties husband wife son how each have adapted to each other in the past and grow during the story on top of that it gave me about 10 major belly laughs and i'm one of those people who usually sits ? when the rest of an audience is laughing this was one of the few truly funny movies i've seen great original jokes</textarea>"
      ],
      "text/plain": [
       "<IPython.core.display.HTML object>"
      ]
     },
     "metadata": {},
     "output_type": "display_data"
    },
    {
     "data": {
      "text/html": [
       "<h2>ID: 23122</h2>"
      ],
      "text/plain": [
       "<IPython.core.display.HTML object>"
      ]
     },
     "metadata": {},
     "output_type": "display_data"
    },
    {
     "data": {
      "text/html": [
       "Disposition: 0"
      ],
      "text/plain": [
       "<IPython.core.display.HTML object>"
      ]
     },
     "metadata": {},
     "output_type": "display_data"
    },
    {
     "data": {
      "text/html": [
       "<textarea rows='10' cols='100'>? ugh this is a terrible film full of disastrous comic relief no scares and scary leaps in story and ? the only creepy thing here is the leading ? hats lugosi was on his downhill slide and it shows i give this a 1 and this ain't no fun</textarea>"
      ],
      "text/plain": [
       "<IPython.core.display.HTML object>"
      ]
     },
     "metadata": {},
     "output_type": "display_data"
    },
    {
     "data": {
      "text/html": [
       "<h2>ID: 1565</h2>"
      ],
      "text/plain": [
       "<IPython.core.display.HTML object>"
      ]
     },
     "metadata": {},
     "output_type": "display_data"
    },
    {
     "data": {
      "text/html": [
       "Disposition: 1"
      ],
      "text/plain": [
       "<IPython.core.display.HTML object>"
      ]
     },
     "metadata": {},
     "output_type": "display_data"
    },
    {
     "data": {
      "text/html": [
       "<textarea rows='10' cols='100'>? the only reason i give this movie an 8 out of 10 is because there are few movies in my opinion that are perfect this little b picture is a taut story well told i've always been intrigued by alexander knox but have seen him very few movies here he plays ? ? a sad little man who turns into a monster he betrays everything and everybody without an ounce of ? the performance is one of the most chilling performances i've ever seen since world war 2 actors who played nazis or other evil types in films have occasionally been nominated for oscars i imagine that since this was made during the war the academy felt like ? a performance like this would have been like ? evil but knox puts in that kind of performance a man so bitter and consumed by guilt that he thinks nothing of making others suffer i still can't get over it br br ? hunt who usually plays the ? ? or social ? is cast against type in probably the best performance i've ever seen her give too maybe not oscar worthy but the best of her career nothing against her i have enjoyed her in those slight roles she often played but here she proves she up to the task of ? drama br br if you like human drama stories or stories about the ? of those who suffered at the hands of the nazis i highly recommend this fine little film</textarea>"
      ],
      "text/plain": [
       "<IPython.core.display.HTML object>"
      ]
     },
     "metadata": {},
     "output_type": "display_data"
    }
   ],
   "source": [
    "for i in range(0, 5):\n",
    "    id = np.random.randint(0, len(train_data))\n",
    "    text = get_text(train_data[id])\n",
    "\n",
    "    display(HTML(f\"<h2>ID: {id}</h2>\"))\n",
    "    display(HTML(f\"Disposition: {train_labels[id]}\"))\n",
    "    display(HTML(f\"<textarea rows='10' cols='100'>{text}</textarea>\"))"
   ]
  },
  {
   "cell_type": "code",
   "execution_count": 6,
   "metadata": {},
   "outputs": [
    {
     "data": {
      "text/html": [
       "<div>\n",
       "<style scoped>\n",
       "    .dataframe tbody tr th:only-of-type {\n",
       "        vertical-align: middle;\n",
       "    }\n",
       "\n",
       "    .dataframe tbody tr th {\n",
       "        vertical-align: top;\n",
       "    }\n",
       "\n",
       "    .dataframe thead th {\n",
       "        text-align: right;\n",
       "    }\n",
       "</style>\n",
       "<table border=\"1\" class=\"dataframe\">\n",
       "  <thead>\n",
       "    <tr style=\"text-align: right;\">\n",
       "      <th></th>\n",
       "      <th>Count</th>\n",
       "    </tr>\n",
       "  </thead>\n",
       "  <tbody>\n",
       "    <tr>\n",
       "      <th>0.0</th>\n",
       "      <td>12500</td>\n",
       "    </tr>\n",
       "    <tr>\n",
       "      <th>1.0</th>\n",
       "      <td>12500</td>\n",
       "    </tr>\n",
       "  </tbody>\n",
       "</table>\n",
       "</div>"
      ],
      "text/plain": [
       "     Count\n",
       "0.0  12500\n",
       "1.0  12500"
      ]
     },
     "execution_count": 6,
     "metadata": {},
     "output_type": "execute_result"
    }
   ],
   "source": [
    "# Show distribution of values.\n",
    "pd.Series(y_train).value_counts().to_frame().rename(columns={0:'Count'})"
   ]
  },
  {
   "cell_type": "markdown",
   "metadata": {},
   "source": [
    "## Train Model"
   ]
  },
  {
   "cell_type": "code",
   "execution_count": 7,
   "metadata": {},
   "outputs": [],
   "source": [
    "def create_model():\n",
    "    model = models.Sequential()\n",
    "    model.add(layers.Dense(16, activation='relu', input_shape=(x_train.shape[1],)))\n",
    "    model.add(layers.Dense(16, activation='relu'))\n",
    "    model.add(layers.Dense(1, activation='sigmoid'))\n",
    "    \n",
    "    model.compile(\n",
    "        optimizer='rmsprop',\n",
    "        loss='binary_crossentropy',\n",
    "        metrics=['acc'])\n",
    "    \n",
    "    return model\n",
    "\n",
    "def plot_training(history):\n",
    "    history_dict = history.history\n",
    "    loss_values = history_dict['loss']\n",
    "    val_loss_values = history_dict['val_loss']\n",
    "    epochs = range(1, len(loss_values) + 1)\n",
    "    plt.plot(epochs, loss_values, 'bo', label='Training loss')\n",
    "    plt.plot(epochs, val_loss_values, 'b', label='Validation loss')\n",
    "    plt.title('Training and validation loss')\n",
    "    plt.xlabel('Epochs')\n",
    "    plt.ylabel('Loss')\n",
    "    plt.legend()\n",
    "    plt.gca().grid()\n",
    "    plt.show()\n",
    "\n",
    "    acc = history_dict['acc']\n",
    "    val_acc = history_dict['val_acc']\n",
    "    plt.plot(epochs, acc, 'bo', label='Training acc')\n",
    "    plt.plot(epochs, val_acc, 'b', label='Validation acc')\n",
    "    plt.title('Training and validation accuracy')\n",
    "    plt.xlabel('Epochs')\n",
    "    plt.ylabel('Accuracy')\n",
    "    plt.legend()\n",
    "    plt.gca().grid()\n",
    "    plt.show()"
   ]
  },
  {
   "cell_type": "code",
   "execution_count": 8,
   "metadata": {},
   "outputs": [
    {
     "name": "stdout",
     "output_type": "stream",
     "text": [
      "Train on 18750 samples, validate on 6250 samples\n",
      "Epoch 1/8\n",
      "18750/18750 [==============================] - 5s 291us/step - loss: 0.4863 - acc: 0.7957 - val_loss: 0.3631 - val_acc: 0.8698\n",
      "Epoch 2/8\n",
      "18750/18750 [==============================] - 5s 247us/step - loss: 0.2804 - acc: 0.9060 - val_loss: 0.2842 - val_acc: 0.8933\n",
      "Epoch 3/8\n",
      "18750/18750 [==============================] - 5s 244us/step - loss: 0.2075 - acc: 0.9295 - val_loss: 0.2704 - val_acc: 0.8936\n",
      "Epoch 4/8\n",
      "18750/18750 [==============================] - 5s 243us/step - loss: 0.1666 - acc: 0.9434 - val_loss: 0.2888 - val_acc: 0.8890\n",
      "Epoch 5/8\n",
      "18750/18750 [==============================] - 5s 242us/step - loss: 0.1390 - acc: 0.9535 - val_loss: 0.3202 - val_acc: 0.8826\n",
      "Epoch 6/8\n",
      "18750/18750 [==============================] - 5s 243us/step - loss: 0.1168 - acc: 0.9616 - val_loss: 0.4107 - val_acc: 0.8563\n",
      "Epoch 7/8\n",
      "18750/18750 [==============================] - 5s 244us/step - loss: 0.0987 - acc: 0.9698 - val_loss: 0.3561 - val_acc: 0.8787\n",
      "Epoch 8/8\n",
      "18750/18750 [==============================] - 5s 243us/step - loss: 0.0878 - acc: 0.9721 - val_loss: 0.3650 - val_acc: 0.8795\n"
     ]
    },
    {
     "data": {
      "image/png": "[encoded data removed]",
      "text/plain": [
       "<Figure size 432x288 with 1 Axes>"
      ]
     },
     "metadata": {
      "needs_background": "light"
     },
     "output_type": "display_data"
    },
    {
     "data": {
      "image/png": "[encoded data removed]",
      "text/plain": [
       "<Figure size 432x288 with 1 Axes>"
      ]
     },
     "metadata": {
      "needs_background": "light"
     },
     "output_type": "display_data"
    }
   ],
   "source": [
    "# Train the model with validation first to help figure out how many epochs to use.\n",
    "model = create_model()\n",
    "history = model.fit(\n",
    "    x_train,\n",
    "    y_train,\n",
    "    validation_split = 0.25,\n",
    "    epochs=8,\n",
    "    batch_size=512\n",
    ")\n",
    "\n",
    "plot_training(history)"
   ]
  },
  {
   "cell_type": "code",
   "execution_count": 9,
   "metadata": {},
   "outputs": [
    {
     "name": "stdout",
     "output_type": "stream",
     "text": [
      "Epoch 1/4\n",
      "25000/25000 [==============================] - 5s 200us/step - loss: 0.4670 - acc: 0.8201\n",
      "Epoch 2/4\n",
      "25000/25000 [==============================] - 5s 186us/step - loss: 0.2652 - acc: 0.9078\n",
      "Epoch 3/4\n",
      "25000/25000 [==============================] - 5s 186us/step - loss: 0.2045 - acc: 0.9276 1s - loss: 0.2\n",
      "Epoch 4/4\n",
      "25000/25000 [==============================] - 5s 188us/step - loss: 0.1698 - acc: 0.9407\n"
     ]
    }
   ],
   "source": [
    "# Train the model with all test data\n",
    "model = create_model()\n",
    "history = model.fit(\n",
    "    x_train,\n",
    "    y_train,\n",
    "    epochs=4,\n",
    "    batch_size=512\n",
    ")"
   ]
  },
  {
   "cell_type": "code",
   "execution_count": 10,
   "metadata": {},
   "outputs": [
    {
     "name": "stdout",
     "output_type": "stream",
     "text": [
      "25000/25000 [==============================] - 6s 249us/step\n"
     ]
    },
    {
     "data": {
      "text/plain": [
       "[0.2996167465400696, 0.8812000155448914]"
      ]
     },
     "execution_count": 10,
     "metadata": {},
     "output_type": "execute_result"
    }
   ],
   "source": [
    "# Show the overall accuracy\n",
    "results = model.evaluate(x_test, y_test)\n",
    "results"
   ]
  },
  {
   "cell_type": "markdown",
   "metadata": {},
   "source": [
    "## Examine Results"
   ]
  },
  {
   "cell_type": "code",
   "execution_count": 11,
   "metadata": {},
   "outputs": [],
   "source": [
    "results = model.predict(x_test)"
   ]
  },
  {
   "cell_type": "code",
   "execution_count": 12,
   "metadata": {},
   "outputs": [],
   "source": [
    "results_df = pd.DataFrame()\n",
    "results_df['Predicted'] = [r[0] for r in results]\n",
    "results_df['Actual'] = y_test\n",
    "results_df['PredictionDiff'] = (results_df.Predicted - results_df.Actual).abs()\n",
    "results_df['Text'] = [get_text(ids) for ids in test_data]"
   ]
  },
  {
   "cell_type": "code",
   "execution_count": 13,
   "metadata": {},
   "outputs": [
    {
     "data": {
      "text/html": [
       "<h2>Good Review Predictions</h2>"
      ],
      "text/plain": [
       "<IPython.core.display.HTML object>"
      ]
     },
     "metadata": {},
     "output_type": "display_data"
    },
    {
     "data": {
      "text/html": [
       "ID: 1908<br/>Predicted: 0.980402946472168<br/>Actual: 1.0<br/><textarea rows='10' cols='100'>? fans of apocalyptic movies will ? this well made low budget thriller that is essentially a remake of the 1951 george pal classic when worlds ? a ? is headed for a near ? with earth and when his fellow scientists disregard his ? of doom eccentric scientist peter crawford dennis hopper ? a group of private ? to secretly ? an underground ? br br the story unfolds through the eyes of muscle bound ? war veteran jake lowe peter ? who inadvertently discovers ? hidden ? and then decides that crawford is wrong for keeping his project hidden from the rest of humanity as the ? approaches the subject of who should live and who should die makes for interesting drama br br while the special effects are not in the same league i enjoyed the story more than i did spielberg's war of the worlds because i feel this screenplay is better some suspension of scientific reality is required but it's worthwhile for the development of a good story i highly recommend this film to fans of the genre</textarea>"
      ],
      "text/plain": [
       "<IPython.core.display.HTML object>"
      ]
     },
     "metadata": {},
     "output_type": "display_data"
    },
    {
     "data": {
      "text/html": [
       "ID: 24961<br/>Predicted: 0.933769941329956<br/>Actual: 1.0<br/><textarea rows='10' cols='100'>? ? ? is a stunning and heartbreaking story about the two ? seth and ? robin ? gives a fantastic performance as ? suffering from ? getting ? and ? as the movie progresses this movie is not very optimistic and it's very hard emotional but at the same time very romantic it's hard to explain but see it and find out for yourself it's definitely worth it</textarea>"
      ],
      "text/plain": [
       "<IPython.core.display.HTML object>"
      ]
     },
     "metadata": {},
     "output_type": "display_data"
    },
    {
     "data": {
      "text/html": [
       "<h2>Bad Review Predictions</h2>"
      ],
      "text/plain": [
       "<IPython.core.display.HTML object>"
      ]
     },
     "metadata": {},
     "output_type": "display_data"
    },
    {
     "data": {
      "text/html": [
       "ID: 425<br/>Predicted: 0.00207597017288208<br/>Actual: 0.0<br/><textarea rows='10' cols='100'>? after watch this movie i was surprised that someone had like it i think this is the worst comedy i ever seen ever if you think you had already seen the worst comedy made wait for watch this crap not funny at all ok one or two laugh maybe but you have to be really high the acting is terrible and the story doesn't exist even if you like and i really do you will hate this movie ok ok you can see some nice babes some nice tricks and some beautiful mountains but that's all watch a porno set in the mountains instead because the acting and the story line might be better sometimes in imdb i read bad review about some movie and at the end they are not so awful but this one believe me is pure trash don't waste your time and money in this one</textarea>"
      ],
      "text/plain": [
       "<IPython.core.display.HTML object>"
      ]
     },
     "metadata": {},
     "output_type": "display_data"
    },
    {
     "data": {
      "text/html": [
       "ID: 752<br/>Predicted: 0.005993276834487915<br/>Actual: 0.0<br/><textarea rows='10' cols='100'>? i was intrigued by the nasty boss character as i am one myself and the actual ? daughter was attractive and it was interesting to see an even younger ? but this movie is so ? i had to turn it off it was a waste of time to watch it when people started ? all over the living room it was too much to watch painful awful crap movie if they had just toned it down a little are there really people out there that find it funny and like it i was ? to know that imdb readers rated it so low the career side to the story was intriguing as well as the young man trying to get a promotion and win the bosses favor i liked that part also the opening scene with the ? on the train was cool as i like his characters if you can stomach non sense movies or you are pretty young then it might be one you can stomach</textarea>"
      ],
      "text/plain": [
       "<IPython.core.display.HTML object>"
      ]
     },
     "metadata": {},
     "output_type": "display_data"
    },
    {
     "data": {
      "text/html": [
       "<h2>Misclassified Reviews</h2>"
      ],
      "text/plain": [
       "<IPython.core.display.HTML object>"
      ]
     },
     "metadata": {},
     "output_type": "display_data"
    },
    {
     "data": {
      "text/html": [
       "ID: 841<br/>Predicted: 0.3391481637954712<br/>Actual: 1.0<br/><textarea rows='10' cols='100'>? a powerful real tv movie very ? and therefore remaining almost un ? almost ? 2 ? in france after you've watched this ? all movies filmed with the same concept a documentary team following the events as they arrived seem so weak br br david</textarea>"
      ],
      "text/plain": [
       "<IPython.core.display.HTML object>"
      ]
     },
     "metadata": {},
     "output_type": "display_data"
    },
    {
     "data": {
      "text/html": [
       "ID: 1971<br/>Predicted: 0.6109380125999451<br/>Actual: 0.0<br/><textarea rows='10' cols='100'>? if you've ever heard the saying the book is always better than the movie heart of darkness is no exception to the rule i believe that it was much easier for me to comprehend the details of the novel over the movie because i read the book ? with my english class we discussed each paragraph in great detail so i ? the concept pretty quickly i couldn't really understand the plot as well while watching the movie this may be because there were no discussions held in class but i suppose it is also because i couldn't paint my own pictures in my mind of the events of the novel if you're the type of person who believes in that well known saying then leave watching the heart of darkness movie off your to do list</textarea>"
      ],
      "text/plain": [
       "<IPython.core.display.HTML object>"
      ]
     },
     "metadata": {},
     "output_type": "display_data"
    }
   ],
   "source": [
    "def render_row(id, row):\n",
    "    html = \"\"\n",
    "    html += f\"ID: {id}<br/>\"\n",
    "    html += f\"Predicted: {row.Predicted}<br/>\"\n",
    "    html += f\"Actual: {row.Actual}<br/>\"\n",
    "    html += f\"<textarea rows='10' cols='100'>{row.Text}</textarea>\"\n",
    "    return html\n",
    "\n",
    "display(HTML(\"<h2>Good Review Predictions</h2>\"))\n",
    "for id, row in results_df[results_df.Predicted >= 0.85].sample(2).iterrows():\n",
    "    display(HTML(render_row(id, row)))\n",
    "    \n",
    "display(HTML(\"<h2>Bad Review Predictions</h2>\"))\n",
    "for id, row in results_df[results_df.Predicted <= 0.15].sample(2).iterrows():\n",
    "    display(HTML(render_row(id, row)))\n",
    "    \n",
    "display(HTML(\"<h2>Misclassified Reviews</h2>\"))\n",
    "for id, row in results_df[results_df.PredictionDiff >= 0.5].sample(2).iterrows():\n",
    "    display(HTML(render_row(id, row)))"
   ]
  },
  {
   "cell_type": "code",
   "execution_count": null,
   "metadata": {},
   "outputs": [],
   "source": []
  }
 ],
 "metadata": {
  "kernelspec": {
   "display_name": "Python 3",
   "language": "python",
   "name": "python3"
  },
  "language_info": {
   "codemirror_mode": {
    "name": "ipython",
    "version": 3
   },
   "file_extension": ".py",
   "mimetype": "text/x-python",
   "name": "python",
   "nbconvert_exporter": "python",
   "pygments_lexer": "ipython3",
   "version": "3.7.6"
  }
 },
 "nbformat": 4,
 "nbformat_minor": 4
}
