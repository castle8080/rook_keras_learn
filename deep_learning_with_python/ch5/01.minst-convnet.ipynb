{
 "cells": [
  {
   "cell_type": "markdown",
   "metadata": {},
   "source": [
    "# Chapter 5 Convnet"
   ]
  },
  {
   "cell_type": "code",
   "execution_count": 1,
   "metadata": {},
   "outputs": [
    {
     "name": "stderr",
     "output_type": "stream",
     "text": [
      "Using TensorFlow backend.\n"
     ]
    }
   ],
   "source": [
    "import numpy as np\n",
    "import pandas as pd\n",
    "\n",
    "from keras import layers\n",
    "from keras import models\n",
    "from keras.datasets import mnist\n",
    "from keras.utils import to_categorical\n",
    "\n",
    "import matplotlib.pyplot as plt"
   ]
  },
  {
   "cell_type": "markdown",
   "metadata": {},
   "source": [
    "## Load Data"
   ]
  },
  {
   "cell_type": "code",
   "execution_count": 2,
   "metadata": {},
   "outputs": [],
   "source": [
    "(train_images_raw, train_labels_raw), (test_images_raw, test_labels_raw) = mnist.load_data()"
   ]
  },
  {
   "cell_type": "code",
   "execution_count": 3,
   "metadata": {},
   "outputs": [],
   "source": [
    "def convert_image_data(data):\n",
    "    return data.reshape(data.shape + (1,)).astype('float32') / 255\n",
    "\n",
    "train_images = convert_image_data(train_images_raw)\n",
    "test_images = convert_image_data(test_images_raw)\n",
    "\n",
    "train_labels = to_categorical(train_labels_raw)\n",
    "test_labels = to_categorical(test_labels_raw)\n",
    "\n",
    "input_shape = train_images[0].shape\n",
    "output_shape = train_labels.shape[1]"
   ]
  },
  {
   "cell_type": "code",
   "execution_count": 4,
   "metadata": {},
   "outputs": [
    {
     "data": {
      "image/png": "[encoded data removed]",
      "text/plain": [
       "<Figure size 432x288 with 1 Axes>"
      ]
     },
     "metadata": {
      "needs_background": "light"
     },
     "output_type": "display_data"
    }
   ],
   "source": [
    "plt.imshow(train_images_raw[np.random.randint(len(train_images_raw))], cmap='gray')\n",
    "plt.show()"
   ]
  },
  {
   "cell_type": "markdown",
   "metadata": {},
   "source": [
    "## Train Model"
   ]
  },
  {
   "cell_type": "code",
   "execution_count": 5,
   "metadata": {},
   "outputs": [],
   "source": [
    "def create_model():\n",
    "    model = models.Sequential()\n",
    "\n",
    "    model.add(layers.Conv2D(32, (3, 3), activation='relu', input_shape=input_shape))\n",
    "    model.add(layers.MaxPooling2D((2, 2)))\n",
    "    model.add(layers.Conv2D(64, (3, 3), activation='relu'))\n",
    "    model.add(layers.MaxPooling2D((2, 2)))\n",
    "    model.add(layers.Conv2D(64, (3, 3), activation='relu'))\n",
    "\n",
    "    model.add(layers.Flatten())\n",
    "    model.add(layers.Dense(64, activation='relu'))\n",
    "    model.add(layers.Dense(output_shape, activation='softmax'))\n",
    "\n",
    "    model.compile(\n",
    "        optimizer='adam',\n",
    "        loss='categorical_crossentropy',\n",
    "        metrics=['accuracy'])\n",
    "    \n",
    "    return model"
   ]
  },
  {
   "cell_type": "code",
   "execution_count": 6,
   "metadata": {},
   "outputs": [
    {
     "name": "stdout",
     "output_type": "stream",
     "text": [
      "Model: \"sequential_1\"\n",
      "_________________________________________________________________\n",
      "Layer (type)                 Output Shape              Param #   \n",
      "=================================================================\n",
      "conv2d_1 (Conv2D)            (None, 26, 26, 32)        320       \n",
      "_________________________________________________________________\n",
      "max_pooling2d_1 (MaxPooling2 (None, 13, 13, 32)        0         \n",
      "_________________________________________________________________\n",
      "conv2d_2 (Conv2D)            (None, 11, 11, 64)        18496     \n",
      "_________________________________________________________________\n",
      "max_pooling2d_2 (MaxPooling2 (None, 5, 5, 64)          0         \n",
      "_________________________________________________________________\n",
      "conv2d_3 (Conv2D)            (None, 3, 3, 64)          36928     \n",
      "_________________________________________________________________\n",
      "flatten_1 (Flatten)          (None, 576)               0         \n",
      "_________________________________________________________________\n",
      "dense_1 (Dense)              (None, 64)                36928     \n",
      "_________________________________________________________________\n",
      "dense_2 (Dense)              (None, 10)                650       \n",
      "=================================================================\n",
      "Total params: 93,322\n",
      "Trainable params: 93,322\n",
      "Non-trainable params: 0\n",
      "_________________________________________________________________\n"
     ]
    }
   ],
   "source": [
    "model = create_model()\n",
    "model.summary()"
   ]
  },
  {
   "cell_type": "code",
   "execution_count": 7,
   "metadata": {},
   "outputs": [
    {
     "name": "stdout",
     "output_type": "stream",
     "text": [
      "Train on 48000 samples, validate on 12000 samples\n",
      "Epoch 1/8\n",
      "48000/48000 [==============================] - 15s 321us/step - loss: 0.2151 - accuracy: 0.9355 - val_loss: 0.0773 - val_accuracy: 0.9762\n",
      "Epoch 2/8\n",
      "48000/48000 [==============================] - 6s 120us/step - loss: 0.0587 - accuracy: 0.9816 - val_loss: 0.0618 - val_accuracy: 0.9810\n",
      "Epoch 3/8\n",
      "48000/48000 [==============================] - 6s 126us/step - loss: 0.0411 - accuracy: 0.9871 - val_loss: 0.0475 - val_accuracy: 0.9864\n",
      "Epoch 4/8\n",
      "48000/48000 [==============================] - 6s 119us/step - loss: 0.0313 - accuracy: 0.9902 - val_loss: 0.0398 - val_accuracy: 0.9883\n",
      "Epoch 5/8\n",
      "48000/48000 [==============================] - 6s 121us/step - loss: 0.0257 - accuracy: 0.9921 - val_loss: 0.0548 - val_accuracy: 0.9829\n",
      "Epoch 6/8\n",
      "48000/48000 [==============================] - 5s 114us/step - loss: 0.0200 - accuracy: 0.9933 - val_loss: 0.0374 - val_accuracy: 0.9887\n",
      "Epoch 7/8\n",
      "48000/48000 [==============================] - 6s 118us/step - loss: 0.0164 - accuracy: 0.9945 - val_loss: 0.0659 - val_accuracy: 0.9810\n",
      "Epoch 8/8\n",
      "48000/48000 [==============================] - 6s 119us/step - loss: 0.0153 - accuracy: 0.9946 - val_loss: 0.0439 - val_accuracy: 0.9878\n"
     ]
    }
   ],
   "source": [
    "history = model.fit(\n",
    "    train_images,\n",
    "    train_labels,\n",
    "    epochs=8,\n",
    "    batch_size=64,\n",
    "    validation_split=0.2)"
   ]
  },
  {
   "cell_type": "code",
   "execution_count": 8,
   "metadata": {},
   "outputs": [
    {
     "data": {
      "image/png": "[encoded data removed]",
      "text/plain": [
       "<Figure size 432x288 with 1 Axes>"
      ]
     },
     "metadata": {
      "needs_background": "light"
     },
     "output_type": "display_data"
    },
    {
     "data": {
      "image/png": "[encoded data removed]",
      "text/plain": [
       "<Figure size 432x288 with 1 Axes>"
      ]
     },
     "metadata": {
      "needs_background": "light"
     },
     "output_type": "display_data"
    }
   ],
   "source": [
    "val_loss_values = history.history['val_loss']\n",
    "loss_values = history.history['loss']\n",
    "epochs = range(1, len(val_loss_values) + 1)\n",
    "plt.plot(epochs, loss_values, label='Training loss')\n",
    "plt.plot(epochs, val_loss_values, label='Validation loss')\n",
    "plt.title('Training and Validation Loss')\n",
    "plt.xlabel('Epochs')\n",
    "plt.ylabel('Loss')\n",
    "plt.legend()\n",
    "plt.gca().grid()\n",
    "plt.show()\n",
    "\n",
    "acc = history.history['accuracy']\n",
    "val_acc = history.history['val_accuracy']\n",
    "plt.plot(epochs, acc, label='Training Accuracy')\n",
    "plt.plot(epochs, val_acc, label='Validation Accuracy')\n",
    "plt.title('Training and Validation Accuracy')\n",
    "plt.xlabel('Epochs')\n",
    "plt.ylabel('Accuracy')\n",
    "plt.legend()\n",
    "plt.gca().grid()\n",
    "plt.show()"
   ]
  },
  {
   "cell_type": "code",
   "execution_count": null,
   "metadata": {},
   "outputs": [
    {
     "name": "stdout",
     "output_type": "stream",
     "text": [
      "Epoch 1/4\n",
      "60000/60000 [==============================] - 7s 121us/step - loss: 0.1783 - accuracy: 0.9466\n",
      "Epoch 2/4\n",
      "60000/60000 [==============================] - 7s 113us/step - loss: 0.0530 - accuracy: 0.9836\n",
      "Epoch 3/4\n",
      "60000/60000 [==============================] - 7s 115us/step - loss: 0.0366 - accuracy: 0.9888\n",
      "Epoch 4/4\n",
      " 1408/60000 [..............................] - ETA: 6s - loss: 0.0145 - accuracy: 0.9957"
     ]
    }
   ],
   "source": [
    "model = create_model()\n",
    "history = model.fit(\n",
    "    train_images,\n",
    "    train_labels,\n",
    "    epochs=4,\n",
    "    batch_size=64)"
   ]
  },
  {
   "cell_type": "markdown",
   "metadata": {},
   "source": [
    "## Test"
   ]
  },
  {
   "cell_type": "code",
   "execution_count": null,
   "metadata": {},
   "outputs": [],
   "source": [
    "test_loss, test_acc = model.evaluate(test_images, test_labels)\n",
    "print(f\"Test Loss:     {test_loss}\")\n",
    "print(f\"Test Accuracy: {test_acc}\")"
   ]
  },
  {
   "cell_type": "markdown",
   "metadata": {},
   "source": [
    "## Examine Results"
   ]
  },
  {
   "cell_type": "code",
   "execution_count": null,
   "metadata": {},
   "outputs": [],
   "source": [
    "test_results_p = pd.DataFrame(model.predict(test_images))\n",
    "\n",
    "test_results = pd.DataFrame()\n",
    "test_results['Actual'] = test_labels_raw\n",
    "test_results['Predicted'] = test_results_p.idxmax(axis=1)\n",
    "test_results['Probability'] = test_results_p.max(axis=1)"
   ]
  },
  {
   "cell_type": "code",
   "execution_count": null,
   "metadata": {},
   "outputs": [],
   "source": [
    "mis_classified = test_results[test_results.Actual != test_results.Predicted].sort_values(by='Probability', ascending=False)\n",
    "\n",
    "for idx, mc in mis_classified.head(5).iterrows():\n",
    "    print(mc)\n",
    "    plt.imshow(test_images_raw[mc.name], cmap='gray')\n",
    "    plt.show()"
   ]
  },
  {
   "cell_type": "code",
   "execution_count": null,
   "metadata": {},
   "outputs": [],
   "source": []
  }
 ],
 "metadata": {
  "kernelspec": {
   "display_name": "Python 3",
   "language": "python",
   "name": "python3"
  },
  "language_info": {
   "codemirror_mode": {
    "name": "ipython",
    "version": 3
   },
   "file_extension": ".py",
   "mimetype": "text/x-python",
   "name": "python",
   "nbconvert_exporter": "python",
   "pygments_lexer": "ipython3",
   "version": "3.7.6"
  }
 },
 "nbformat": 4,
 "nbformat_minor": 4
}
