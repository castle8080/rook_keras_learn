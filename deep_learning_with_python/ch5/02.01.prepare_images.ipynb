{
 "cells": [
  {
   "cell_type": "markdown",
   "metadata": {},
   "source": [
    "# Prepare Images\n",
    "\n",
    "Extracts images from the kaggle dogs-vs-cats dataset.\n",
    "\n",
    "The train.zip file must be downloaded from:\n",
    "\n",
    "    https://www.kaggle.com/c/dogs-vs-cats/data\n",
    "    \n",
    "And placed under var/download.\n",
    "\n",
    "Some random images will be extracted from each class. Directories for training, validation, and test will be created."
   ]
  },
  {
   "cell_type": "code",
   "execution_count": 1,
   "metadata": {},
   "outputs": [],
   "source": [
    "import os\n",
    "import re\n",
    "import shutil\n",
    "import pandas as pd\n",
    "import zipfile\n",
    "from IPython.display import display, HTML"
   ]
  },
  {
   "cell_type": "code",
   "execution_count": 3,
   "metadata": {},
   "outputs": [],
   "source": [
    "# Setup directories\n",
    "data_dir     = os.path.join('var', 'data')\n",
    "download_dir = os.path.join('var', 'download')\n",
    "train_zip    = os.path.join(download_dir, 'train.zip')\n",
    "\n",
    "# Wipe pre-existing data\n",
    "if os.path.isdir(data_dir):\n",
    "    shutil.rmtree(data_dir)\n",
    "\n",
    "os.makedirs(data_dir, exist_ok=True)\n",
    "os.makedirs(download_dir, exist_ok=True)"
   ]
  },
  {
   "cell_type": "code",
   "execution_count": 4,
   "metadata": {},
   "outputs": [],
   "source": [
    "# Make sure the zip file is downloaded\n",
    "if not os.path.isfile(train_zip):\n",
    "    url = 'https://www.kaggle.com/c/dogs-vs-cats/data'\n",
    "    display(HTML(f\"train1.zip must be downloaded from: <a href='{url}'>{url}</a>\"))\n",
    "    raise(Exception(\"Data not downloaded.\"))"
   ]
  },
  {
   "cell_type": "markdown",
   "metadata": {},
   "source": [
    "## Extract Images"
   ]
  },
  {
   "cell_type": "code",
   "execution_count": 5,
   "metadata": {},
   "outputs": [],
   "source": [
    "train_size      = 1000\n",
    "validation_size = 500\n",
    "test_size       = 500\n",
    "\n",
    "def read_entries(zf):\n",
    "    fname_re = re.compile(r'train/(cat|dog)\\.(\\d+)\\.jpg')\n",
    "\n",
    "    image_entries = []\n",
    "    for e in zf.filelist:\n",
    "        m = fname_re.search(e.filename)\n",
    "        if m:\n",
    "            label = m.group(1)\n",
    "            id = int(m.group(2))\n",
    "            image_entries.append([id, label, e.filename])\n",
    "\n",
    "    image_entries = pd.DataFrame(image_entries, columns=['id', 'label', 'filename'])\n",
    "    return image_entries\n",
    "\n",
    "def extract_entries(zf, label, dataset, items):\n",
    "    entry_dir = os.path.join(data_dir, dataset, label)\n",
    "    os.makedirs(entry_dir, exist_ok=True)\n",
    "    for idx, row in items.iterrows():\n",
    "        with zf.open(row.filename, 'r') as zip_e_fh:\n",
    "            content = zip_e_fh.read()\n",
    "        full_file = os.path.join(entry_dir, os.path.basename(row.filename))\n",
    "        with open(full_file, 'wb') as fh:\n",
    "            fh.write(content)\n",
    "\n",
    "with zipfile.ZipFile(train_zip) as zf:\n",
    "    image_entries = read_entries(zf)\n",
    "    for label in ['dog', 'cat']:\n",
    "        lbl_data = image_entries[image_entries.label == label].sample(train_size + validation_size + test_size).copy()\n",
    "        extract_entries(zf, label, 'train',      lbl_data[0 : train_size])\n",
    "        extract_entries(zf, label, 'validation', lbl_data[train_size : train_size + validation_size])\n",
    "        extract_entries(zf, label, 'test',       lbl_data[train_size + validation_size :])"
   ]
  },
  {
   "cell_type": "code",
   "execution_count": null,
   "metadata": {},
   "outputs": [],
   "source": []
  }
 ],
 "metadata": {
  "kernelspec": {
   "display_name": "Python 3",
   "language": "python",
   "name": "python3"
  },
  "language_info": {
   "codemirror_mode": {
    "name": "ipython",
    "version": 3
   },
   "file_extension": ".py",
   "mimetype": "text/x-python",
   "name": "python",
   "nbconvert_exporter": "python",
   "pygments_lexer": "ipython3",
   "version": "3.7.6"
  }
 },
 "nbformat": 4,
 "nbformat_minor": 4
}
