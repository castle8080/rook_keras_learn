{
 "cells": [
  {
   "cell_type": "markdown",
   "metadata": {},
   "source": [
    "# Add a Dense Layer"
   ]
  },
  {
   "cell_type": "code",
   "execution_count": 9,
   "metadata": {},
   "outputs": [],
   "source": [
    "import os\n",
    "import re\n",
    "import random\n",
    "import io\n",
    "import urllib.request\n",
    "import functools as F\n",
    "\n",
    "import numpy as np\n",
    "import pandas as pd\n",
    "import matplotlib.pyplot as plt\n",
    "import PIL\n",
    "\n",
    "from keras import layers\n",
    "from keras import models\n",
    "from keras import optimizers\n",
    "from keras.preprocessing.image import ImageDataGenerator\n",
    "from keras.preprocessing import image\n",
    "\n",
    "from keras.applications import VGG16\n",
    "\n",
    "from IPython.display import display, HTML"
   ]
  },
  {
   "cell_type": "code",
   "execution_count": 10,
   "metadata": {},
   "outputs": [],
   "source": [
    "data_dir  = os.path.join(\"var\", \"data\")\n",
    "train_dir = os.path.join(data_dir, \"train\")\n",
    "val_dir   = os.path.join(data_dir, \"validation\")\n",
    "test_dir  = os.path.join(data_dir, \"test\")\n",
    "model_dir = os.path.join(\"var\", \"model\")\n",
    "\n",
    "os.makedirs(model_dir, exist_ok=True)"
   ]
  },
  {
   "cell_type": "code",
   "execution_count": 11,
   "metadata": {},
   "outputs": [],
   "source": [
    "def get_conv_base():\n",
    "    return VGG16(weights='imagenet', include_top=False, input_shape=(150, 150, 3))"
   ]
  },
  {
   "cell_type": "code",
   "execution_count": 14,
   "metadata": {},
   "outputs": [
    {
     "name": "stdout",
     "output_type": "stream",
     "text": [
      "Found 2000 images belonging to 2 classes.\n",
      "Found 1000 images belonging to 2 classes.\n"
     ]
    }
   ],
   "source": [
    "train_datagen = ImageDataGenerator(\n",
    "    rescale=1./255,\n",
    "    rotation_range=40,\n",
    "    width_shift_range=0.2,\n",
    "    height_shift_range=0.2,\n",
    "    shear_range=0.2,\n",
    "    zoom_range=0.2,\n",
    "    horizontal_flip=True,\n",
    "    fill_mode='nearest')\n",
    "\n",
    "test_datagen = ImageDataGenerator(rescale=1./255)\n",
    "\n",
    "train_generator = train_datagen.flow_from_directory(\n",
    "    train_dir,\n",
    "    target_size=(150, 150),\n",
    "    batch_size=20,\n",
    "    class_mode='binary')\n",
    "\n",
    "validation_generator = test_datagen.flow_from_directory(\n",
    "    val_dir,\n",
    "    target_size=(150, 150),\n",
    "    batch_size=20,\n",
    "    class_mode='binary')"
   ]
  },
  {
   "cell_type": "code",
   "execution_count": 22,
   "metadata": {},
   "outputs": [],
   "source": [
    "def display_training_history(history):\n",
    "    acc = history.history['acc']\n",
    "    val_acc = history.history['val_acc']\n",
    "    loss = history.history['loss']\n",
    "    val_loss = history.history['val_loss']\n",
    "    epochs = range(1, len(acc) + 1)\n",
    "    plt.plot(epochs, acc, 'bo', label='Training acc')\n",
    "    plt.plot(epochs, val_acc, 'b', label='Validation acc')\n",
    "    plt.title('Training and validation accuracy')\n",
    "    plt.legend()\n",
    "    plt.figure()\n",
    "    plt.plot(epochs, loss, 'bo', label='Training loss')\n",
    "    plt.plot(epochs, val_loss, 'b', label='Validation loss')\n",
    "    plt.title('Training and validation loss')\n",
    "    plt.legend()\n",
    "    plt.show()"
   ]
  },
  {
   "cell_type": "code",
   "execution_count": 29,
   "metadata": {},
   "outputs": [
    {
     "name": "stdout",
     "output_type": "stream",
     "text": [
      "Model: \"sequential_6\"\n",
      "_________________________________________________________________\n",
      "Layer (type)                 Output Shape              Param #   \n",
      "=================================================================\n",
      "vgg16 (Model)                (None, 4, 4, 512)         14714688  \n",
      "_________________________________________________________________\n",
      "flatten_6 (Flatten)          (None, 8192)              0         \n",
      "_________________________________________________________________\n",
      "dense_11 (Dense)             (None, 256)               2097408   \n",
      "_________________________________________________________________\n",
      "dense_12 (Dense)             (None, 1)                 257       \n",
      "=================================================================\n",
      "Total params: 16,812,353\n",
      "Trainable params: 2,097,665\n",
      "Non-trainable params: 14,714,688\n",
      "_________________________________________________________________\n"
     ]
    }
   ],
   "source": [
    "conv_base = get_conv_base()\n",
    "\n",
    "conv_base.trainable = False\n",
    "\n",
    "model = models.Sequential()\n",
    "model.add(conv_base)\n",
    "model.add(layers.Flatten())\n",
    "model.add(layers.Dense(256, activation='relu'))\n",
    "model.add(layers.Dense(1, activation='sigmoid'))\n",
    "\n",
    "model.compile(\n",
    "    loss='binary_crossentropy',\n",
    "    optimizer=optimizers.Adam(lr=0.001),\n",
    "    metrics=['acc'])\n",
    "\n",
    "model.summary()"
   ]
  },
  {
   "cell_type": "code",
   "execution_count": 30,
   "metadata": {},
   "outputs": [
    {
     "name": "stdout",
     "output_type": "stream",
     "text": [
      "Epoch 1/30\n",
      "100/100 [==============================] - 213s 2s/step - loss: 0.5232 - acc: 0.7560 - val_loss: 0.4561 - val_acc: 0.8810\n",
      "Epoch 2/30\n",
      "100/100 [==============================] - 279s 3s/step - loss: 0.3610 - acc: 0.8285 - val_loss: 0.1824 - val_acc: 0.8870\n",
      "Epoch 3/30\n",
      "100/100 [==============================] - 421s 4s/step - loss: 0.3451 - acc: 0.8445 - val_loss: 0.3770 - val_acc: 0.8910\n",
      "Epoch 4/30\n",
      "100/100 [==============================] - 423s 4s/step - loss: 0.3476 - acc: 0.8510 - val_loss: 0.1672 - val_acc: 0.8920\n",
      "Epoch 5/30\n",
      "100/100 [==============================] - 204s 2s/step - loss: 0.3382 - acc: 0.8510 - val_loss: 0.1344 - val_acc: 0.8680\n",
      "Epoch 6/30\n",
      "100/100 [==============================] - 231s 2s/step - loss: 0.3220 - acc: 0.8500 - val_loss: 0.1498 - val_acc: 0.8910\n",
      "Epoch 7/30\n",
      "100/100 [==============================] - 244s 2s/step - loss: 0.3174 - acc: 0.8570 - val_loss: 0.1008 - val_acc: 0.9010\n",
      "Epoch 8/30\n",
      "100/100 [==============================] - 245s 2s/step - loss: 0.3248 - acc: 0.8605 - val_loss: 0.4442 - val_acc: 0.8770\n",
      "Epoch 9/30\n",
      "100/100 [==============================] - 246s 2s/step - loss: 0.3267 - acc: 0.8520 - val_loss: 0.4023 - val_acc: 0.8980\n",
      "Epoch 10/30\n",
      "100/100 [==============================] - 246s 2s/step - loss: 0.3323 - acc: 0.8505 - val_loss: 0.1895 - val_acc: 0.8710\n",
      "Epoch 11/30\n",
      "100/100 [==============================] - 249s 2s/step - loss: 0.3207 - acc: 0.8550 - val_loss: 0.1610 - val_acc: 0.8950\n",
      "Epoch 12/30\n",
      "100/100 [==============================] - 246s 2s/step - loss: 0.2893 - acc: 0.8730 - val_loss: 0.3900 - val_acc: 0.8890\n",
      "Epoch 13/30\n",
      "100/100 [==============================] - 251s 3s/step - loss: 0.2870 - acc: 0.8730 - val_loss: 0.0589 - val_acc: 0.8890\n",
      "Epoch 14/30\n",
      "100/100 [==============================] - 250s 2s/step - loss: 0.2921 - acc: 0.8640 - val_loss: 0.0902 - val_acc: 0.8980\n",
      "Epoch 15/30\n",
      "100/100 [==============================] - 252s 3s/step - loss: 0.2762 - acc: 0.8805 - val_loss: 0.2829 - val_acc: 0.8960\n",
      "Epoch 16/30\n",
      "100/100 [==============================] - 250s 2s/step - loss: 0.2814 - acc: 0.8750 - val_loss: 0.1926 - val_acc: 0.8990\n",
      "Epoch 17/30\n",
      "100/100 [==============================] - 251s 3s/step - loss: 0.2997 - acc: 0.8660 - val_loss: 0.1072 - val_acc: 0.8940\n",
      "Epoch 18/30\n",
      "100/100 [==============================] - 242s 2s/step - loss: 0.2720 - acc: 0.8820 - val_loss: 0.3179 - val_acc: 0.9030\n",
      "Epoch 19/30\n",
      "100/100 [==============================] - 285s 3s/step - loss: 0.2705 - acc: 0.8820 - val_loss: 0.1600 - val_acc: 0.8910\n",
      "Epoch 20/30\n",
      "100/100 [==============================] - 310s 3s/step - loss: 0.2818 - acc: 0.8775 - val_loss: 0.2022 - val_acc: 0.8830\n",
      "Epoch 21/30\n",
      "100/100 [==============================] - 338s 3s/step - loss: 0.2806 - acc: 0.8795 - val_loss: 0.2644 - val_acc: 0.8990\n",
      "Epoch 22/30\n",
      "100/100 [==============================] - 338s 3s/step - loss: 0.2529 - acc: 0.8910 - val_loss: 0.1423 - val_acc: 0.9010\n",
      "Epoch 23/30\n",
      "100/100 [==============================] - 417s 4s/step - loss: 0.2629 - acc: 0.8770 - val_loss: 0.4590 - val_acc: 0.9010\n",
      "Epoch 24/30\n",
      "100/100 [==============================] - 273s 3s/step - loss: 0.2562 - acc: 0.8910 - val_loss: 0.5170 - val_acc: 0.8920\n",
      "Epoch 25/30\n",
      "100/100 [==============================] - 307s 3s/step - loss: 0.2562 - acc: 0.8825 - val_loss: 0.0600 - val_acc: 0.8870\n",
      "Epoch 26/30\n",
      "100/100 [==============================] - 300s 3s/step - loss: 0.2494 - acc: 0.8920 - val_loss: 0.1744 - val_acc: 0.8870\n",
      "Epoch 27/30\n",
      "100/100 [==============================] - 313s 3s/step - loss: 0.2393 - acc: 0.8985 - val_loss: 0.1454 - val_acc: 0.8910\n",
      "Epoch 28/30\n",
      "100/100 [==============================] - 331s 3s/step - loss: 0.2370 - acc: 0.9000 - val_loss: 0.2047 - val_acc: 0.8900\n",
      "Epoch 29/30\n",
      "100/100 [==============================] - 337s 3s/step - loss: 0.2601 - acc: 0.8905 - val_loss: 0.4150 - val_acc: 0.8870\n",
      "Epoch 30/30\n",
      "100/100 [==============================] - 365s 4s/step - loss: 0.2420 - acc: 0.8970 - val_loss: 0.1199 - val_acc: 0.8970\n"
     ]
    }
   ],
   "source": [
    "history = model.fit_generator(\n",
    "    train_generator,\n",
    "    steps_per_epoch=100,\n",
    "    epochs=30,\n",
    "    validation_data=validation_generator,\n",
    "    validation_steps=50)"
   ]
  },
  {
   "cell_type": "code",
   "execution_count": 31,
   "metadata": {},
   "outputs": [
    {
     "data": {
      "image/png": "[encoded data removed]",
      "text/plain": [
       "<Figure size 432x288 with 1 Axes>"
      ]
     },
     "metadata": {
      "needs_background": "light"
     },
     "output_type": "display_data"
    },
    {
     "data": {
      "image/png": "[encoded data removed]",
      "text/plain": [
       "<Figure size 432x288 with 1 Axes>"
      ]
     },
     "metadata": {
      "needs_background": "light"
     },
     "output_type": "display_data"
    }
   ],
   "source": [
    "display_training_history(history)"
   ]
  },
  {
   "cell_type": "code",
   "execution_count": 32,
   "metadata": {},
   "outputs": [],
   "source": [
    "model.save(f'{model_dir}/cats_and_dogs_small_4.h5')"
   ]
  },
  {
   "cell_type": "code",
   "execution_count": null,
   "metadata": {},
   "outputs": [],
   "source": []
  }
 ],
 "metadata": {
  "kernelspec": {
   "display_name": "Python 3",
   "language": "python",
   "name": "python3"
  },
  "language_info": {
   "codemirror_mode": {
    "name": "ipython",
    "version": 3
   },
   "file_extension": ".py",
   "mimetype": "text/x-python",
   "name": "python",
   "nbconvert_exporter": "python",
   "pygments_lexer": "ipython3",
   "version": "3.7.6"
  }
 },
 "nbformat": 4,
 "nbformat_minor": 4
}
