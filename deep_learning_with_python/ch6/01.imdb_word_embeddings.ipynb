{
 "cells": [
  {
   "cell_type": "markdown",
   "metadata": {},
   "source": [
    "# Train Classifier Using Word Embeddings"
   ]
  },
  {
   "cell_type": "code",
   "execution_count": 10,
   "metadata": {},
   "outputs": [],
   "source": [
    "from keras.datasets import imdb\n",
    "from keras import preprocessing\n",
    "from keras.models import Sequential\n",
    "from keras.layers import Flatten, Dense, Embedding, Dropout"
   ]
  },
  {
   "cell_type": "code",
   "execution_count": 3,
   "metadata": {},
   "outputs": [],
   "source": [
    "max_features = 10000\n",
    "maxlen = 20\n",
    "(x_train, y_train), (x_test, y_test) = imdb.load_data(num_words=max_features)\n",
    "\n",
    "x_train = preprocessing.sequence.pad_sequences(x_train, maxlen=maxlen)\n",
    "x_test = preprocessing.sequence.pad_sequences(x_test, maxlen=maxlen)"
   ]
  },
  {
   "cell_type": "code",
   "execution_count": 19,
   "metadata": {},
   "outputs": [
    {
     "name": "stdout",
     "output_type": "stream",
     "text": [
      "Model: \"sequential_6\"\n",
      "_________________________________________________________________\n",
      "Layer (type)                 Output Shape              Param #   \n",
      "=================================================================\n",
      "embedding_6 (Embedding)      (None, 20, 12)            120000    \n",
      "_________________________________________________________________\n",
      "flatten_6 (Flatten)          (None, 240)               0         \n",
      "_________________________________________________________________\n",
      "dropout_4 (Dropout)          (None, 240)               0         \n",
      "_________________________________________________________________\n",
      "dense_5 (Dense)              (None, 1)                 241       \n",
      "=================================================================\n",
      "Total params: 120,241\n",
      "Trainable params: 120,241\n",
      "Non-trainable params: 0\n",
      "_________________________________________________________________\n"
     ]
    }
   ],
   "source": [
    "model = Sequential()\n",
    "model.add(Embedding(12000, 8, input_length=maxlen))\n",
    "model.add(Flatten())\n",
    "model.add(Dropout(0.5))\n",
    "model.add(Dense(1, activation='sigmoid'))\n",
    "model.compile(optimizer='rmsprop', loss='binary_crossentropy', metrics=['acc'])\n",
    "model.summary()"
   ]
  },
  {
   "cell_type": "code",
   "execution_count": 21,
   "metadata": {},
   "outputs": [
    {
     "name": "stdout",
     "output_type": "stream",
     "text": [
      "Train on 20000 samples, validate on 5000 samples\n",
      "Epoch 1/20\n",
      "20000/20000 [==============================] - 2s 89us/step - loss: 0.3877 - acc: 0.8293 - val_loss: 0.4997 - val_acc: 0.7522\n",
      "Epoch 2/20\n",
      "20000/20000 [==============================] - 2s 102us/step - loss: 0.3804 - acc: 0.8319 - val_loss: 0.5014 - val_acc: 0.7510\n",
      "Epoch 3/20\n",
      "20000/20000 [==============================] - 2s 97us/step - loss: 0.3710 - acc: 0.8381 - val_loss: 0.5026 - val_acc: 0.7524\n",
      "Epoch 4/20\n",
      "20000/20000 [==============================] - 1s 70us/step - loss: 0.3643 - acc: 0.8426 - val_loss: 0.5050 - val_acc: 0.7514\n",
      "Epoch 5/20\n",
      "20000/20000 [==============================] - 2s 109us/step - loss: 0.3632 - acc: 0.8441 - val_loss: 0.5061 - val_acc: 0.7488\n",
      "Epoch 6/20\n",
      "20000/20000 [==============================] - 2s 99us/step - loss: 0.3515 - acc: 0.8487 - val_loss: 0.5083 - val_acc: 0.7512\n",
      "Epoch 7/20\n",
      "20000/20000 [==============================] - 2s 89us/step - loss: 0.3479 - acc: 0.8527 - val_loss: 0.5110 - val_acc: 0.7502\n",
      "Epoch 8/20\n",
      "20000/20000 [==============================] - 2s 104us/step - loss: 0.3382 - acc: 0.8547 - val_loss: 0.5142 - val_acc: 0.7494\n",
      "Epoch 9/20\n",
      "20000/20000 [==============================] - 2s 91us/step - loss: 0.3381 - acc: 0.8561 - val_loss: 0.5148 - val_acc: 0.7490\n",
      "Epoch 10/20\n",
      "20000/20000 [==============================] - 2s 105us/step - loss: 0.3340 - acc: 0.8585 - val_loss: 0.5175 - val_acc: 0.7496\n",
      "Epoch 11/20\n",
      "20000/20000 [==============================] - 2s 103us/step - loss: 0.3249 - acc: 0.8598 - val_loss: 0.5236 - val_acc: 0.7508\n",
      "Epoch 12/20\n",
      "20000/20000 [==============================] - 2s 94us/step - loss: 0.3216 - acc: 0.8652 - val_loss: 0.5258 - val_acc: 0.7504\n",
      "Epoch 13/20\n",
      "20000/20000 [==============================] - 2s 101us/step - loss: 0.3169 - acc: 0.8705 - val_loss: 0.5271 - val_acc: 0.7486\n",
      "Epoch 14/20\n",
      "20000/20000 [==============================] - 2s 92us/step - loss: 0.3172 - acc: 0.8682 - val_loss: 0.5306 - val_acc: 0.7478\n",
      "Epoch 15/20\n",
      "20000/20000 [==============================] - 2s 99us/step - loss: 0.3095 - acc: 0.8734 - val_loss: 0.5327 - val_acc: 0.7490\n",
      "Epoch 16/20\n",
      "20000/20000 [==============================] - 2s 100us/step - loss: 0.3072 - acc: 0.8719 - val_loss: 0.5359 - val_acc: 0.7498\n",
      "Epoch 17/20\n",
      "20000/20000 [==============================] - 2s 91us/step - loss: 0.3034 - acc: 0.8727 - val_loss: 0.5376 - val_acc: 0.7504\n",
      "Epoch 18/20\n",
      "20000/20000 [==============================] - 2s 98us/step - loss: 0.3021 - acc: 0.8741 - val_loss: 0.5413 - val_acc: 0.7504\n",
      "Epoch 19/20\n",
      "20000/20000 [==============================] - 2s 97us/step - loss: 0.2969 - acc: 0.8742 - val_loss: 0.5439 - val_acc: 0.7456\n",
      "Epoch 20/20\n",
      "20000/20000 [==============================] - 2s 105us/step - loss: 0.2979 - acc: 0.8784 - val_loss: 0.5450 - val_acc: 0.7462\n"
     ]
    }
   ],
   "source": [
    "history = model.fit(\n",
    "    x_train,\n",
    "    y_train,\n",
    "    epochs=20,\n",
    "    batch_size=32,\n",
    "    validation_split=0.2)"
   ]
  },
  {
   "cell_type": "code",
   "execution_count": null,
   "metadata": {},
   "outputs": [],
   "source": []
  }
 ],
 "metadata": {
  "kernelspec": {
   "display_name": "Python 3",
   "language": "python",
   "name": "python3"
  },
  "language_info": {
   "codemirror_mode": {
    "name": "ipython",
    "version": 3
   },
   "file_extension": ".py",
   "mimetype": "text/x-python",
   "name": "python",
   "nbconvert_exporter": "python",
   "pygments_lexer": "ipython3",
   "version": "3.7.6"
  }
 },
 "nbformat": 4,
 "nbformat_minor": 4
}
